{
 "cells": [
  {
   "cell_type": "code",
   "execution_count": 172,
   "id": "9567cdba-825d-4cb2-8805-dd351e815c68",
   "metadata": {},
   "outputs": [],
   "source": [
    "def once(func):\n",
    "    counter = 0\n",
    "    def wrapper(*args):\n",
    "        nonlocal counter\n",
    "        if counter == 0:\n",
    "            counter += 1\n",
    "            return func(*args)\n",
    "        return \"error\"\n",
    "    return wrapper\n",
    "\n",
    "@once\n",
    "def init_db():\n",
    "    print(\"Init!\")"
   ]
  },
  {
   "cell_type": "code",
   "execution_count": 187,
   "id": "d3543c33-0daf-49cb-831f-18d1ff04ba74",
   "metadata": {},
   "outputs": [],
   "source": [
    "import time\n",
    "def timer(func):\n",
    "    def wrapper(*args, **kwargs):\n",
    "        time_start = time.perf_counter()\n",
    "        func(*args, **kwargs)  \n",
    "        time_end = time.perf_counter()\n",
    "        return time.perf_counter() - time_start\n",
    "    return wrapper"
   ]
  },
  {
   "cell_type": "code",
   "execution_count": 189,
   "id": "8d380128-6403-4adf-8f6c-07f4fb0adf0d",
   "metadata": {},
   "outputs": [
    {
     "data": {
      "text/plain": [
       "2.673560813000222"
      ]
     },
     "execution_count": 189,
     "metadata": {},
     "output_type": "execute_result"
    }
   ],
   "source": [
    "from math import sqrt\n",
    "\n",
    "@timer\n",
    "def f():\n",
    "    N = 10_000_000\n",
    "    res = [sqrt(x) for x in range(N)]\n",
    "    \n",
    "f()"
   ]
  },
  {
   "cell_type": "code",
   "execution_count": 191,
   "id": "e0e6ec91-258f-48ee-874e-c7517fc9e0c1",
   "metadata": {},
   "outputs": [],
   "source": [
    "def add(func):\n",
    "        def wrapper(*args, **kwargs):\n",
    "            return func(*args, **kwargs) + 3\n",
    "        return wrapper\n",
    "def mult(func):\n",
    "    def wrapper(*args, **kwargs):\n",
    "        return func(*args, **kwargs) * 2\n",
    "    return wrapper"
   ]
  },
  {
   "cell_type": "code",
   "execution_count": 192,
   "id": "c70b8a05-4641-4c9f-9cbf-1a946f6ef761",
   "metadata": {},
   "outputs": [
    {
     "data": {
      "text/plain": [
       "10"
      ]
     },
     "execution_count": 192,
     "metadata": {},
     "output_type": "execute_result"
    }
   ],
   "source": [
    "@mult\n",
    "@add\n",
    "def f(x):\n",
    "    return x+1\n",
    "f(1)"
   ]
  },
  {
   "cell_type": "code",
   "execution_count": 196,
   "id": "0c9fa606-1d60-4e5c-81f9-b3de0a689b8b",
   "metadata": {},
   "outputs": [],
   "source": [
    "from functools import lru_cache"
   ]
  },
  {
   "cell_type": "code",
   "execution_count": 193,
   "id": "bcacc822-72be-4a2a-a8f8-7c2ab0bcf236",
   "metadata": {},
   "outputs": [
    {
     "data": {
      "text/plain": [
       "7"
      ]
     },
     "execution_count": 193,
     "metadata": {},
     "output_type": "execute_result"
    }
   ],
   "source": [
    "@add\n",
    "@mult\n",
    "def f(x):\n",
    "    return x+1\n",
    "f(1)"
   ]
  }
 ],
 "metadata": {
  "kernelspec": {
   "display_name": "Python 3 (ipykernel)",
   "language": "python",
   "name": "python3"
  },
  "language_info": {
   "codemirror_mode": {
    "name": "ipython",
    "version": 3
   },
   "file_extension": ".py",
   "mimetype": "text/x-python",
   "name": "python",
   "nbconvert_exporter": "python",
   "pygments_lexer": "ipython3",
   "version": "3.12.6"
  }
 },
 "nbformat": 4,
 "nbformat_minor": 5
}
