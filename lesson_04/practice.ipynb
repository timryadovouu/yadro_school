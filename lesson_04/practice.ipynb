{
 "cells": [
  {
   "cell_type": "code",
   "execution_count": 17,
   "metadata": {},
   "outputs": [
    {
     "name": "stdout",
     "output_type": "stream",
     "text": [
      "28\n",
      "36\n",
      "24\n",
      "24\n"
     ]
    }
   ],
   "source": [
    "import sys\n",
    "\n",
    "get_size = lambda x: sys.getsizeof(x)\n",
    "\n",
    "print(get_size(16))\n",
    "print(get_size(16_000_000_000_000_000_000))\n",
    "print(get_size(16.0))\n",
    "print(get_size(16_000_000_000_000_000_000.0))"
   ]
  }
 ],
 "metadata": {
  "kernelspec": {
   "display_name": "env312",
   "language": "python",
   "name": "python3"
  },
  "language_info": {
   "codemirror_mode": {
    "name": "ipython",
    "version": 3
   },
   "file_extension": ".py",
   "mimetype": "text/x-python",
   "name": "python",
   "nbconvert_exporter": "python",
   "pygments_lexer": "ipython3",
   "version": "3.12.4"
  }
 },
 "nbformat": 4,
 "nbformat_minor": 2
}
