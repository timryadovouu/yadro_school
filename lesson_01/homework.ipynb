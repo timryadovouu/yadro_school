{
 "cells": [
  {
   "cell_type": "markdown",
   "id": "1d227b09",
   "metadata": {},
   "source": [
    "# Парное выравнивание"
   ]
  },
  {
   "cell_type": "markdown",
   "id": "09ebf420",
   "metadata": {},
   "source": [
    "# Порядок сдачи домашнего"
   ]
  },
  {
   "cell_type": "markdown",
   "id": "b2e6a39f",
   "metadata": {
    "ExecuteTime": {
     "end_time": "2024-09-23T05:46:49.255523Z",
     "start_time": "2024-09-23T05:46:49.234264Z"
    }
   },
   "source": [
    "Вам требуется создать гит репозиторий куда вы будете складывать все ваши домашние. Под каждое домашнее вы создаете отдельную ветку куда вносите все изменения в рамках домашнего. Как только домашнее готово - создаете пулл реквест (обратите внимание что в пулл реквесте должны быть отражены все изменения в рамках домашнего). Ревьювера назначаете из таблицы - https://docs.google.com/spreadsheets/d/1vK6IgEqaqXniUJAQOOspiL_tx3EYTSXW1cUrMHAZFr8/edit?gid=0#gid=0\n",
    "Перед сдачей проверьте код, напишите тесты. Не забудьте про PEP8, например, с помощью flake8. Задание нужно делать в jupyter notebook.\n",
    "\n",
    "**Дедлайн - 30 сентября 10:00**"
   ]
  },
  {
   "cell_type": "markdown",
   "id": "d33c83c9",
   "metadata": {},
   "source": [
    "# Введение\n",
    "\n",
    "**Выравнивание последовательностей** — фундаментальный инструмент в биоинформатике, позволяющий сравнивать биологические последовательности (ДНК, РНК, белки) для выявления сходства, которое может указывать на функциональные, структурные или эволюционные связи между ними.\n",
    "\n",
    "**Парное выравнивание** подразумевает сравнение двух последовательностей для определения наилучшего соответствия между их элементами (нуклеотидами или аминокислотами). Существует два основных типа парного выравнивания:\n",
    "\n",
    "- **Глобальное выравнивание**: направлено на выравнивание всей длины двух последовательностей, максимально учитывая все элементы.\n",
    "- **Локальное выравнивание**: нацелено на поиск наилучшего соответствующего участка внутри двух последовательностей.\n",
    "\n",
    "В данном домашнем задании мы с вами сконцентрируемся на **глобальном выравнивании**."
   ]
  },
  {
   "cell_type": "markdown",
   "id": "3265888c",
   "metadata": {},
   "source": [
    "### Пример парного выравнивания\n",
    "\n",
    "Рассмотрим две нуклеотидные последовательности:\n",
    "\n",
    "```\n",
    "Последовательность 1 (Seq1): A G C T A C G A\n",
    "Последовательность 2 (Seq2): G C T A G A\n",
    "```\n",
    "\n",
    "**Глобальное выравнивание** (учитывает всю длину последовательностей):\n",
    "\n",
    "```\n",
    "Seq1: A G C T A C G A\n",
    "Seq2: - G C T A - G A\n",
    "```"
   ]
  },
  {
   "cell_type": "markdown",
   "id": "575fa50e",
   "metadata": {},
   "source": [
    "### Значение выравнивания последовательностей\n",
    "\n",
    "- **Эволюционные связи**: Сходство между последовательностями может указывать на общих предков.\n",
    "- **Функциональные домены**: Выравнивание помогает идентифицировать консервативные участки, важные для функции белка или нуклеиновой кислоты.\n",
    "- **Геномные исследования**: Используется для аннотации генов, предсказания структур и понимания генетических вариаций."
   ]
  },
  {
   "cell_type": "markdown",
   "id": "75ff52f7",
   "metadata": {},
   "source": [
    "## Алгоритм выравнивания\n",
    "\n",
    "- Для автоматизации процесса выравнивания используется **Алгоритм Нидлмана-Вунша**. Он предназначен для глобального выравнивания и использует динамическое программирование для нахождения оптимального выравнивания по всей длине последовательностей. \n",
    "- Для оценки сходства при выравнивании белковых последовательностей используется матрица **BLOSUM** (Blocks Substitution Matrix). Матрицы BLOSUM создаются на основе статистического анализа реальных белковых множественных выравниваний последовательностей."
   ]
  },
  {
   "cell_type": "markdown",
   "id": "5ee2122f",
   "metadata": {},
   "source": [
    "### Пример множественного выравнивания (для построения матрциы BLOSUM)\n",
    "\n",
    "Рассмотрим нуклеотидные последовательности:\n",
    "\n",
    "```\n",
    "Последовательность 1 (Seq1): A G C T A C G T G T C G C T G A A T C T A T G A C T\n",
    "Последовательность 2 (Seq2): G C T A G A G C A A G G C A A C T G C A T C T\n",
    "Последовательность 3 (Seq3): A C T G C A C C C A T G A A C C T C G C G C T\n",
    "Последовательность 4 (Seq4): A C T G C A C C C A T G A A C C T C T C G C T\n",
    "Последовательность 5 (Seq5): A C T G C A C C C A T G A A C C T C T C G C T\n",
    "Последовательность 6 (Seq6): A C T G C A C C C A T G A A C C T C T C A C T\n",
    "Последовательность 7 (Seq7): A C T G C A C C C A T G A A C C T C T C A C T\n",
    "```\n",
    "\n",
    "**Множественное выравнивание**:\n",
    "\n",
    "```\n",
    "Seq1: A G C T A C G T G T C G C T G A A T C T A T G A C T\n",
    "Seq2: - G C T A - G A G C A - A G G C A A C T G C A T C T\n",
    "Seq3: A - C T G - C A C C C - A T G A A C C T C G C G C T\n",
    "Seq4: A - C T G - C A C C C - A T G A A C C T C T C G C T\n",
    "Seq5: A - C T G - C A C C C - A T G A A C C T C T C G C T\n",
    "Seq6: A - C T G - C A C C C - A T G A A C C T C T C A C T\n",
    "Seq7: A - C T G - C A C C C - A T G A A C C T C T C A C T\n",
    "```"
   ]
  },
  {
   "cell_type": "markdown",
   "id": "fe15af34",
   "metadata": {},
   "source": [
    "Перед тем как приступать к реализации парного выравнивания давайте научимся считать матрицу BLOSUM."
   ]
  },
  {
   "cell_type": "markdown",
   "id": "4efffee5",
   "metadata": {},
   "source": [
    "# Матрица BLOSUM"
   ]
  },
  {
   "cell_type": "markdown",
   "id": "d424f7b8",
   "metadata": {
    "ExecuteTime": {
     "end_time": "2024-09-19T05:35:03.002840Z",
     "start_time": "2024-09-19T05:35:02.980986Z"
    }
   },
   "source": [
    "## Подсчет частот пар нуклеотидов\n",
    "\n",
    "### Шаг 1.1: Генерация пар нуклеотидов\n",
    "\n",
    "Напишите функцию `generate_pairs(alignments)`, которая проходит по всем позициям выравнивания и генерирует все возможные пары нуклеотидов в этой позиции.\n",
    "\n",
    "**Пример**:\n",
    "\n",
    "Рассмотрим на примере множественного выравнивания выше:\n",
    "\n",
    "```\n",
    "generate_pairs([\"A\", \"A\", \"G\"])\n",
    "[('A', 'A'), ('A', 'G'), ('A', 'G')]\n",
    "\n",
    "generate_pairs([\"T\", \"T\", \"T\"])\n",
    "[('T', 'T'), ('T', 'T'), ('T', 'T')]\n",
    "\n",
    "generate_pairs([\"G\", \"G\", \"-\"])\n",
    "[('G', 'G'), ('G', '-'), ('G', '-')]\n",
    "\n",
    "len(generate_pairs(['A', 'T', 'G', 'G', 'G', 'A', 'A']))\n",
    "21\n",
    "```"
   ]
  },
  {
   "cell_type": "code",
   "execution_count": 1,
   "id": "a693a08c",
   "metadata": {
    "ExecuteTime": {
     "end_time": "2024-09-20T07:42:12.795151Z",
     "start_time": "2024-09-20T07:42:12.788005Z"
    }
   },
   "outputs": [],
   "source": [
    "alignments = [\"AGCTACGTGTCGCTGAATCTATGACT\", \n",
    "              \"-GCTA-GAGCA-AGGCAACTGCATCT\", \n",
    "              \"A-CTG-CACCC-ATGAACCTCGCGCT\",\n",
    "              \"A-CTG-CACCC-ATGAACCTCTCGCT\",\n",
    "              \"A-CTG-CACCC-ATGAACCTCTCGCT\",\n",
    "              \"A-CTG-CACCC-ATGAACCTCTCACT\",\n",
    "              \"A-CTG-CACCC-ATGAACCTCTCACT\"\n",
    "             ]"
   ]
  },
  {
   "cell_type": "code",
   "execution_count": 2,
   "id": "cc0fda11",
   "metadata": {
    "ExecuteTime": {
     "end_time": "2024-09-20T07:42:12.798926Z",
     "start_time": "2024-09-20T07:42:12.796705Z"
    }
   },
   "outputs": [],
   "source": [
    "def generate_pairs(alignments):\n",
    "    answer = []\n",
    "    for line in zip(*alignments):\n",
    "        for i in range(len(line)-1):\n",
    "            for j in range(1, len(line)-i):\n",
    "                answer.append((line[i], line[j+i]))\n",
    "    return answer\n",
    "    \n",
    "# print(generate_pairs(alignments))"
   ]
  },
  {
   "cell_type": "code",
   "execution_count": 3,
   "id": "9ec5b058-5f27-49f8-a9c2-3c0fb9271f40",
   "metadata": {},
   "outputs": [
    {
     "name": "stdout",
     "output_type": "stream",
     "text": [
      "everything is working fine!\n"
     ]
    }
   ],
   "source": [
    "def test_generate_pairs():\n",
    "    alignments = [\"A\", \"A\", \"G\"]\n",
    "    expected = [('A', 'A'), ('A', 'G'), ('A', 'G')]\n",
    "    result = generate_pairs(alignments)\n",
    "    assert result == expected, f\"Expected {expected}, but got {result}\"\n",
    "\n",
    "    alignments = [\"T\", \"T\", \"T\"]\n",
    "    expected = [('T', 'T'), ('T', 'T'), ('T', 'T')]\n",
    "    result = generate_pairs(alignments)\n",
    "    assert result == expected, f\"Expected {expected}, but got {result}\"\n",
    "\n",
    "    alignments = [\"G\", \"G\", \"-\"]\n",
    "    expected = [('G', 'G'), ('G', '-'), ('G', '-')]\n",
    "    result = generate_pairs(alignments)\n",
    "    assert result == expected, f\"Expected {expected}, but got {result}\"\n",
    "    \n",
    "    return \"everything is working fine!\"\n",
    "\n",
    "print(test_generate_pairs())"
   ]
  },
  {
   "cell_type": "markdown",
   "id": "b2a33a17",
   "metadata": {},
   "source": [
    "### Шаг 1.2: Подсчет частот пар\n",
    "\n",
    "Используйте полученные пары для подсчета частоты каждой пары нуклеотидов. Создайте словарь `pair_counts`, где ключом является кортеж из двух нуклеотидов, а значением — количество их совместных появлений. Пропуски в выравнивании нужно пропускать (если один из символ в выравнивании `'-'`)\n",
    "\n",
    "**Подсказка**: Учитывайте, что матрица симметрична, поэтому пары `('A','G')` и `('G','A')` должны считаться одинаковыми.\n",
    "\n",
    "**Пример**:\n",
    "\n",
    "```\n",
    "pair_counts = count_pairs(alignments)\n",
    "pair_counts\n",
    "{('A', 'A'): 38, ('G', 'G'): 16, ('C', 'C'): 57, ('T', 'T'): 39, ('A', 'G'): 11,\n",
    " ('C', 'G'): 19, ('A', 'T'): 8, ('C', 'T'): 10, ('A', 'C'): 21, ('G', 'T'): 8}}\n",
    "```"
   ]
  },
  {
   "cell_type": "code",
   "execution_count": 4,
   "id": "70cc891c",
   "metadata": {
    "ExecuteTime": {
     "end_time": "2024-09-20T07:42:12.805520Z",
     "start_time": "2024-09-20T07:42:12.803627Z"
    }
   },
   "outputs": [
    {
     "name": "stdout",
     "output_type": "stream",
     "text": [
      "{('A', 'A'): 85, ('G', 'G'): 37, ('C', 'C'): 143, ('T', 'T'): 88, ('A', 'G'): 21, ('C', 'G'): 31, ('A', 'T'): 10, ('C', 'T'): 16, ('A', 'C'): 33, ('G', 'T'): 14}\n"
     ]
    }
   ],
   "source": [
    "def count_pairs(alignments):\n",
    "    result = dict()\n",
    "    for pair in generate_pairs(alignments):\n",
    "        if \"-\" not in pair:\n",
    "            sorted_pair = tuple(sorted(pair))\n",
    "            result[sorted_pair] = result.get(sorted_pair, 0) + 1\n",
    "    # 478\n",
    "    return result\n",
    "    \n",
    "print(count_pairs(alignments))"
   ]
  },
  {
   "cell_type": "code",
   "execution_count": 6,
   "id": "42884fe5-e68c-4e02-843e-5acf8f94c8a5",
   "metadata": {},
   "outputs": [
    {
     "name": "stdout",
     "output_type": "stream",
     "text": [
      "everything is working fine!\n"
     ]
    }
   ],
   "source": [
    "def test_count_pairs():\n",
    "    result_empty = count_pairs([\"\", \"\", \"\"])\n",
    "    assert result_empty == {}, f\"Expected {{}} for empty alignments, but got {result_empty}\"\n",
    "\n",
    "    alignments_with_gaps = [\"A\", \"G\", \"-\"]\n",
    "    expected_with_gaps = {('A', 'G'): 1}\n",
    "    result_with_gaps = count_pairs(alignments_with_gaps)\n",
    "    assert result_with_gaps == expected_with_gaps, f\"Expected {expected_with_gaps}, but got {result_with_gaps}\"\n",
    "\n",
    "    return \"everything is working fine!\"\n",
    "\n",
    "print(test_count_pairs())"
   ]
  },
  {
   "cell_type": "markdown",
   "id": "528faeca",
   "metadata": {},
   "source": [
    "## Вычисление ожидаемых частот"
   ]
  },
  {
   "cell_type": "markdown",
   "id": "351ef841",
   "metadata": {
    "ExecuteTime": {
     "end_time": "2024-09-19T07:27:32.026037Z",
     "start_time": "2024-09-19T07:27:32.008635Z"
    }
   },
   "source": [
    "Реализуйте функцию `calculate_frequencies`, которая будет вычислять частоту нуклеотида по множественному выравниванию\n",
    "\n",
    "**Пример**:\n",
    "\n",
    "```\n",
    "freqs = calculate_frequencies(alignments)\n",
    "print(\"Частоты:\")\n",
    "for x, freq in freqs.items():\n",
    "    print(f\"{x}: {freq:.4f}\")\n",
    "    \n",
    "Частоты:\n",
    "A: 0.2439\n",
    "G: 0.1585\n",
    "C: 0.3780\n",
    "T: 0.2195\n",
    "```"
   ]
  },
  {
   "cell_type": "code",
   "execution_count": 7,
   "id": "ae017aee",
   "metadata": {
    "ExecuteTime": {
     "end_time": "2024-09-20T07:55:17.618141Z",
     "start_time": "2024-09-20T07:55:17.610470Z"
    }
   },
   "outputs": [
    {
     "name": "stdout",
     "output_type": "stream",
     "text": [
      "A: 0.2439\n",
      "G: 0.1585\n",
      "C: 0.3780\n",
      "T: 0.2195\n"
     ]
    }
   ],
   "source": [
    "def calculate_frequencies(alignments):\n",
    "    freqs = dict()\n",
    "    counter = 0\n",
    "    \n",
    "    for line in alignments:\n",
    "        for char in line:\n",
    "            if char != \"-\":\n",
    "                freqs[char] = freqs.get(char, 0) +1\n",
    "                counter += 1\n",
    "    return {char:freqs[char] / counter for char in freqs}\n",
    "\n",
    "\n",
    "for x, freq in calculate_frequencies(alignments).items():\n",
    "    print(f\"{x}: {freq:.4f}\")"
   ]
  },
  {
   "cell_type": "code",
   "execution_count": 8,
   "id": "9b34b2e0-6062-48e9-92a0-01f527b698e1",
   "metadata": {},
   "outputs": [
    {
     "name": "stdout",
     "output_type": "stream",
     "text": [
      "everything is working fine!\n"
     ]
    }
   ],
   "source": [
    "def test_calculate_frequencies():\n",
    "    expected = {'A': 0.2439, 'G': 0.1585, 'C': 0.3780, 'T': 0.2195}\n",
    "    result = calculate_frequencies(alignments)\n",
    "    for key in expected:\n",
    "        assert abs(result[key] - expected[key]) < 0.0001, f\"Expected {expected[key]} for {key}, but got {result[key]}\"\n",
    "\n",
    "    result_empty = calculate_frequencies([\"\", \"\", \"\"])\n",
    "    assert result_empty == {}, f\"Expected {{}} for empty alignments, but got {result_empty}\"\n",
    "\n",
    "    alignments_with_gaps = [\"A\", \"G\", \"-\"]\n",
    "    expected_with_gaps = {'A': 0.5, 'G': 0.5}\n",
    "    result_with_gaps = calculate_frequencies(alignments_with_gaps)\n",
    "    for key in expected_with_gaps:\n",
    "        assert abs(result_with_gaps[key] - expected_with_gaps[key]) < 0.0001, f\"Expected {expected_with_gaps[key]} for {key}, but got {result_with_gaps[key]}\"\n",
    "\n",
    "    return \"everything is working fine!\"\n",
    "\n",
    "print(test_calculate_frequencies())"
   ]
  },
  {
   "cell_type": "markdown",
   "id": "6bcd02ff",
   "metadata": {},
   "source": [
    "##  Расчет логарифмических коэффициентов"
   ]
  },
  {
   "cell_type": "markdown",
   "id": "056d0896",
   "metadata": {},
   "source": [
    "- Для каждой пары нуклеотидов `(x, y)` вычислите логарифмический коэффициент замены по формуле:\n",
    "\n",
    "\n",
    "$$S(x, y) = scale * \\log_2 \\left( \\frac{observed\\_freq[x, y]}{expected\\_freq[x, y]} \\right)$$\n",
    "\n",
    "- Здесь `observed_freq` — наблюдаемая частота пары из `pair_counts` деленное на общее количество пар, а `expected_freq` — ожидаемая частота, которую можно вычислить как `expected_freq[x, y] = freqs[x] * freqs[y]`\n",
    "\n",
    "- Для удобства представления округлите значения `S(x, y)` до целых чисел, умножив на масштабный фактор (например, 3).\n",
    "\n",
    "**Пример:**\n",
    "\n",
    "```python\n",
    "scores = calculate_scores(pair_counts, freqs)\n",
    "scores\n",
    "{('A', 'A'): 4, ('G', 'G'): 4, ('C', 'C'): 2, ('T', 'T'): 6, ('A', 'G'): 1,\n",
    " ('C', 'G'): 1, ('A', 'T'): -1, ('C', 'T'): -2, ('A', 'C'): 0, ('G', 'T'): 0}\n",
    "```\n"
   ]
  },
  {
   "cell_type": "code",
   "execution_count": 9,
   "id": "96bfcb12",
   "metadata": {
    "ExecuteTime": {
     "end_time": "2024-09-20T07:57:32.470771Z",
     "start_time": "2024-09-20T07:57:32.458314Z"
    }
   },
   "outputs": [
    {
     "name": "stdout",
     "output_type": "stream",
     "text": [
      "('A', 'A'): 5.0000\n",
      "('G', 'G'): 5.0000\n",
      "('C', 'C'): 3.0000\n",
      "('T', 'T'): 6.0000\n",
      "('A', 'G'): 1.0000\n",
      "('C', 'G'): 0.0000\n",
      "('A', 'T'): -4.0000\n",
      "('C', 'T'): -4.0000\n",
      "('A', 'C'): -1.0000\n",
      "('G', 'T'): -1.0000\n"
     ]
    }
   ],
   "source": [
    "import math \n",
    "# def calculate_scores(pair_counts, freqs, scale=3):\n",
    "    # pass\n",
    "def calculate_scores(pair_counts, freqs, scale=3):\n",
    "    return {pair:round(scale*math.log((pair_counts[pair]/sum(pair_counts.values()))/(freqs[pair[0]]*freqs[pair[1]]), 2)) \n",
    "            if sum(pair_counts.values()) else 0 for pair in pair_counts}\n",
    "    \n",
    "\n",
    "for pair, freq in calculate_scores(count_pairs(alignments), calculate_frequencies(alignments)).items():\n",
    "    print(f\"{pair}: {freq:.4f}\")"
   ]
  },
  {
   "cell_type": "code",
   "execution_count": 11,
   "id": "02ae8d52-7d37-4759-8efe-897766f47310",
   "metadata": {},
   "outputs": [
    {
     "name": "stdout",
     "output_type": "stream",
     "text": [
      "everything is working fine!\n"
     ]
    }
   ],
   "source": [
    "def test_calculate_scores():\n",
    "    pair_counts = {('A', 'A'): 85, ('G', 'G'): 37, ('C', 'C'): 143, ('T', 'T'): 88, ('A', 'G'): 21, \n",
    "                   ('C', 'G'): 31, ('A', 'T'): 10, ('C', 'T'): 16, ('A', 'C'): 33, ('G', 'T'): 14}\n",
    "    freqs = {'A': 0.2439, 'G': 0.1585, 'C': 0.3780, 'T': 0.2195}\n",
    "\n",
    "    # Тест 1\n",
    "    expected_scores = {('A', 'A'): 5, ('G', 'G'): 5, ('C', 'C'): 3, ('T', 'T'): 6, ('A', 'G'): 1,\n",
    "                       ('C', 'G'): 0, ('A', 'T'): -4, ('C', 'T'): -4, ('A', 'C'): -1, ('G', 'T'): -1}\n",
    "\n",
    "    result = calculate_scores(pair_counts, freqs)\n",
    "    for key in expected_scores:\n",
    "        assert abs(result[key] - expected_scores[key]) < 0.0001, f\"Expected {expected_scores[key]} for {key}, but got {result[key]}\"\n",
    "\n",
    "    # Тест 2: Проверка на пустые данные\n",
    "    result_empty = calculate_scores({}, {})\n",
    "    assert result_empty == {}, f\"Expected {{}} for empty data, but got {result_empty}\"\n",
    "\n",
    "    # Тест 3: Проверка на данные с нулевыми частотами\n",
    "    pair_counts_zero_freq = {('A', 'A'): 0}\n",
    "    freqs_zero = {'A': 0.0}\n",
    "    result_zero_freq = calculate_scores(pair_counts_zero_freq, freqs_zero)\n",
    "    assert result_zero_freq == {('A', 'A'): 0}, f\"Expected -inf for zero frequencies, but got {result_zero_freq}\"\n",
    "\n",
    "    return \"everything is working fine!\"\n",
    "\n",
    "print(test_calculate_scores())    "
   ]
  },
  {
   "cell_type": "markdown",
   "id": "876ab787",
   "metadata": {},
   "source": [
    "\n",
    "## Составление матрицы BLOSUM\n",
    "\n",
    "### Шаг 4.1: Заполнение матрицы\n",
    "\n",
    "- Реализуйте функцию `create_blosum_matrix`, для создания BLOSUM матрицы.\n",
    "- Используйте рассчитанные ранее логарифмические коэффициенты `scores` для заполнения матрицы.\n",
    "- Учитывайте, что матрица симметрична: `S(x, y) = S(y, x)`.\n",
    "\n",
    "**Пример:**\n",
    "\n",
    "```python\n",
    "blosum_matrix = create_blosum_matrix(scores, nucleotides)\n",
    "blosum_matrix\n",
    "{'A': {'A': 4, 'G': 1, 'C': 0, 'T': -1},\n",
    " 'G': {'A': 1, 'G': 4, 'C': 1, 'T': 0},\n",
    " 'C': {'A': 0, 'G': 1, 'C': 2, 'T': -2},\n",
    " 'T': {'A': -1, 'G': 0, 'C': -2, 'T': 6}}\n",
    "```\n"
   ]
  },
  {
   "cell_type": "code",
   "execution_count": 12,
   "id": "e28e3f2c",
   "metadata": {
    "ExecuteTime": {
     "end_time": "2024-09-20T07:49:45.687263Z",
     "start_time": "2024-09-20T07:49:45.676996Z"
    }
   },
   "outputs": [
    {
     "data": {
      "text/plain": [
       "{'A': {'A': 5, 'G': 1, 'C': -1, 'T': -4},\n",
       " 'G': {'A': 1, 'G': 5, 'C': 0, 'T': -1},\n",
       " 'C': {'A': -1, 'G': 0, 'C': 3, 'T': -4},\n",
       " 'T': {'A': -4, 'G': -1, 'C': -4, 'T': 6}}"
      ]
     },
     "execution_count": 12,
     "metadata": {},
     "output_type": "execute_result"
    }
   ],
   "source": [
    "def get_nucleotides():\n",
    "    return [\"A\", \"G\", \"C\", \"T\"]\n",
    "\n",
    "def create_blosum_matrix(scores, nucleotides=get_nucleotides()):\n",
    "    result = {char:{ch:0 for ch in nucleotides} for char in nucleotides}\n",
    "    for pair in scores:\n",
    "        x, y = pair\n",
    "        score = scores.get(pair, 0)\n",
    "        result[x][y] = score\n",
    "        result[y][x] = score\n",
    "\n",
    "    return result\n",
    "\n",
    "blosum_matrix = create_blosum_matrix(calculate_scores(count_pairs(alignments),calculate_frequencies(alignments)))\n",
    "blosum_matrix"
   ]
  },
  {
   "cell_type": "code",
   "execution_count": 13,
   "id": "f26d3359-c922-47fb-85a8-796687f1d3d5",
   "metadata": {},
   "outputs": [
    {
     "name": "stdout",
     "output_type": "stream",
     "text": [
      "everything is working fine!\n"
     ]
    }
   ],
   "source": [
    "def test_create_blosum_matrix():\n",
    "    scores = {('A', 'A'): 1, ('G', 'G'): 2, ('C', 'C'): 3, ('T', 'T'): 4, ('A', 'G'): 5}\n",
    "    nucleotides = ['A', 'G', 'C', 'T']\n",
    "\n",
    "    expected_matrix = {\n",
    "        'A': {'A': 1, 'G': 5, 'C': 0, 'T': 0},\n",
    "        'G': {'A': 5, 'G': 2, 'C': 0, 'T': 0},\n",
    "        'C': {'A': 0, 'G': 0, 'C': 3, 'T': 0},\n",
    "        'T': {'A': 0, 'G': 0, 'C': 0, 'T': 4},\n",
    "    }\n",
    "    result = create_blosum_matrix(scores, nucleotides)\n",
    "    assert result == expected_matrix, f\"Expected {expected_matrix}, but got {result}\"\n",
    "\n",
    "    \n",
    "    result_empty = create_blosum_matrix({}, [])\n",
    "    assert result_empty == {}, f\"Expected {{}} for empty data, but got {result_empty}\"\n",
    "\n",
    "    \n",
    "    scores_single = {('A', 'A'): 1}\n",
    "    nucleotides_single = ['A']\n",
    "    expected_single = {'A': {'A': 1}}\n",
    "    result_single = create_blosum_matrix(scores_single, nucleotides_single)\n",
    "    assert result_single == expected_single, f\"Expected {expected_single}, but got {result_single}\"\n",
    "\n",
    "    return \"everything is working fine!\"\n",
    "\n",
    "print(test_create_blosum_matrix())"
   ]
  },
  {
   "cell_type": "markdown",
   "id": "f3b9efbe",
   "metadata": {
    "ExecuteTime": {
     "end_time": "2024-09-19T07:55:20.436835Z",
     "start_time": "2024-09-19T07:55:20.420618Z"
    }
   },
   "source": [
    "### Шаг 4.2: Вывод матрицы\n",
    "\n",
    "- Выведите матрицу BLOSUM в удобочитаемом формате, например, как таблицу с заголовками.\n",
    "\n",
    "**Пример:**\n",
    "\n",
    "```python\n",
    "print_blosum_matrix(blosum_matrix, nucleotides)\n",
    "    A   G   C   T\n",
    "A   4   1   0  -1\n",
    "G   1   4   1   0\n",
    "C   0   1   2  -2\n",
    "T  -1   0  -2   6\n",
    "```"
   ]
  },
  {
   "cell_type": "code",
   "execution_count": 14,
   "id": "93ee6754",
   "metadata": {
    "ExecuteTime": {
     "end_time": "2024-09-20T07:50:02.894882Z",
     "start_time": "2024-09-20T07:50:02.881450Z"
    }
   },
   "outputs": [
    {
     "name": "stdout",
     "output_type": "stream",
     "text": [
      "     A    G    C    T   \n",
      "A    5    1   -1   -4\n",
      "G    1    5    0   -1\n",
      "C   -1    0    3   -4\n",
      "T   -4   -1   -4    6\n"
     ]
    }
   ],
   "source": [
    "def print_blosum_matrix(matrix, nucleotides=get_nucleotides()):\n",
    "    header = [\" \"] + nucleotides\n",
    "    result = [[item.ljust(4) for item in header]] + [[item]+list(map(lambda x:str(round(x, 1)).rjust(4), matrix[item].values())) for item in matrix]\n",
    "    [print(\" \".join(row)) for row in result]\n",
    "\n",
    "print_blosum_matrix(matrix=create_blosum_matrix(calculate_scores(count_pairs(alignments), calculate_frequencies(alignments))))"
   ]
  },
  {
   "cell_type": "markdown",
   "id": "990c0c7a",
   "metadata": {},
   "source": [
    "## Визуализация результатов\n",
    "\n",
    "Запустите код для визуализации результатов. Потребуется установить пакеты через `pip install numpy`"
   ]
  },
  {
   "cell_type": "code",
   "execution_count": null,
   "id": "fb0827a9-192d-423f-b6d2-ff368d735a47",
   "metadata": {},
   "outputs": [],
   "source": [
    "pip install seaborn"
   ]
  },
  {
   "cell_type": "code",
   "execution_count": 15,
   "id": "e6dc51ef",
   "metadata": {
    "ExecuteTime": {
     "end_time": "2024-09-20T07:50:05.193727Z",
     "start_time": "2024-09-20T07:50:05.053305Z"
    }
   },
   "outputs": [
    {
     "data": {
      "image/png": "[encoded data removed]",
      "text/plain": [
       "<Figure size 1000x800 with 2 Axes>"
      ]
     },
     "metadata": {},
     "output_type": "display_data"
    }
   ],
   "source": [
    "import numpy as np\n",
    "import seaborn as sns\n",
    "import matplotlib.pyplot as plt\n",
    "\n",
    "def visualize_blosum_matrix(matrix, nucleotides=get_nucleotides()):\n",
    "    data = np.array([[matrix[x][y] for y in nucleotides] for x in nucleotides])\n",
    "    plt.figure(figsize=(10, 8))\n",
    "    sns.heatmap(data, xticklabels=nucleotides, yticklabels=nucleotides, annot=True, cmap=\"coolwarm\")\n",
    "    plt.title(\"Матрица BLOSUM\")\n",
    "    plt.show()\n",
    "\n",
    "# Пример использования\n",
    "visualize_blosum_matrix(blosum_matrix)"
   ]
  },
  {
   "cell_type": "markdown",
   "id": "ea3ccc74",
   "metadata": {},
   "source": [
    "# Реализация алгоритма Нидлмана-Вунша"
   ]
  },
  {
   "cell_type": "markdown",
   "id": "5c4b370c",
   "metadata": {},
   "source": [
    "### Шаг 5: Инициализация матрицы динамического программирования\n",
    "\n",
    "Теперь перейдём к реализации алгоритма [Нидлмана-Вунша](https://en.wikipedia.org/wiki/Needleman%E2%80%93Wunsch_algorithm).\n",
    "\n",
    "Реализуйте функцию `init`, которая по $m, n$ и ошибке $\\sigma$ строит матрицу c $m + 1$ строкой и $n + 1$ столбцом:\n",
    "\n",
    "$$A_{m,n} = \\begin{pmatrix} 0 & -\\sigma & \\cdots & -n \\sigma \\\\ -\\sigma & 0 & \\cdots & 0 \\\\ \\vdots & \\vdots & \\ddots & \\vdots \\\\ -m\\sigma & 0 & \\cdots & 0 \\end{pmatrix} $$\n",
    "\n",
    "**Пример:**\n",
    "\n",
    "```python\n",
    "print(init(3, 3, 4))\n",
    "[[0, -4, -8, -12], [-4, 0, 0, 0], [-8, 0, 0, 0], [-12, 0, 0, 0]]\n",
    "```"
   ]
  },
  {
   "cell_type": "code",
   "execution_count": 16,
   "id": "c283ca17",
   "metadata": {
    "ExecuteTime": {
     "end_time": "2024-09-20T07:42:13.891859Z",
     "start_time": "2024-09-20T07:42:13.889917Z"
    }
   },
   "outputs": [
    {
     "name": "stdout",
     "output_type": "stream",
     "text": [
      "[[0, -4, -8, -12], [-4, 0, 0, 0], [-8, 0, 0, 0], [-12, 0, 0, 0]]\n"
     ]
    }
   ],
   "source": [
    "def init(rows, cols, gap_penalty=10):\n",
    "    matrix = [[0]*(cols+1) for _ in range(rows+1)]\n",
    "\n",
    "    for j in range(1, cols + 1):\n",
    "        matrix[0][j] = -j * gap_penalty\n",
    "    for i in range(1, rows + 1):\n",
    "        matrix[i][0] = -i * gap_penalty\n",
    "    return matrix\n",
    "\n",
    "print(init(3, 3, 4))"
   ]
  },
  {
   "cell_type": "code",
   "execution_count": 17,
   "id": "6e21a8c5-3ccf-46c0-9e9f-bdc88cf10427",
   "metadata": {},
   "outputs": [
    {
     "name": "stdout",
     "output_type": "stream",
     "text": [
      "everything is working fine!\n"
     ]
    }
   ],
   "source": [
    "def test_init():\n",
    "    rows, cols = 3, 5\n",
    "    expected_matrix = [\n",
    "        [0, -10, -20, -30, -40, -50],\n",
    "        [-10, 0, 0, 0, 0, 0],\n",
    "        [-20, 0, 0, 0, 0, 0],\n",
    "        [-30, 0, 0, 0, 0, 0]\n",
    "    ]\n",
    "    result = init(rows, cols)\n",
    "    assert result == expected_matrix, f\"Expected {expected_matrix}, but got {result}\"\n",
    "\n",
    "    expected_single_row = [[0, -10], [-10, 0]]\n",
    "    result_single_row = init(1, 1)\n",
    "    assert result_single_row == expected_single_row, f\"Expected {expected_single_row}, but got {result_single_row}\"\n",
    "\n",
    "    expected_zero = [[0]]\n",
    "    result_zero = init(0, 0)\n",
    "    assert result_zero == expected_zero, f\"Expected {expected_zero}, but got {result_zero}\"\n",
    "\n",
    "    return \"everything is working fine!\"\n",
    "\n",
    "print(test_init())"
   ]
  },
  {
   "cell_type": "markdown",
   "id": "bfeb18d8",
   "metadata": {
    "ExecuteTime": {
     "end_time": "2024-09-20T05:07:36.025808Z",
     "start_time": "2024-09-20T05:07:36.015828Z"
    }
   },
   "source": [
    "### Шаг 6: Заполнение матрицы динамического программирования"
   ]
  },
  {
   "cell_type": "markdown",
   "id": "6cf519aa",
   "metadata": {},
   "source": [
    "Пусть `a` и `b` - две последовательности, которые хотим выравнять. Теперь имея пустую матрицу, нужно научиться её заполнять. Для этого вспомним, как вычисляется очередной элемент матрицы:\n",
    "\n",
    "$$A_{i \\ j} = max \\begin{cases} A_{i-1 \\ j-1} + s(a_{i},b_{j}) & \\ \\text{Match / Mismatch}\\\\ A_{i \\ j-1} - \\sigma & \\ \\text{Insertion} \\\\ A_{i-1\\ j} - \\sigma & \\ \\text{Deletion} \\end{cases}$$\n",
    "\n",
    "где $s(a_{i},b_{j})$ - значение матрицы BLOSUM для нуклеотидов $a_{i}$ и $b_{j}$, $\\sigma$ - штраф за пропуск символа в выравнивании (параметр)"
   ]
  },
  {
   "cell_type": "markdown",
   "id": "29cceaaf",
   "metadata": {},
   "source": [
    "### Шаг 7: Вычисление значения матрицы"
   ]
  },
  {
   "cell_type": "markdown",
   "id": "13d9795b",
   "metadata": {},
   "source": [
    "Реализуйте функцию `get_new_score`, которая принимает на вход 5 параметров - `up` ($A_{i-1\\ j}$), `left` ($A_{i \\ j-1}$), `middle` ($A_{i-1 \\ j-1}$), `s_score` ($s(a_{i},b_{j})$), `gap_penalty` ($\\sigma$), и вычисляет значение для матрицы $A_{i\\ j}$\n",
    "\n",
    "**Пример:**\n",
    "\n",
    "```python\n",
    "print(get_new_score(0, 10, 2, 0, 2))\n",
    "8\n",
    "print(get_new_score(-16, -7, -14, 0, 2))\n",
    "-9\n",
    "```"
   ]
  },
  {
   "cell_type": "code",
   "execution_count": 18,
   "id": "6aba390b",
   "metadata": {
    "ExecuteTime": {
     "end_time": "2024-09-20T07:42:13.901858Z",
     "start_time": "2024-09-20T07:42:13.899848Z"
    }
   },
   "outputs": [],
   "source": [
    "def get_new_score(up, left, middle, s_score, gap_penalty):\n",
    "    return max(middle+s_score,left-gap_penalty, up-gap_penalty)\n"
   ]
  },
  {
   "cell_type": "code",
   "execution_count": 19,
   "id": "2ebb91de-f022-4869-93dc-011b517ec41b",
   "metadata": {},
   "outputs": [],
   "source": [
    "assert get_new_score(0, 10, 2, 0, 2) == 8\n",
    "assert get_new_score(-16, -7, -14, 0, 2) == -9"
   ]
  },
  {
   "cell_type": "markdown",
   "id": "c4efe8f2",
   "metadata": {},
   "source": [
    "### Шаг 8 Заполнение матрицы"
   ]
  },
  {
   "cell_type": "markdown",
   "id": "2139631a",
   "metadata": {},
   "source": [
    "Реализуйте функцию `align`,  которая на вход принимает две последовательности ДНК, штраф за пропуск ($\\sigma$), матрицу BLOSUM и возвращает заполненную матрицу `A`.\n",
    "\n",
    "**Пример:**\n",
    "\n",
    "```python\n",
    "top_seq = \"AGTACGCA\"\n",
    "bottom_seq = \"TATGC\"\n",
    "gap_penalty = 2\n",
    "\n",
    "print(align(top_seq, bottom_seq, gap_penalty, blosum_matrix))\n",
    "[[0, -2, -4, -6, -8, -10, -12, -14, -16],\n",
    " [-2, -1, -2, 2, 0, -2, -4, -6, -8],\n",
    " [-4, 2, 0, 0, 6, 4, 2, 0, -2],\n",
    " [-6, 0, 2, 6, 4, 4, 4, 2, 0],\n",
    " [-8, -2, 4, 4, 7, 5, 8, 6, 4],\n",
    " [-10, -4, 2, 2, 5, 9, 7, 10, 8]]\n",
    "```"
   ]
  },
  {
   "cell_type": "code",
   "execution_count": 20,
   "id": "889554a2",
   "metadata": {
    "ExecuteTime": {
     "end_time": "2024-09-20T07:42:13.907603Z",
     "start_time": "2024-09-20T07:42:13.906050Z"
    }
   },
   "outputs": [],
   "source": [
    "top_seq = \"AGTACGCA\"  # 8 - cols\n",
    "bottom_seq = \"TATGC\"  # 5 - rows\n",
    "gap_penalty = 2"
   ]
  },
  {
   "cell_type": "code",
   "execution_count": 21,
   "id": "e2f22469",
   "metadata": {
    "ExecuteTime": {
     "end_time": "2024-09-20T07:42:13.914057Z",
     "start_time": "2024-09-20T07:42:13.908397Z"
    }
   },
   "outputs": [
    {
     "name": "stdout",
     "output_type": "stream",
     "text": [
      "[[0, -2, -4, -6, -8, -10, -12, -14, -16], [-2, -4, -3, 2, 0, -2, -4, -6, -8], [-4, 3, 1, 0, 7, 5, 3, 1, -1], [-6, 1, 2, 7, 5, 3, 4, 2, 0], [-8, -1, 6, 5, 8, 6, 8, 6, 4], [-10, -3, 4, 3, 6, 11, 9, 11, 9]]\n"
     ]
    }
   ],
   "source": [
    "def align(top_seq, bottom_seq, gap_penalty, blosum_matrix):\n",
    "    matrix = init(len(bottom_seq), len(top_seq), gap_penalty)\n",
    "    for i in range(1, len(matrix)):\n",
    "        for j in range(1, len(matrix[i])):\n",
    "            matrix[i][j] = get_new_score(matrix[i-1][j],\n",
    "                                         matrix[i][j-1],\n",
    "                                         matrix[i-1][j-1],\n",
    "                                         blosum_matrix[top_seq[j-1]][bottom_seq[i-1]],\n",
    "                                         gap_penalty)\n",
    "    # print(\"\\n\".join([\" \".join(map(lambda char: str(round(char, 1)).rjust(5).ljust(5), line)) for line in matrix]))\n",
    "    return matrix\n",
    "\n",
    "print(align(top_seq,\n",
    "            bottom_seq,\n",
    "            gap_penalty,\n",
    "            create_blosum_matrix(calculate_scores(count_pairs(alignments), calculate_frequencies(alignments)))))"
   ]
  },
  {
   "cell_type": "code",
   "execution_count": 22,
   "id": "9a87d6d9-8103-40e6-842a-15f3f5e97a1e",
   "metadata": {},
   "outputs": [
    {
     "name": "stdout",
     "output_type": "stream",
     "text": [
      "everything is working fine!\n"
     ]
    }
   ],
   "source": [
    "def test_align():\n",
    "    top_seq = \"AGTACGCA\"\n",
    "    bottom_seq = \"TATGC\"\n",
    "    gap_penalty = 2\n",
    "    blosum_matrix = create_blosum_matrix(calculate_scores(count_pairs(alignments), calculate_frequencies(alignments)))\n",
    "    expected_matrix = [\n",
    "        [0, -2, -4, -6, -8, -10, -12, -14, -16],\n",
    "        [-2, -4, -3, 2, 0, -2, -4, -6, -8],\n",
    "        [-4, 3, 1, 0, 7, 5, 3, 1, -1],\n",
    "        [-6, 1, 2, 7, 5, 3, 4, 2, 0],\n",
    "        [-8, -1, 6, 5, 8, 6, 8, 6, 4],\n",
    "        [-10, -3, 4, 3, 6, 11, 9, 11, 9]\n",
    "    ]\n",
    "    result = align(top_seq, bottom_seq, gap_penalty, blosum_matrix)\n",
    "    assert result == expected_matrix, f\"Expected {expected_matrix}, but got {result}\"\n",
    "\n",
    "    top_seq_empty = \"\"\n",
    "    bottom_seq_empty = \"\"\n",
    "    expected_empty = [[0]]\n",
    "    result_empty = align(top_seq_empty, bottom_seq_empty, gap_penalty, blosum_matrix)\n",
    "    assert result_empty == expected_empty, f\"Expected {expected_empty}, but got {result_empty}\"\n",
    "\n",
    "    top_seq_single = \"A\"\n",
    "    bottom_seq_single = \"G\"\n",
    "    expected_single = [[0, -2], [-2, 1]]\n",
    "    result_single = align(top_seq_single, bottom_seq_single, gap_penalty, blosum_matrix)\n",
    "    assert result_single == expected_single, f\"Expected {expected_single}, but got {result_single}\"\n",
    "    \n",
    "    return \"everything is working fine!\"\n",
    "print(test_align())"
   ]
  },
  {
   "cell_type": "markdown",
   "id": "f68198b6",
   "metadata": {
    "ExecuteTime": {
     "end_time": "2024-09-20T06:44:17.331762Z",
     "start_time": "2024-09-20T06:44:17.321308Z"
    }
   },
   "source": [
    "### Шаг 9: Построение выравнивания\n",
    "\n",
    "Теперь имея матрицу выравнивания построим самое выравнивание.\n",
    "\n",
    "Реализуйте функцию get_alignment, которая по двум последовательностям, матрице выравнивания, штрафа за пропуски, бонусам за совпадение/несовпадение нуклеотидов строит выравнивание.\n",
    "\n",
    "**Пример:**\n",
    "\n",
    "```python\n",
    "\n",
    "top_seq = \"AGTACGCA\"\n",
    "bottom_seq = \"TATGC\"\n",
    "gap_penalty = 2\n",
    "sm = align(top_seq, bottom_seq, gap_penalty, blosum_matrix)\n",
    "aligns = get_alignment(top_seq, bottom_seq, sm, gap_penalty, blosum_matrix)\n",
    "print(aligns[0])\n",
    "print(aligns[1])\n",
    "--TATGC-\n",
    "AGTACGCA\n",
    "\n",
    "top_seq = \"AGTCTCCCCC\"\n",
    "bottom_seq = \"ACTTCTACCCCAGC\"\n",
    "sm = align(top_seq, bottom_seq, gap_penalty, blosum_matrix)\n",
    "aligns = get_alignment(top_seq, bottom_seq, sm, gap_penalty, blosum_matrix)\n",
    "print(aligns[0])\n",
    "print(aligns[1])\n",
    "ACTTCTACCCCAGC\n",
    "AGT-CT-CCCC--C\n",
    "```"
   ]
  },
  {
   "cell_type": "code",
   "execution_count": 23,
   "id": "4449d97e",
   "metadata": {
    "ExecuteTime": {
     "end_time": "2024-09-20T07:42:13.929902Z",
     "start_time": "2024-09-20T07:42:13.928023Z"
    }
   },
   "outputs": [],
   "source": [
    "def get_alignment(top_seq, bottom_seq, sm, gap_penalty, blosum_matrix):\n",
    "    i, j = len(bottom_seq), len(top_seq)\n",
    "    alignmentA, alignmentB = \"\", \"\"\n",
    "    \n",
    "    while i > 0 or j > 0:\n",
    "        if i > 0 and j > 0 and sm[i][j] == sm[i-1][j-1] + blosum_matrix[top_seq[j-1]][bottom_seq[i-1]]:\n",
    "            alignmentA = top_seq[j-1] + alignmentA\n",
    "            alignmentB = bottom_seq[i-1] + alignmentB\n",
    "            i -= 1\n",
    "            j -= 1\n",
    "\n",
    "        elif i > 0 and sm[i][j] == sm[i-1][j] - gap_penalty:\n",
    "            alignmentA = \"-\" + alignmentA\n",
    "            alignmentB = bottom_seq[i-1] + alignmentB\n",
    "            i -= 1\n",
    "        elif j > 0 and sm[i][j] == sm[i][j - 1] - gap_penalty:\n",
    "            alignmentA = top_seq[j-1] + alignmentA\n",
    "            alignmentB = \"-\" + alignmentB\n",
    "            j -= 1\n",
    "        else:\n",
    "            # ожидаем ошибку, мало ли\n",
    "            break\n",
    "    return [alignmentA, alignmentB]"
   ]
  },
  {
   "cell_type": "code",
   "execution_count": 24,
   "id": "bedfc695-a75c-4f6d-8665-d10b652d8e01",
   "metadata": {},
   "outputs": [
    {
     "name": "stdout",
     "output_type": "stream",
     "text": [
      "everything is working fine!\n"
     ]
    }
   ],
   "source": [
    "def test_get_alignment():\n",
    "    top_seq = \"AGTACGCA\"\n",
    "    bottom_seq = \"TATGC\"\n",
    "    gap_penalty = 2\n",
    "    blosum_matrix = create_blosum_matrix(calculate_scores(count_pairs(alignments), calculate_frequencies(alignments))) \n",
    "    sm = align(top_seq, bottom_seq, gap_penalty, blosum_matrix)\n",
    "    \n",
    "    expected_alignment = ['AGTACGCA', '--TATGC-']\n",
    "    result = get_alignment(top_seq, bottom_seq, sm, gap_penalty, blosum_matrix)\n",
    "    assert result == expected_alignment, f\"Expected {expected_alignment}, but got {result}\"\n",
    "\n",
    "    top_seq_empty = \"\"\n",
    "    bottom_seq_empty = \"\"\n",
    "    expected_empty = [\"\", \"\"]\n",
    "    result_empty = get_alignment(top_seq_empty, bottom_seq_empty, sm, gap_penalty, blosum_matrix)\n",
    "    assert result_empty == expected_empty, f\"Expected {expected_empty}, but got {result_empty}\"\n",
    "\n",
    "    top_seq_single = \"A\"\n",
    "    bottom_seq_single = \"G\"\n",
    "    expected_single = [\"A-\", \"-G\"]\n",
    "    result_single = get_alignment(top_seq_single, bottom_seq_single, sm, gap_penalty, blosum_matrix)\n",
    "    assert result_single == expected_single, f\"Expected {expected_single}, but got {result_single}\"\n",
    "\n",
    "    return \"everything is working fine!\"\n",
    "\n",
    "print(test_get_alignment())"
   ]
  },
  {
   "cell_type": "code",
   "execution_count": 25,
   "id": "6a9ce175-5a7f-4f70-90a2-9527102cfd4d",
   "metadata": {},
   "outputs": [
    {
     "name": "stdout",
     "output_type": "stream",
     "text": [
      "AGTACGCA\n",
      "--TATGC-\n"
     ]
    }
   ],
   "source": [
    "top_seq = \"AGTACGCA\"\n",
    "bottom_seq = \"TATGC\"\n",
    "gap_penalty = 2\n",
    "blosum_matrix = create_blosum_matrix(calculate_scores(count_pairs(alignments), calculate_frequencies(alignments)))\n",
    "sm = align(top_seq, bottom_seq, gap_penalty, blosum_matrix)\n",
    "aligns = get_alignment(top_seq, bottom_seq, sm, gap_penalty, blosum_matrix)\n",
    "\n",
    "\n",
    "print(aligns[0])\n",
    "print(aligns[1])"
   ]
  },
  {
   "cell_type": "code",
   "execution_count": 26,
   "id": "41eb5f91-ba8b-4116-a70d-f35c7a5aaeb6",
   "metadata": {},
   "outputs": [
    {
     "name": "stdout",
     "output_type": "stream",
     "text": [
      "AG-TCT-CCCC--C\n",
      "ACTTCTACCCCAGC\n"
     ]
    }
   ],
   "source": [
    "top_seq = \"AGTCTCCCCC\"  #10\n",
    "bottom_seq = \"ACTTCTACCCCAGC\"  # 14\n",
    "blosum_matrix = create_blosum_matrix(calculate_scores(count_pairs(alignments), calculate_frequencies(alignments)))\n",
    "sm = align(top_seq, bottom_seq, gap_penalty, blosum_matrix)\n",
    "aligns = get_alignment(top_seq, bottom_seq, sm, gap_penalty, blosum_matrix)\n",
    "\n",
    "print(aligns[0])\n",
    "print(aligns[1])"
   ]
  },
  {
   "cell_type": "markdown",
   "id": "0c8daed3",
   "metadata": {
    "ExecuteTime": {
     "end_time": "2024-09-20T08:00:23.468052Z",
     "start_time": "2024-09-20T08:00:23.453507Z"
    },
    "jp-MarkdownHeadingCollapsed": true
   },
   "source": [
    "## Поздравляю! Мы научились выравнивать ДНК!"
   ]
  }
 ],
 "metadata": {
  "kernelspec": {
   "display_name": "Python 3 (ipykernel)",
   "language": "python",
   "name": "python3"
  },
  "language_info": {
   "codemirror_mode": {
    "name": "ipython",
    "version": 3
   },
   "file_extension": ".py",
   "mimetype": "text/x-python",
   "name": "python",
   "nbconvert_exporter": "python",
   "pygments_lexer": "ipython3",
   "version": "3.12.4"
  }
 },
 "nbformat": 4,
 "nbformat_minor": 5
}
