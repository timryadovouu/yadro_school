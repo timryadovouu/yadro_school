{
 "cells": [
  {
   "cell_type": "markdown",
   "id": "197bc7c0",
   "metadata": {},
   "source": [
    "# Работа интерпретатора\n",
    "## Шаг 1: Исходный код"
   ]
  },
  {
   "cell_type": "code",
   "execution_count": 2,
   "id": "82b36b1c",
   "metadata": {
    "ExecuteTime": {
     "end_time": "2024-09-19T16:16:47.133398Z",
     "start_time": "2024-09-19T16:16:47.119659Z"
    }
   },
   "outputs": [
    {
     "name": "stdout",
     "output_type": "stream",
     "text": [
      "6\n"
     ]
    }
   ],
   "source": [
    "def add(a, b):\n",
    "    return a + b\n",
    "\n",
    "result = add(3, 3)\n",
    "print(result)"
   ]
  },
  {
   "cell_type": "markdown",
   "id": "2abfc5f1",
   "metadata": {},
   "source": [
    "## Шаг 2: Лексический анализ — разбиение на токены"
   ]
  },
  {
   "cell_type": "code",
   "execution_count": 2,
   "id": "8c35b42f",
   "metadata": {
    "ExecuteTime": {
     "end_time": "2024-09-19T12:18:01.974740Z",
     "start_time": "2024-09-19T12:18:01.970856Z"
    }
   },
   "outputs": [
    {
     "name": "stdout",
     "output_type": "stream",
     "text": [
      "TokenInfo(type=62 (ENCODING), string='utf-8', start=(0, 0), end=(0, 0), line='')\n",
      "TokenInfo(type=61 (NL), string='\\n', start=(1, 0), end=(1, 1), line='\\n')\n",
      "TokenInfo(type=1 (NAME), string='def', start=(2, 0), end=(2, 3), line='def add(a, b):\\n')\n",
      "TokenInfo(type=1 (NAME), string='add', start=(2, 4), end=(2, 7), line='def add(a, b):\\n')\n",
      "TokenInfo(type=54 (OP), string='(', start=(2, 7), end=(2, 8), line='def add(a, b):\\n')\n",
      "TokenInfo(type=1 (NAME), string='a', start=(2, 8), end=(2, 9), line='def add(a, b):\\n')\n",
      "TokenInfo(type=54 (OP), string=',', start=(2, 9), end=(2, 10), line='def add(a, b):\\n')\n",
      "TokenInfo(type=1 (NAME), string='b', start=(2, 11), end=(2, 12), line='def add(a, b):\\n')\n",
      "TokenInfo(type=54 (OP), string=')', start=(2, 12), end=(2, 13), line='def add(a, b):\\n')\n",
      "TokenInfo(type=54 (OP), string=':', start=(2, 13), end=(2, 14), line='def add(a, b):\\n')\n",
      "TokenInfo(type=4 (NEWLINE), string='\\n', start=(2, 14), end=(2, 15), line='def add(a, b):\\n')\n",
      "TokenInfo(type=5 (INDENT), string='    ', start=(3, 0), end=(3, 4), line='    return a + b\\n')\n",
      "TokenInfo(type=1 (NAME), string='return', start=(3, 4), end=(3, 10), line='    return a + b\\n')\n",
      "TokenInfo(type=1 (NAME), string='a', start=(3, 11), end=(3, 12), line='    return a + b\\n')\n",
      "TokenInfo(type=54 (OP), string='+', start=(3, 13), end=(3, 14), line='    return a + b\\n')\n",
      "TokenInfo(type=1 (NAME), string='b', start=(3, 15), end=(3, 16), line='    return a + b\\n')\n",
      "TokenInfo(type=4 (NEWLINE), string='\\n', start=(3, 16), end=(3, 17), line='    return a + b\\n')\n",
      "TokenInfo(type=61 (NL), string='\\n', start=(4, 0), end=(4, 1), line='\\n')\n",
      "TokenInfo(type=6 (DEDENT), string='', start=(5, 0), end=(5, 0), line='result = add(2, 3)\\n')\n",
      "TokenInfo(type=1 (NAME), string='result', start=(5, 0), end=(5, 6), line='result = add(2, 3)\\n')\n",
      "TokenInfo(type=54 (OP), string='=', start=(5, 7), end=(5, 8), line='result = add(2, 3)\\n')\n",
      "TokenInfo(type=1 (NAME), string='add', start=(5, 9), end=(5, 12), line='result = add(2, 3)\\n')\n",
      "TokenInfo(type=54 (OP), string='(', start=(5, 12), end=(5, 13), line='result = add(2, 3)\\n')\n",
      "TokenInfo(type=2 (NUMBER), string='2', start=(5, 13), end=(5, 14), line='result = add(2, 3)\\n')\n",
      "TokenInfo(type=54 (OP), string=',', start=(5, 14), end=(5, 15), line='result = add(2, 3)\\n')\n",
      "TokenInfo(type=2 (NUMBER), string='3', start=(5, 16), end=(5, 17), line='result = add(2, 3)\\n')\n",
      "TokenInfo(type=54 (OP), string=')', start=(5, 17), end=(5, 18), line='result = add(2, 3)\\n')\n",
      "TokenInfo(type=4 (NEWLINE), string='\\n', start=(5, 18), end=(5, 19), line='result = add(2, 3)\\n')\n",
      "TokenInfo(type=1 (NAME), string='print', start=(6, 0), end=(6, 5), line='print(result)\\n')\n",
      "TokenInfo(type=54 (OP), string='(', start=(6, 5), end=(6, 6), line='print(result)\\n')\n",
      "TokenInfo(type=1 (NAME), string='result', start=(6, 6), end=(6, 12), line='print(result)\\n')\n",
      "TokenInfo(type=54 (OP), string=')', start=(6, 12), end=(6, 13), line='print(result)\\n')\n",
      "TokenInfo(type=4 (NEWLINE), string='\\n', start=(6, 13), end=(6, 14), line='print(result)\\n')\n",
      "TokenInfo(type=0 (ENDMARKER), string='', start=(7, 0), end=(7, 0), line='')\n"
     ]
    }
   ],
   "source": [
    "import tokenize\n",
    "from io import BytesIO\n",
    "\n",
    "code = \"\"\"\n",
    "def add(a, b):\n",
    "    return a + b\n",
    "\n",
    "result = add(2, 3)\n",
    "print(result)\n",
    "\"\"\"\n",
    "\n",
    "tokens = tokenize.tokenize(BytesIO(code.encode('utf-8')).readline)\n",
    "for token in tokens:\n",
    "    print(token)"
   ]
  },
  {
   "cell_type": "markdown",
   "id": "7fa4db30",
   "metadata": {},
   "source": [
    "## Шаг 3: Синтаксический анализ — построение AST"
   ]
  },
  {
   "cell_type": "code",
   "execution_count": 3,
   "id": "6d6c88b9",
   "metadata": {
    "ExecuteTime": {
     "end_time": "2024-09-19T12:18:01.980246Z",
     "start_time": "2024-09-19T12:18:01.975912Z"
    }
   },
   "outputs": [
    {
     "name": "stdout",
     "output_type": "stream",
     "text": [
      "Module(\n",
      "    body=[\n",
      "        FunctionDef(\n",
      "            lineno=2,\n",
      "            col_offset=0,\n",
      "            end_lineno=3,\n",
      "            end_col_offset=16,\n",
      "            name='add',\n",
      "            args=arguments(\n",
      "                posonlyargs=[],\n",
      "                args=[\n",
      "                    arg(lineno=2, col_offset=8, end_lineno=2, end_col_offset=9, arg='a', annotation=None, type_comment=None),\n",
      "                    arg(lineno=2, col_offset=11, end_lineno=2, end_col_offset=12, arg='b', annotation=None, type_comment=None),\n",
      "                ],\n",
      "                vararg=None,\n",
      "                kwonlyargs=[],\n",
      "                kw_defaults=[],\n",
      "                kwarg=None,\n",
      "                defaults=[],\n",
      "            ),\n",
      "            body=[\n",
      "                Return(\n",
      "                    lineno=3,\n",
      "                    col_offset=4,\n",
      "                    end_lineno=3,\n",
      "                    end_col_offset=16,\n",
      "                    value=BinOp(\n",
      "                        lineno=3,\n",
      "                        col_offset=11,\n",
      "                        end_lineno=3,\n",
      "                        end_col_offset=16,\n",
      "                        left=Name(lineno=3, col_offset=11, end_lineno=3, end_col_offset=12, id='a', ctx=Load()),\n",
      "                        op=Add(),\n",
      "                        right=Name(lineno=3, col_offset=15, end_lineno=3, end_col_offset=16, id='b', ctx=Load()),\n",
      "                    ),\n",
      "                ),\n",
      "            ],\n",
      "            decorator_list=[],\n",
      "            returns=None,\n",
      "            type_comment=None,\n",
      "        ),\n",
      "        Assign(\n",
      "            lineno=5,\n",
      "            col_offset=0,\n",
      "            end_lineno=5,\n",
      "            end_col_offset=18,\n",
      "            targets=[Name(lineno=5, col_offset=0, end_lineno=5, end_col_offset=6, id='result', ctx=Store())],\n",
      "            value=Call(\n",
      "                lineno=5,\n",
      "                col_offset=9,\n",
      "                end_lineno=5,\n",
      "                end_col_offset=18,\n",
      "                func=Name(lineno=5, col_offset=9, end_lineno=5, end_col_offset=12, id='add', ctx=Load()),\n",
      "                args=[\n",
      "                    Constant(lineno=5, col_offset=13, end_lineno=5, end_col_offset=14, value=2, kind=None),\n",
      "                    Constant(lineno=5, col_offset=16, end_lineno=5, end_col_offset=17, value=3, kind=None),\n",
      "                ],\n",
      "                keywords=[],\n",
      "            ),\n",
      "            type_comment=None,\n",
      "        ),\n",
      "        Expr(\n",
      "            lineno=6,\n",
      "            col_offset=0,\n",
      "            end_lineno=6,\n",
      "            end_col_offset=13,\n",
      "            value=Call(\n",
      "                lineno=6,\n",
      "                col_offset=0,\n",
      "                end_lineno=6,\n",
      "                end_col_offset=13,\n",
      "                func=Name(lineno=6, col_offset=0, end_lineno=6, end_col_offset=5, id='print', ctx=Load()),\n",
      "                args=[Name(lineno=6, col_offset=6, end_lineno=6, end_col_offset=12, id='result', ctx=Load())],\n",
      "                keywords=[],\n",
      "            ),\n",
      "        ),\n",
      "    ],\n",
      "    type_ignores=[],\n",
      ")\n"
     ]
    }
   ],
   "source": [
    "import ast\n",
    "import astpretty\n",
    "\n",
    "parsed_ast = ast.parse(code)\n",
    "astpretty.pprint(parsed_ast)"
   ]
  },
  {
   "cell_type": "markdown",
   "id": "60e03efe",
   "metadata": {},
   "source": [
    "## Шаг 4: Понимание структуры AST\n",
    "\n",
    "**Объяснение структуры AST:**\n",
    "\n",
    "- **Module**: Корневой узел, представляющий весь модуль (файл).\n",
    "  - **body**: Список инструкций верхнего уровня.\n",
    "\n",
    "- **FunctionDef**: Определение функции.\n",
    "  - **name**: Имя функции (`'add'`).\n",
    "  - **args**: Аргументы функции.\n",
    "    - **args**: Список аргументов (`'a'`, `'b'`).\n",
    "  - **body**: Список инструкций внутри функции.\n",
    "    - **Return**: Инструкция возврата.\n",
    "      - **value**: Возвращаемое значение.\n",
    "        - **BinOp**: Бинарная операция.\n",
    "          - **left**: Левая часть операции (`Name(id='a')`).\n",
    "          - **op**: Оператор (`Add()`).\n",
    "          - **right**: Правая часть операции (`Name(id='b')`).\n",
    "\n",
    "- **Assign**: Инструкция присваивания.\n",
    "  - **targets**: Список переменных, которым присваивается значение (`Name(id='result')`).\n",
    "  - **value**: Выражение, результат которого присваивается.\n",
    "    - **Call**: Вызов функции.\n",
    "      - **func**: Функция, которую вызывают (`Name(id='add')`).\n",
    "      - **args**: Аргументы вызова (`Constant(value=2)`, `Constant(value=3)`).\n",
    "\n",
    "- **Expr**: Выражение (используется для вызова функций, результаты которых не присваиваются переменным).\n",
    "  - **value**: Выражение, которое нужно вычислить.\n",
    "    - **Call**: Вызов функции.\n",
    "      - **func**: Функция (`Name(id='print')`).\n",
    "      - **args**: Аргументы вызова (`Name(id='result')`).\n",
    "\n",
    "---"
   ]
  },
  {
   "cell_type": "markdown",
   "id": "2d28d0b0",
   "metadata": {
    "ExecuteTime": {
     "end_time": "2024-09-19T11:28:58.112618Z",
     "start_time": "2024-09-19T11:28:58.101800Z"
    }
   },
   "source": [
    "## Шаг 5: Использование AST в интерпретаторе\n",
    "\n",
    "**Как интерпретатор использует AST:**\n",
    "\n",
    "1. **Анализ и оптимизация (если применимо)**: На основе AST интерпретатор может выполнять некоторые проверки и оптимизации кода.\n",
    "\n",
    "2. **Компиляция в байткод**: AST преобразуется в байткод — набор инструкций, понятных виртуальной машине Python.\n",
    "\n",
    "3. **Исполнение байткода**: Виртуальная машина Python (PVM) интерпретирует байткод и выполняет соответствующие операции.\n",
    "\n",
    "---"
   ]
  },
  {
   "cell_type": "markdown",
   "id": "a6b62ded",
   "metadata": {},
   "source": [
    "## Шаг 6: Пример байткода"
   ]
  },
  {
   "cell_type": "code",
   "execution_count": 4,
   "id": "3dc7777d",
   "metadata": {
    "ExecuteTime": {
     "end_time": "2024-09-19T12:18:01.984560Z",
     "start_time": "2024-09-19T12:18:01.981967Z"
    }
   },
   "outputs": [
    {
     "name": "stdout",
     "output_type": "stream",
     "text": [
      "  4           0 LOAD_FAST                0 (a)\n",
      "              2 LOAD_FAST                1 (b)\n",
      "              4 BINARY_ADD\n",
      "              6 RETURN_VALUE\n"
     ]
    }
   ],
   "source": [
    "import dis\n",
    "\n",
    "def add(a, b):\n",
    "    return a + b\n",
    "\n",
    "dis.dis(add)"
   ]
  },
  {
   "cell_type": "markdown",
   "id": "85c5acbc",
   "metadata": {},
   "source": [
    "**Объяснение байткода:**\n",
    "\n",
    "- **LOAD_FAST 0 (a)**: Загружает значение переменной `a` в стек.\n",
    "- **LOAD_FAST 1 (b)**: Загружает значение переменной `b` в стек.\n",
    "- **BINARY_ADD**: Извлекает два верхних значения из стека, складывает их и результат помещает обратно в стек.\n",
    "- **RETURN_VALUE**: Возвращает верхнее значение из стека как результат функции."
   ]
  }
 ],
 "metadata": {
  "kernelspec": {
   "display_name": "Python 3 (ipykernel)",
   "language": "python",
   "name": "python3"
  },
  "language_info": {
   "codemirror_mode": {
    "name": "ipython",
    "version": 3
   },
   "file_extension": ".py",
   "mimetype": "text/x-python",
   "name": "python",
   "nbconvert_exporter": "python",
   "pygments_lexer": "ipython3",
   "version": "3.9.7"
  }
 },
 "nbformat": 4,
 "nbformat_minor": 5
}
