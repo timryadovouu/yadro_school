{
 "cells": [
  {
   "cell_type": "markdown",
   "metadata": {
    "id": "NrLT4R3PZVez"
   },
   "source": [
    "# Деревья решений"
   ]
  },
  {
   "cell_type": "markdown",
   "metadata": {
    "id": "d2p-krA21c7Q"
   },
   "source": [
    "# Напоминание\n",
    "\n",
    "Дерево решений — это иерархическая структура, используемая для принятия решений. Каждый внутренний узел представляет собой проверку значения некоторого признака, каждая ветвь представляет собой результат этой проверки, а каждый лист представляет собой класс (в задачах классификации) или значение (в задачах регрессии).\n"
   ]
  },
  {
   "cell_type": "markdown",
   "metadata": {
    "id": "VD-v1pmWzb7h"
   },
   "source": [
    "### Дисклеймер"
   ]
  },
  {
   "cell_type": "markdown",
   "metadata": {
    "id": "6pJhN_eyzelI"
   },
   "source": [
    "В этом блокноте в качестве критерия информативности будут рассматриваться только энтропия и прирост информации, другие критерии предлагаем рассмотреть самостоятельно."
   ]
  },
  {
   "cell_type": "markdown",
   "metadata": {
    "id": "cKTP7H2u7Rj8"
   },
   "source": [
    "### Энтропия и прирост информации\n",
    "\n",
    "Пусть эксперимент $\\Omega$ заключается в наступлении событий $\\omega_1, \\omega_2, \\dots, \\omega_n$ с вероятностями $p_1, p_2, \\dots, p_n$ соответственно.\n",
    "\n",
    "Энтропией (мерой неопределенности) эксперимента $\\Omega$ называют величину\n",
    "\n",
    "$$\n",
    "H(\\Omega) = - \\sum_{i=1}^n p_i \\log_2(p_i).\n",
    "$$\n",
    "\n",
    "Пусть теперь имеют место 2 эксперимента: $\\Omega$ с исходами $\\omega_1, \\omega_2, \\dots, \\omega_k$ и $\\Sigma$ с исходами $\\sigma_1, \\sigma_2, \\dots, \\sigma_n$ и соответствующими вероятностями $p_{ij}$, где $i = \\overline{1,k}$, $j = \\overline{1,n}$. Тогда энтропией такого эксперимента называется величина\n",
    "\n",
    "$$\n",
    "H(\\Omega, \\Sigma) = -\\sum_{i,j}p_{ij} \\log_2(p_{ij}).\n",
    "$$\n",
    "\n",
    "Условной энтропией эксперимента $\\Omega$ при наступлении события $\\sigma_j$ называется величина\n",
    "\n",
    "$$\n",
    "H(\\Omega|\\Sigma=\\sigma_j) = -\\sum_{i=1}^k p_{ij} \\log_2(p_{ij}).\n",
    "$$\n",
    "\n",
    "Полной условной энтропией в таком случае называется величина\n",
    "\n",
    "$$\n",
    "H(\\Omega|\\Sigma) = \\mathbb{E}_{\\Sigma}(H(\\Omega|\\Sigma)) = -\\sum_{j=1}^nH(\\Omega|\\Sigma=\\sigma_j)p(\\sigma_j).\n",
    "$$\n",
    "\n",
    "Прирост информации $\\mathsf{IG}(\\Omega,\\Sigma)$ тогда определяется следующим образом:\n",
    "\n",
    "$$\n",
    "\\mathsf{IG}(\\Omega,\\Sigma) = H(\\Omega) - H(\\Omega|\\Sigma).\n",
    "$$\n",
    "\n",
    "\n"
   ]
  },
  {
   "cell_type": "markdown",
   "metadata": {
    "id": "YDl2jkXW9tsS"
   },
   "source": [
    "Понятно, что в случае работы с данными рассматриваемые величины заменяются соответствующими оценками, например, для энтропии будет иметь место следующее выражение\n",
    "\n",
    "$$\n",
    "H(\\Omega) = - \\sum\\frac{n_i}{n} \\log_2\\left(\\frac{n_i}{n}\\right), \\quad \\sum\\limits_i n_i = n,\n",
    "$$\n",
    "\n",
    "где $n_i$ — частота исхода $\\omega_i$, $n$ — объем выборки."
   ]
  },
  {
   "cell_type": "markdown",
   "metadata": {
    "id": "G28O5Pf8EyRB"
   },
   "source": [
    "# Построение модели"
   ]
  },
  {
   "cell_type": "markdown",
   "metadata": {
    "id": "mHBLIYDkvdss"
   },
   "source": [
    "## Подготовка данных"
   ]
  },
  {
   "cell_type": "code",
   "execution_count": 1,
   "metadata": {
    "colab": {
     "base_uri": "https://localhost:8080/"
    },
    "executionInfo": {
     "elapsed": 4249,
     "status": "ok",
     "timestamp": 1739358714634,
     "user": {
      "displayName": "Дмитрий Волчек",
      "userId": "12396512946067001179"
     },
     "user_tz": -180
    },
    "id": "Q0A8ogWjvXtH",
    "outputId": "2bb69e86-e893-4f59-dff0-3622c3848994"
   },
   "outputs": [
    {
     "name": "stdout",
     "output_type": "stream",
     "text": [
      "zsh:1: command not found: gdown\n"
     ]
    }
   ],
   "source": [
    "! gdown 10bjx_gm37d2iSnhgYQW1dYmJTmZOp9Nq"
   ]
  },
  {
   "cell_type": "markdown",
   "metadata": {
    "id": "VjlQcEMAE2gl"
   },
   "source": [
    "Загрузим данные, импортируем нужные библиотеки."
   ]
  },
  {
   "cell_type": "code",
   "execution_count": 2,
   "metadata": {
    "colab": {
     "base_uri": "https://localhost:8080/",
     "height": 204
    },
    "executionInfo": {
     "elapsed": 10,
     "status": "ok",
     "timestamp": 1739358714634,
     "user": {
      "displayName": "Дмитрий Волчек",
      "userId": "12396512946067001179"
     },
     "user_tz": -180
    },
    "id": "7OLVfK67vby5",
    "outputId": "d689838c-8986-4717-ad49-c6a7d9a00308"
   },
   "outputs": [
    {
     "ename": "ModuleNotFoundError",
     "evalue": "No module named 'graphviz'",
     "output_type": "error",
     "traceback": [
      "\u001b[0;31m---------------------------------------------------------------------------\u001b[0m",
      "\u001b[0;31mModuleNotFoundError\u001b[0m                       Traceback (most recent call last)",
      "Cell \u001b[0;32mIn[2], line 8\u001b[0m\n\u001b[1;32m      6\u001b[0m \u001b[38;5;28;01mfrom\u001b[39;00m \u001b[38;5;21;01msklearn\u001b[39;00m\u001b[38;5;21;01m.\u001b[39;00m\u001b[38;5;21;01mmetrics\u001b[39;00m \u001b[38;5;28;01mimport\u001b[39;00m accuracy_score\n\u001b[1;32m      7\u001b[0m \u001b[38;5;28;01mfrom\u001b[39;00m \u001b[38;5;21;01msklearn\u001b[39;00m\u001b[38;5;21;01m.\u001b[39;00m\u001b[38;5;21;01mtree\u001b[39;00m \u001b[38;5;28;01mimport\u001b[39;00m export_graphviz\n\u001b[0;32m----> 8\u001b[0m \u001b[38;5;28;01mimport\u001b[39;00m \u001b[38;5;21;01mgraphviz\u001b[39;00m\n\u001b[1;32m     10\u001b[0m data \u001b[38;5;241m=\u001b[39m pd\u001b[38;5;241m.\u001b[39mread_csv(\u001b[38;5;124m\"\u001b[39m\u001b[38;5;124m/content/500_Person_Gender_Height_Weight_Index.csv\u001b[39m\u001b[38;5;124m\"\u001b[39m)\n\u001b[1;32m     11\u001b[0m data\u001b[38;5;241m.\u001b[39mhead()\n",
      "\u001b[0;31mModuleNotFoundError\u001b[0m: No module named 'graphviz'"
     ]
    }
   ],
   "source": [
    "import numpy as np\n",
    "import pandas as pd\n",
    "import matplotlib.pyplot as plt\n",
    "from collections import Counter\n",
    "from sklearn.model_selection import train_test_split\n",
    "from sklearn.metrics import accuracy_score\n",
    "from sklearn.tree import export_graphviz\n",
    "import graphviz\n",
    "\n",
    "data = pd.read_csv(\"/content/500_Person_Gender_Height_Weight_Index.csv\")\n",
    "data.head()"
   ]
  },
  {
   "cell_type": "markdown",
   "metadata": {
    "id": "tt26--HsFKbB"
   },
   "source": [
    "Сразу произведем небольшую подготовительную работу с данными. Перейдем к задаче двухклассовой классификации: все значения `obese` меньше $4$ отнесем к классу $0$, остальные — к классу $1$. Закодируем категориальный признак `Gender`: мужчинам соответствует $1$, женщинам — $0$"
   ]
  },
  {
   "cell_type": "code",
   "execution_count": null,
   "metadata": {
    "colab": {
     "base_uri": "https://localhost:8080/",
     "height": 258
    },
    "executionInfo": {
     "elapsed": 9,
     "status": "ok",
     "timestamp": 1739358714634,
     "user": {
      "displayName": "Дмитрий Волчек",
      "userId": "12396512946067001179"
     },
     "user_tz": -180
    },
    "id": "0pWQIH4LFJ3p",
    "outputId": "1f802ad3-e151-41d2-9873-d34f6ef3864d"
   },
   "outputs": [
    {
     "name": "stderr",
     "output_type": "stream",
     "text": [
      "<ipython-input-110-77677771f751>:3: FutureWarning: Downcasting behavior in `replace` is deprecated and will be removed in a future version. To retain the old behavior, explicitly call `result.infer_objects(copy=False)`. To opt-in to the future behavior, set `pd.set_option('future.no_silent_downcasting', True)`\n",
      "  data['Gender'] = data['Gender'].replace('Male', 1).replace('Female', 0)\n"
     ]
    },
    {
     "data": {
      "application/vnd.google.colaboratory.intrinsic+json": {
       "summary": "{\n  \"name\": \"data\",\n  \"rows\": 500,\n  \"fields\": [\n    {\n      \"column\": \"Gender\",\n      \"properties\": {\n        \"dtype\": \"number\",\n        \"std\": 0,\n        \"min\": 0,\n        \"max\": 1,\n        \"num_unique_values\": 2,\n        \"samples\": [\n          0,\n          1\n        ],\n        \"semantic_type\": \"\",\n        \"description\": \"\"\n      }\n    },\n    {\n      \"column\": \"Height\",\n      \"properties\": {\n        \"dtype\": \"number\",\n        \"std\": 16,\n        \"min\": 140,\n        \"max\": 199,\n        \"num_unique_values\": 60,\n        \"samples\": [\n          174,\n          147\n        ],\n        \"semantic_type\": \"\",\n        \"description\": \"\"\n      }\n    },\n    {\n      \"column\": \"Weight\",\n      \"properties\": {\n        \"dtype\": \"number\",\n        \"std\": 32,\n        \"min\": 50,\n        \"max\": 160,\n        \"num_unique_values\": 110,\n        \"samples\": [\n          124,\n          80\n        ],\n        \"semantic_type\": \"\",\n        \"description\": \"\"\n      }\n    },\n    {\n      \"column\": \"obese\",\n      \"properties\": {\n        \"dtype\": \"number\",\n        \"std\": 0,\n        \"min\": 0,\n        \"max\": 1,\n        \"num_unique_values\": 2,\n        \"samples\": [\n          0,\n          1\n        ],\n        \"semantic_type\": \"\",\n        \"description\": \"\"\n      }\n    }\n  ]\n}",
       "type": "dataframe",
       "variable_name": "data"
      },
      "text/html": [
       "\n",
       "  <div id=\"df-49c6219a-d19d-4198-b899-67f7567de31e\" class=\"colab-df-container\">\n",
       "    <div>\n",
       "<style scoped>\n",
       "    .dataframe tbody tr th:only-of-type {\n",
       "        vertical-align: middle;\n",
       "    }\n",
       "\n",
       "    .dataframe tbody tr th {\n",
       "        vertical-align: top;\n",
       "    }\n",
       "\n",
       "    .dataframe thead th {\n",
       "        text-align: right;\n",
       "    }\n",
       "</style>\n",
       "<table border=\"1\" class=\"dataframe\">\n",
       "  <thead>\n",
       "    <tr style=\"text-align: right;\">\n",
       "      <th></th>\n",
       "      <th>Gender</th>\n",
       "      <th>Height</th>\n",
       "      <th>Weight</th>\n",
       "      <th>obese</th>\n",
       "    </tr>\n",
       "  </thead>\n",
       "  <tbody>\n",
       "    <tr>\n",
       "      <th>0</th>\n",
       "      <td>1</td>\n",
       "      <td>174</td>\n",
       "      <td>96</td>\n",
       "      <td>1</td>\n",
       "    </tr>\n",
       "    <tr>\n",
       "      <th>1</th>\n",
       "      <td>1</td>\n",
       "      <td>189</td>\n",
       "      <td>87</td>\n",
       "      <td>0</td>\n",
       "    </tr>\n",
       "    <tr>\n",
       "      <th>2</th>\n",
       "      <td>0</td>\n",
       "      <td>185</td>\n",
       "      <td>110</td>\n",
       "      <td>1</td>\n",
       "    </tr>\n",
       "    <tr>\n",
       "      <th>3</th>\n",
       "      <td>0</td>\n",
       "      <td>195</td>\n",
       "      <td>104</td>\n",
       "      <td>0</td>\n",
       "    </tr>\n",
       "    <tr>\n",
       "      <th>4</th>\n",
       "      <td>1</td>\n",
       "      <td>149</td>\n",
       "      <td>61</td>\n",
       "      <td>0</td>\n",
       "    </tr>\n",
       "  </tbody>\n",
       "</table>\n",
       "</div>\n",
       "    <div class=\"colab-df-buttons\">\n",
       "\n",
       "  <div class=\"colab-df-container\">\n",
       "    <button class=\"colab-df-convert\" onclick=\"convertToInteractive('df-49c6219a-d19d-4198-b899-67f7567de31e')\"\n",
       "            title=\"Convert this dataframe to an interactive table.\"\n",
       "            style=\"display:none;\">\n",
       "\n",
       "  <svg xmlns=\"http://www.w3.org/2000/svg\" height=\"24px\" viewBox=\"0 -960 960 960\">\n",
       "    <path d=\"M120-120v-720h720v720H120Zm60-500h600v-160H180v160Zm220 220h160v-160H400v160Zm0 220h160v-160H400v160ZM180-400h160v-160H180v160Zm440 0h160v-160H620v160ZM180-180h160v-160H180v160Zm440 0h160v-160H620v160Z\"/>\n",
       "  </svg>\n",
       "    </button>\n",
       "\n",
       "  <style>\n",
       "    .colab-df-container {\n",
       "      display:flex;\n",
       "      gap: 12px;\n",
       "    }\n",
       "\n",
       "    .colab-df-convert {\n",
       "      background-color: #E8F0FE;\n",
       "      border: none;\n",
       "      border-radius: 50%;\n",
       "      cursor: pointer;\n",
       "      display: none;\n",
       "      fill: #1967D2;\n",
       "      height: 32px;\n",
       "      padding: 0 0 0 0;\n",
       "      width: 32px;\n",
       "    }\n",
       "\n",
       "    .colab-df-convert:hover {\n",
       "      background-color: #E2EBFA;\n",
       "      box-shadow: 0px 1px 2px rgba(60, 64, 67, 0.3), 0px 1px 3px 1px rgba(60, 64, 67, 0.15);\n",
       "      fill: #174EA6;\n",
       "    }\n",
       "\n",
       "    .colab-df-buttons div {\n",
       "      margin-bottom: 4px;\n",
       "    }\n",
       "\n",
       "    [theme=dark] .colab-df-convert {\n",
       "      background-color: #3B4455;\n",
       "      fill: #D2E3FC;\n",
       "    }\n",
       "\n",
       "    [theme=dark] .colab-df-convert:hover {\n",
       "      background-color: #434B5C;\n",
       "      box-shadow: 0px 1px 3px 1px rgba(0, 0, 0, 0.15);\n",
       "      filter: drop-shadow(0px 1px 2px rgba(0, 0, 0, 0.3));\n",
       "      fill: #FFFFFF;\n",
       "    }\n",
       "  </style>\n",
       "\n",
       "    <script>\n",
       "      const buttonEl =\n",
       "        document.querySelector('#df-49c6219a-d19d-4198-b899-67f7567de31e button.colab-df-convert');\n",
       "      buttonEl.style.display =\n",
       "        google.colab.kernel.accessAllowed ? 'block' : 'none';\n",
       "\n",
       "      async function convertToInteractive(key) {\n",
       "        const element = document.querySelector('#df-49c6219a-d19d-4198-b899-67f7567de31e');\n",
       "        const dataTable =\n",
       "          await google.colab.kernel.invokeFunction('convertToInteractive',\n",
       "                                                    [key], {});\n",
       "        if (!dataTable) return;\n",
       "\n",
       "        const docLinkHtml = 'Like what you see? Visit the ' +\n",
       "          '<a target=\"_blank\" href=https://colab.research.google.com/notebooks/data_table.ipynb>data table notebook</a>'\n",
       "          + ' to learn more about interactive tables.';\n",
       "        element.innerHTML = '';\n",
       "        dataTable['output_type'] = 'display_data';\n",
       "        await google.colab.output.renderOutput(dataTable, element);\n",
       "        const docLink = document.createElement('div');\n",
       "        docLink.innerHTML = docLinkHtml;\n",
       "        element.appendChild(docLink);\n",
       "      }\n",
       "    </script>\n",
       "  </div>\n",
       "\n",
       "\n",
       "<div id=\"df-1f930bbb-21cd-4bfb-bbf5-0981b682c0f7\">\n",
       "  <button class=\"colab-df-quickchart\" onclick=\"quickchart('df-1f930bbb-21cd-4bfb-bbf5-0981b682c0f7')\"\n",
       "            title=\"Suggest charts\"\n",
       "            style=\"display:none;\">\n",
       "\n",
       "<svg xmlns=\"http://www.w3.org/2000/svg\" height=\"24px\"viewBox=\"0 0 24 24\"\n",
       "     width=\"24px\">\n",
       "    <g>\n",
       "        <path d=\"M19 3H5c-1.1 0-2 .9-2 2v14c0 1.1.9 2 2 2h14c1.1 0 2-.9 2-2V5c0-1.1-.9-2-2-2zM9 17H7v-7h2v7zm4 0h-2V7h2v10zm4 0h-2v-4h2v4z\"/>\n",
       "    </g>\n",
       "</svg>\n",
       "  </button>\n",
       "\n",
       "<style>\n",
       "  .colab-df-quickchart {\n",
       "      --bg-color: #E8F0FE;\n",
       "      --fill-color: #1967D2;\n",
       "      --hover-bg-color: #E2EBFA;\n",
       "      --hover-fill-color: #174EA6;\n",
       "      --disabled-fill-color: #AAA;\n",
       "      --disabled-bg-color: #DDD;\n",
       "  }\n",
       "\n",
       "  [theme=dark] .colab-df-quickchart {\n",
       "      --bg-color: #3B4455;\n",
       "      --fill-color: #D2E3FC;\n",
       "      --hover-bg-color: #434B5C;\n",
       "      --hover-fill-color: #FFFFFF;\n",
       "      --disabled-bg-color: #3B4455;\n",
       "      --disabled-fill-color: #666;\n",
       "  }\n",
       "\n",
       "  .colab-df-quickchart {\n",
       "    background-color: var(--bg-color);\n",
       "    border: none;\n",
       "    border-radius: 50%;\n",
       "    cursor: pointer;\n",
       "    display: none;\n",
       "    fill: var(--fill-color);\n",
       "    height: 32px;\n",
       "    padding: 0;\n",
       "    width: 32px;\n",
       "  }\n",
       "\n",
       "  .colab-df-quickchart:hover {\n",
       "    background-color: var(--hover-bg-color);\n",
       "    box-shadow: 0 1px 2px rgba(60, 64, 67, 0.3), 0 1px 3px 1px rgba(60, 64, 67, 0.15);\n",
       "    fill: var(--button-hover-fill-color);\n",
       "  }\n",
       "\n",
       "  .colab-df-quickchart-complete:disabled,\n",
       "  .colab-df-quickchart-complete:disabled:hover {\n",
       "    background-color: var(--disabled-bg-color);\n",
       "    fill: var(--disabled-fill-color);\n",
       "    box-shadow: none;\n",
       "  }\n",
       "\n",
       "  .colab-df-spinner {\n",
       "    border: 2px solid var(--fill-color);\n",
       "    border-color: transparent;\n",
       "    border-bottom-color: var(--fill-color);\n",
       "    animation:\n",
       "      spin 1s steps(1) infinite;\n",
       "  }\n",
       "\n",
       "  @keyframes spin {\n",
       "    0% {\n",
       "      border-color: transparent;\n",
       "      border-bottom-color: var(--fill-color);\n",
       "      border-left-color: var(--fill-color);\n",
       "    }\n",
       "    20% {\n",
       "      border-color: transparent;\n",
       "      border-left-color: var(--fill-color);\n",
       "      border-top-color: var(--fill-color);\n",
       "    }\n",
       "    30% {\n",
       "      border-color: transparent;\n",
       "      border-left-color: var(--fill-color);\n",
       "      border-top-color: var(--fill-color);\n",
       "      border-right-color: var(--fill-color);\n",
       "    }\n",
       "    40% {\n",
       "      border-color: transparent;\n",
       "      border-right-color: var(--fill-color);\n",
       "      border-top-color: var(--fill-color);\n",
       "    }\n",
       "    60% {\n",
       "      border-color: transparent;\n",
       "      border-right-color: var(--fill-color);\n",
       "    }\n",
       "    80% {\n",
       "      border-color: transparent;\n",
       "      border-right-color: var(--fill-color);\n",
       "      border-bottom-color: var(--fill-color);\n",
       "    }\n",
       "    90% {\n",
       "      border-color: transparent;\n",
       "      border-bottom-color: var(--fill-color);\n",
       "    }\n",
       "  }\n",
       "</style>\n",
       "\n",
       "  <script>\n",
       "    async function quickchart(key) {\n",
       "      const quickchartButtonEl =\n",
       "        document.querySelector('#' + key + ' button');\n",
       "      quickchartButtonEl.disabled = true;  // To prevent multiple clicks.\n",
       "      quickchartButtonEl.classList.add('colab-df-spinner');\n",
       "      try {\n",
       "        const charts = await google.colab.kernel.invokeFunction(\n",
       "            'suggestCharts', [key], {});\n",
       "      } catch (error) {\n",
       "        console.error('Error during call to suggestCharts:', error);\n",
       "      }\n",
       "      quickchartButtonEl.classList.remove('colab-df-spinner');\n",
       "      quickchartButtonEl.classList.add('colab-df-quickchart-complete');\n",
       "    }\n",
       "    (() => {\n",
       "      let quickchartButtonEl =\n",
       "        document.querySelector('#df-1f930bbb-21cd-4bfb-bbf5-0981b682c0f7 button');\n",
       "      quickchartButtonEl.style.display =\n",
       "        google.colab.kernel.accessAllowed ? 'block' : 'none';\n",
       "    })();\n",
       "  </script>\n",
       "</div>\n",
       "    </div>\n",
       "  </div>\n"
      ],
      "text/plain": [
       "   Gender  Height  Weight  obese\n",
       "0       1     174      96      1\n",
       "1       1     189      87      0\n",
       "2       0     185     110      1\n",
       "3       0     195     104      0\n",
       "4       1     149      61      0"
      ]
     },
     "execution_count": 110,
     "metadata": {},
     "output_type": "execute_result"
    }
   ],
   "source": [
    "data['obese'] = (data.Index >= 4).astype('int')\n",
    "data.drop('Index', axis = 1, inplace = True)\n",
    "data['Gender'] = data['Gender'].replace('Male', 1).replace('Female', 0)\n",
    "data.head()"
   ]
  },
  {
   "cell_type": "markdown",
   "metadata": {
    "id": "BkHov3vTFISD"
   },
   "source": [
    "Разделим набор данных на тренировочную и тестовую выборки"
   ]
  },
  {
   "cell_type": "code",
   "execution_count": null,
   "metadata": {
    "colab": {
     "base_uri": "https://localhost:8080/"
    },
    "executionInfo": {
     "elapsed": 7,
     "status": "ok",
     "timestamp": 1739358714634,
     "user": {
      "displayName": "Дмитрий Волчек",
      "userId": "12396512946067001179"
     },
     "user_tz": -180
    },
    "id": "xWZ0pVSpZVe6",
    "outputId": "6b4bee0e-1644-4900-ae88-da193653c1eb"
   },
   "outputs": [
    {
     "name": "stdout",
     "output_type": "stream",
     "text": [
      "(400, 3) (400,)\n",
      "(100, 3) (100,)\n"
     ]
    }
   ],
   "source": [
    "X_train, X_test, y_train, y_test = train_test_split(data.drop('obese', axis=1), data['obese'], test_size=0.2, random_state=42, stratify=data['obese'])\n",
    "\n",
    "#Вывод инфо о данных\n",
    "print(X_train.shape, y_train.shape)\n",
    "print(X_test.shape, y_test.shape)"
   ]
  },
  {
   "cell_type": "markdown",
   "metadata": {
    "id": "Sfbax3CbvXme"
   },
   "source": [
    "Посмотрим как распределены объекты по классам"
   ]
  },
  {
   "cell_type": "code",
   "execution_count": null,
   "metadata": {
    "colab": {
     "base_uri": "https://localhost:8080/",
     "height": 447
    },
    "executionInfo": {
     "elapsed": 371,
     "status": "ok",
     "timestamp": 1739358714998,
     "user": {
      "displayName": "Дмитрий Волчек",
      "userId": "12396512946067001179"
     },
     "user_tz": -180
    },
    "id": "GL95pOcsug8a",
    "outputId": "99ed9776-1779-4a07-da9e-afdadffe6532"
   },
   "outputs": [
    {
     "data": {
      "text/plain": [
       "<BarContainer object of 2 artists>"
      ]
     },
     "execution_count": 112,
     "metadata": {},
     "output_type": "execute_result"
    },
    {
     "data": {
      "image/png": "[encoded data removed]",
      "text/plain": [
       "<Figure size 640x480 with 1 Axes>"
      ]
     },
     "metadata": {},
     "output_type": "display_data"
    }
   ],
   "source": [
    "plt.bar(y_train.unique(), list(y_train.value_counts()))"
   ]
  },
  {
   "cell_type": "markdown",
   "metadata": {
    "id": "IPOrz6V2vgjN"
   },
   "source": [
    "## Реализация ДПР \"с нуля\""
   ]
  },
  {
   "cell_type": "markdown",
   "metadata": {
    "id": "JAda3TUU26TS"
   },
   "source": [
    "### Задача 1: Функция вычисления энтропии"
   ]
  },
  {
   "cell_type": "code",
   "execution_count": null,
   "metadata": {
    "id": "nOjMy49IZVe7"
   },
   "outputs": [],
   "source": [
    "def get_entropy(y):\n",
    "    \"\"\"\n",
    "    Вычисляет энтропию набора данных.\n",
    "\n",
    "    Параметры\n",
    "    ----------\n",
    "    y : array-like, shape (n_samples,)\n",
    "        Вектор меток классов.\n",
    "\n",
    "    Результат\n",
    "    -------\n",
    "    entropy : float\n",
    "        Энтропия набора данных.\n",
    "    \"\"\"\n",
    "    y = np.array(y)\n",
    "    pass\n",
    "\n",
    "\n",
    "assert np.isclose(get_entropy(y_train), 0.9295231861792264) and get_entropy([0,0]) == 0 and get_entropy([1,0]) == 1"
   ]
  },
  {
   "cell_type": "markdown",
   "metadata": {
    "id": "yN3zevl63AqZ"
   },
   "source": [
    "### Задача 2: Функция вычисления IG"
   ]
  },
  {
   "cell_type": "code",
   "execution_count": null,
   "metadata": {
    "id": "1oXzXzYmZVe8"
   },
   "outputs": [],
   "source": [
    "def get_information_gain(X, y, feature_id, threshold):\n",
    "    \"\"\"\n",
    "    Вычисляет IG (Information Gain) для разбиения набора данных\n",
    "    по заданному признаку и пороговому значению.\n",
    "\n",
    "    Параметры\n",
    "    ----------\n",
    "    X : array-like, shape (n_samples, n_features)\n",
    "        Матрица объекты/признаки.\n",
    "    y : array-like, shape (n_samples,)\n",
    "        Вектор меток классов.\n",
    "    feature_id : int\n",
    "        Индекс признака для разбиения.\n",
    "    threshold : float\n",
    "        Пороговое значение для разбиения.\n",
    "\n",
    "    Результат\n",
    "    -------\n",
    "    information_gain : float\n",
    "        IG для разбиения.\n",
    "    \"\"\"\n",
    "    X = np.array(X)\n",
    "    y = np.array(y)\n",
    "    pass\n",
    "\n",
    "assert np.isclose(get_information_gain(X_train, y_train, 1, 170), 0.04935544674177095)\n",
    "assert np.isclose(get_information_gain(X_train, y_train, 2, 80), 0.3137754091311502)"
   ]
  },
  {
   "cell_type": "markdown",
   "metadata": {
    "id": "a894LVRNpClM"
   },
   "source": [
    "### Задача 3: Функция поиска лучшего разбиения"
   ]
  },
  {
   "cell_type": "code",
   "execution_count": null,
   "metadata": {
    "id": "63jz7_-9ZVe9"
   },
   "outputs": [],
   "source": [
    "def find_best_split(X, y):\n",
    "    \"\"\"\n",
    "    Находит наилучший признак и пороговое значение (с точки зрения IG)\n",
    "    для разбиения набора данных.\n",
    "\n",
    "    Параметры\n",
    "    ----------\n",
    "    X : array-like, shape (n_samples, n_features)\n",
    "        Матрица объекты/признаки.\n",
    "    y : array-like, shape (n_samples,)\n",
    "        Вектор меток классов.\n",
    "\n",
    "    Результат\n",
    "    -------\n",
    "    best_feature_id : int\n",
    "        Индекс наилучшего признака для разбиения.\n",
    "    best_threshold : float\n",
    "        Наилучшее пороговое значение для разбиения.\n",
    "    \"\"\"\n",
    "    X = np.array(X)\n",
    "    y = np.array(y)\n",
    "    pass\n",
    "\n",
    "assert np.isclose(find_best_split(X_test, y_test), (2,104)).all()\n",
    "assert np.isclose(find_best_split(X_train, y_train), (2,102)).all()"
   ]
  },
  {
   "cell_type": "markdown",
   "metadata": {
    "id": "_obpJRzv3zj6"
   },
   "source": [
    "Посмотрим, какие признак и порог дают наилучее значение $\\mathsf{IG}$ на первом шаге построение дерева."
   ]
  },
  {
   "cell_type": "code",
   "execution_count": null,
   "metadata": {
    "colab": {
     "base_uri": "https://localhost:8080/"
    },
    "executionInfo": {
     "elapsed": 7,
     "status": "ok",
     "timestamp": 1739358714999,
     "user": {
      "displayName": "Дмитрий Волчек",
      "userId": "12396512946067001179"
     },
     "user_tz": -180
    },
    "id": "K1yWIYW8ZVe9",
    "outputId": "ebe6d587-dd05-431f-8903-e4a0a826249b"
   },
   "outputs": [
    {
     "name": "stdout",
     "output_type": "stream",
     "text": [
      "Best feature ID:  2\n",
      "Best threshold:  102\n"
     ]
    }
   ],
   "source": [
    "best_feature_id, best_threshold = find_best_split(X_train, y_train)\n",
    "print(\"Best feature ID: \", best_feature_id)\n",
    "print(\"Best threshold: \", best_threshold)"
   ]
  },
  {
   "cell_type": "markdown",
   "metadata": {
    "id": "64x5Oz2apMBx"
   },
   "source": [
    "### Описание дерева как структуры данных"
   ]
  },
  {
   "cell_type": "code",
   "execution_count": null,
   "metadata": {
    "id": "M8HnWW4bZVe9"
   },
   "outputs": [],
   "source": [
    "class Node:\n",
    "    \"\"\"\n",
    "    Узел дерева решений.\n",
    "\n",
    "    Атрибуты\n",
    "    ----------\n",
    "    feature_id : int\n",
    "        Индекс признака для разбиения (для внутренних узлов).\n",
    "    threshold : float\n",
    "        Пороговое значение для разбиения (для внутренних узлов).\n",
    "    left : Node\n",
    "        Левый дочерний узел.\n",
    "    right : Node\n",
    "        Правый дочерний узел.\n",
    "    label : int\n",
    "        Метка класса (для листьев).\n",
    "    \"\"\"\n",
    "    def __init__(self, feature_id=None, threshold=None, left=None, right=None, label=None):\n",
    "        self.feature_id = feature_id\n",
    "        self.threshold = threshold\n",
    "        self.left = left\n",
    "        self.right = right\n",
    "        self.label = label"
   ]
  },
  {
   "cell_type": "markdown",
   "metadata": {
    "id": "vsfvuYlg0mtf"
   },
   "source": [
    "### Алгоритм построения дерева\n",
    "\n",
    "1.  Начать с корневого узла, содержащего все обучающие данные.\n",
    "2.  Выбрать наилучший признак и пороговое значение для разделения данных на два подмножества (узла).\n",
    "3.  Создать два дочерних узла, соответствующие подмножествам данных, полученным после разбиения.\n",
    "4.  Рекурсивно повторить шаги 2 и 3 для каждого дочернего узла, пока не будет достигнут критерий остановки (например, максимальная глубина дерева, минимальное количество объектов в узле).\n",
    "5.  Назначить каждому листу класс (в задачах классификации) или значение (в задачах регрессии), основываясь на большинстве объектов, попавших в этот лист."
   ]
  },
  {
   "cell_type": "code",
   "execution_count": null,
   "metadata": {
    "id": "ORV4mkMMZVe9"
   },
   "outputs": [],
   "source": [
    "def build_tree(X, y, max_depth=None, min_samples_split=2, depth=0):\n",
    "    \"\"\"\n",
    "    Рекурсивно строит дерево решений.\n",
    "\n",
    "    Параметры\n",
    "    ----------\n",
    "    X : array-like, shape (n_samples, n_features)\n",
    "        Матрица объекты/признаки.\n",
    "    y : array-like, shape (n_samples,)\n",
    "        Вектор меток классов.\n",
    "    max_depth : int, optional\n",
    "        Максимальная глубина дерева (по умолчанию None).\n",
    "    min_samples_split : int, optional\n",
    "        Минимальное количество объектов, необходимое для разделения узла (по умолчанию 2).\n",
    "    depth : int\n",
    "        Текущая глубина дерева (используется для контроля max_depth)\n",
    "\n",
    "    Результат\n",
    "    -------\n",
    "    tree : Node\n",
    "        Корень построенного дерева решений.\n",
    "    \"\"\"\n",
    "\n",
    "    X = np.array(X)\n",
    "    y = np.array(y)\n",
    "\n",
    "    # Проверка критериев остановки\n",
    "\n",
    "    #Если достигнута максимальная глубина\n",
    "    if max_depth is not None and depth >= max_depth:\n",
    "        #Создаем листовой узел с лейблом, соответсвующим наиболее частому классу\n",
    "        label = Counter(y).most_common(1)[0][0]\n",
    "        return Node(label=label)\n",
    "\n",
    "    #Если кол-во элементов в узле меньше минимального для разбиения\n",
    "    if len(y) <= min_samples_split:\n",
    "        label = Counter(y).most_common(1)[0][0]\n",
    "        return Node(label=label)\n",
    "\n",
    "    #Если в узле остался только один класс\n",
    "    if len(np.unique(y)) == 1:\n",
    "        return Node(label=y[0])\n",
    "\n",
    "    # Выбор лучшего разбиения\n",
    "    best_feature_id, best_threshold = find_best_split(X, y)\n",
    "\n",
    "    # Создание дочерних узлов\n",
    "\n",
    "    # Если не нашли чем делить, то возвращаем листовой узел\n",
    "    if best_feature_id is None:\n",
    "        label = Counter(y).most_common(1)[0][0]\n",
    "        return Node(label=label)\n",
    "\n",
    "    #Создаем маски на основе лучшего признака и порога\n",
    "    left_indices = X[:, best_feature_id] <= best_threshold\n",
    "    right_indices = X[:, best_feature_id] > best_threshold\n",
    "\n",
    "    #Если получилось так, что один из узлов пустой, то возвращаем листовой узел\n",
    "    if len(y[left_indices]) == 0 or len(y[right_indices]) == 0:\n",
    "        label = Counter(y).most_common(1)[0][0]\n",
    "        return Node(label=label)\n",
    "\n",
    "    #Делим матрицу объекты-признаки и вектор ответов на 2 части\n",
    "    X_left, y_left = X[left_indices], y[left_indices]\n",
    "    X_right, y_right = X[right_indices], y[right_indices]\n",
    "\n",
    "    #И рекурсивно вызываем ф-ю для левого и правого узла\n",
    "    left = build_tree(X_left, y_left, max_depth, min_samples_split, depth + 1)\n",
    "    right = build_tree(X_right, y_right, max_depth, min_samples_split, depth + 1)\n",
    "\n",
    "    # Создание узла и возврат\n",
    "    return Node(feature_id=best_feature_id, threshold=best_threshold, left=left, right=right)"
   ]
  },
  {
   "cell_type": "markdown",
   "metadata": {
    "id": "6R03lh6qpmHp"
   },
   "source": [
    "Создадим дерево заданной глубины"
   ]
  },
  {
   "cell_type": "code",
   "execution_count": null,
   "metadata": {
    "id": "3fE4MW9IZVe-"
   },
   "outputs": [],
   "source": [
    "max_depth = 5\n",
    "\n",
    "tree = build_tree(X_train, y_train, max_depth = max_depth)"
   ]
  },
  {
   "cell_type": "markdown",
   "metadata": {
    "id": "yPuQeDaNpdp1"
   },
   "source": [
    "### Задача 4: Функция прохода по дереву для предсказания ответа"
   ]
  },
  {
   "cell_type": "code",
   "execution_count": null,
   "metadata": {
    "id": "NMATgx98ZVe-"
   },
   "outputs": [],
   "source": [
    "def predict(tree, x):\n",
    "    \"\"\"\n",
    "    Предсказывает метку класса для одного объекта.\n",
    "\n",
    "    Параметры\n",
    "    ----------\n",
    "    tree : Node - корень (узел) дерева\n",
    "    x : array-like, shape (n_features,)\n",
    "        Вектор признаков объекта.\n",
    "\n",
    "    Результат\n",
    "    -------\n",
    "    label : int\n",
    "        Предсказанная метка класса.\n",
    "    \"\"\"\n",
    "    x = np.array(x)\n",
    "    pass\n",
    "\n",
    "assert predict(tree, X_test.iloc[0]) == 1 and predict(tree, X_test.iloc[3]) == 0"
   ]
  },
  {
   "cell_type": "code",
   "execution_count": null,
   "metadata": {
    "id": "BvM2auWwZVe_"
   },
   "outputs": [],
   "source": [
    "def test_predictions(tree, X_test):\n",
    "    \"\"\"\n",
    "    Предсказание для всего тестового набора\n",
    "    \"\"\"\n",
    "    X_test = np.array(X_test)\n",
    "    return [predict(tree, x) for x in X_test]"
   ]
  },
  {
   "cell_type": "code",
   "execution_count": null,
   "metadata": {
    "id": "jWclDTdEZVe_"
   },
   "outputs": [],
   "source": [
    "#Оценка точности\n",
    "accuracy_score(y_test, test_predictions(tree, X_test))"
   ]
  },
  {
   "cell_type": "markdown",
   "metadata": {
    "id": "UQTvAdKOqBER"
   },
   "source": [
    "## Библиотечная реализация"
   ]
  },
  {
   "cell_type": "code",
   "execution_count": null,
   "metadata": {
    "id": "a0f3KlSSZVe_"
   },
   "outputs": [],
   "source": [
    "from sklearn.tree import DecisionTreeClassifier\n",
    "from sklearn.metrics import accuracy_score\n",
    "model = DecisionTreeClassifier(max_depth = max_depth, criterion='entropy')\n",
    "model.fit(X_train, y_train)\n",
    "accuracy_score(y_test, model.predict(X_test))"
   ]
  },
  {
   "cell_type": "markdown",
   "metadata": {
    "id": "Kn4h7wdZm7CI"
   },
   "source": [
    "Можно сравнить полученные деревья (наша и библиотечная реализация)"
   ]
  },
  {
   "cell_type": "code",
   "execution_count": null,
   "metadata": {
    "colab": {
     "base_uri": "https://localhost:8080/"
    },
    "executionInfo": {
     "elapsed": 6,
     "status": "ok",
     "timestamp": 1739358715299,
     "user": {
      "displayName": "Дмитрий Волчек",
      "userId": "12396512946067001179"
     },
     "user_tz": -180
    },
    "id": "Dh7X3aFLn8_d",
    "outputId": "33fc16e2-e5c2-4271-dcdd-5b66e71be63c"
   },
   "outputs": [
    {
     "name": "stdout",
     "output_type": "stream",
     "text": [
      "Порог:  102\n",
      "Фича:  Weight\n"
     ]
    }
   ],
   "source": [
    "print('Порог: ', tree.threshold)\n",
    "print('Фича: ', X_train.columns[tree.feature_id])"
   ]
  },
  {
   "cell_type": "code",
   "execution_count": null,
   "metadata": {
    "id": "vH1OyVJXjyzU"
   },
   "outputs": [],
   "source": [
    "print('Порог: ', tree.left.left.right.threshold)\n",
    "print('Фича: ', X_train.columns[tree.left.left.right.feature_id])"
   ]
  },
  {
   "cell_type": "code",
   "execution_count": null,
   "metadata": {
    "id": "cSnAFB-sm3tt"
   },
   "outputs": [],
   "source": [
    "print('Порог: ', tree.right.left.right.threshold)\n",
    "print('Фича: ', X_train.columns[tree.right.left.right.feature_id])"
   ]
  },
  {
   "cell_type": "code",
   "execution_count": null,
   "metadata": {
    "id": "sXm2leOiZVe_"
   },
   "outputs": [],
   "source": [
    "dot_data = export_graphviz(model, out_file=None,\n",
    "                           feature_names=data.columns[:-1],\n",
    "                           class_names=['0', '1'],\n",
    "                           filled=True, rounded=True,\n",
    "                           special_characters=True)\n",
    "graph = graphviz.Source(dot_data)\n",
    "graph"
   ]
  },
  {
   "cell_type": "markdown",
   "metadata": {
    "id": "7-Idxn3xya5e"
   },
   "source": [
    "### Feature importance"
   ]
  },
  {
   "cell_type": "markdown",
   "metadata": {
    "id": "eHktQhF8ysHU"
   },
   "source": [
    "На основе вклада конкретного признака в увеличение IG можно оценивать важность признаков.\n",
    "\n",
    "Пусть $n$ — общее число объектов, $n_{node}$ — число объектов, пришедших в узел $node$, $f_{node}$ — прирост информации при использовании признака $f$ в узле $node$. Тогда вклад этого узла в важность признака $f$ определяется как\n",
    "\n",
    "$$\n",
    "\\frac{n_{node}}{n} \\cdot IG(f_{node}).\n",
    "$$\n",
    "\n",
    "Далее для каждого признака суммируются все вклады IG, которые были получены при использовании этого признака во всех узлах дерева. После чего важности нормируются. В результате важность признака $f$ определяется следующим образом:\n",
    "\n",
    "$$\n",
    "FI(f) = \\frac{\\sum_{node|f_{node} = f}\\frac{n_{node}}{n} \\cdot IG(f_{node})}{\\sum_{node} \\frac{n_{node}}{n} \\cdot IG(f_{node})}.\n",
    "$$"
   ]
  },
  {
   "cell_type": "code",
   "execution_count": null,
   "metadata": {
    "id": "P8yZf1eVyrPv"
   },
   "outputs": [],
   "source": [
    "feature_importances = model.feature_importances_\n",
    "\n",
    "# Создаем DataFrame для удобства визуализации\n",
    "feature_importance_df = pd.DataFrame({'Feature': X_train.columns, 'Importance': feature_importances})\n",
    "\n",
    "# Сортируем признаки по важности\n",
    "feature_importance_df = feature_importance_df.sort_values('Importance', ascending=False)\n",
    "\n",
    "# Визуализируем\n",
    "plt.figure(figsize=(10, 6))\n",
    "plt.bar(feature_importance_df['Feature'], feature_importance_df['Importance'])\n",
    "plt.xlabel('Feature')\n",
    "plt.ylabel('Importance')\n",
    "plt.title('Feature Importances')\n",
    "plt.xticks(rotation=45, ha='right')\n",
    "plt.tight_layout()\n",
    "plt.show()"
   ]
  },
  {
   "cell_type": "markdown",
   "metadata": {
    "id": "XDSXcQJ_qaC2"
   },
   "source": [
    "На что влияет глубина?"
   ]
  },
  {
   "cell_type": "code",
   "execution_count": null,
   "metadata": {
    "id": "M6ttRRzVZVe_"
   },
   "outputs": [],
   "source": [
    "def calculate_metrics(max_depth, X_train = X_train, y_train = y_train, X_test= X_test, y_test=y_test):\n",
    "    model = DecisionTreeClassifier(max_depth = max_depth)\n",
    "    model.fit(X_train, y_train)\n",
    "    y_pred = model.predict(X_test)\n",
    "    return accuracy_score(y_test, y_pred)\n",
    "\n",
    "metrics_arr = [calculate_metrics(max_depth) for max_depth in range(1,14)]\n",
    "plt.plot(metrics_arr)\n",
    "plt.xlabel('Depth')\n",
    "plt.ylabel('Accuracy')\n"
   ]
  },
  {
   "cell_type": "markdown",
   "metadata": {
    "id": "bwJYMZAn378T"
   },
   "source": [
    "# BMI"
   ]
  },
  {
   "cell_type": "markdown",
   "metadata": {
    "id": "s2-b3jG4qWLh"
   },
   "source": [
    "[BMI](https://ru.wikipedia.org/wiki/%D0%98%D0%BD%D0%B4%D0%B5%D0%BA%D1%81_%D0%BC%D0%B0%D1%81%D1%81%D1%8B_%D1%82%D0%B5%D0%BB%D0%B0) — величина, позволяющая оценить степень соответствия массы человека и его роста и тем самым косвенно судить о том, является ли масса недостаточной, нормальной или избыточной. Определяется следующим образом:\n",
    "\n",
    "$$\n",
    "\\textbf{BMI}(h,w) = \\frac{w}{h^2},\n",
    "$$\n",
    "\n",
    "где $h$ — рост в м, $w$ — вес в кг"
   ]
  },
  {
   "cell_type": "markdown",
   "metadata": {
    "id": "A_mdbwr_rXBI"
   },
   "source": [
    "Добавим признак BMI в рассмотрение."
   ]
  },
  {
   "cell_type": "code",
   "execution_count": null,
   "metadata": {
    "colab": {
     "base_uri": "https://localhost:8080/",
     "height": 419
    },
    "executionInfo": {
     "elapsed": 65,
     "status": "ok",
     "timestamp": 1739274364458,
     "user": {
      "displayName": "Дмитрий Волчек",
      "userId": "12396512946067001179"
     },
     "user_tz": -180
    },
    "id": "VrSWw2AW3drx",
    "outputId": "20342b7f-f056-4a3b-a15c-e04388a2545c"
   },
   "outputs": [
    {
     "data": {
      "application/vnd.google.colaboratory.intrinsic+json": {
       "summary": "{\n  \"name\": \"data\",\n  \"rows\": 500,\n  \"fields\": [\n    {\n      \"column\": \"Gender\",\n      \"properties\": {\n        \"dtype\": \"number\",\n        \"std\": 0,\n        \"min\": 0,\n        \"max\": 1,\n        \"num_unique_values\": 2,\n        \"samples\": [\n          0,\n          1\n        ],\n        \"semantic_type\": \"\",\n        \"description\": \"\"\n      }\n    },\n    {\n      \"column\": \"Height\",\n      \"properties\": {\n        \"dtype\": \"number\",\n        \"std\": 16,\n        \"min\": 140,\n        \"max\": 199,\n        \"num_unique_values\": 60,\n        \"samples\": [\n          174,\n          147\n        ],\n        \"semantic_type\": \"\",\n        \"description\": \"\"\n      }\n    },\n    {\n      \"column\": \"Weight\",\n      \"properties\": {\n        \"dtype\": \"number\",\n        \"std\": 32,\n        \"min\": 50,\n        \"max\": 160,\n        \"num_unique_values\": 110,\n        \"samples\": [\n          124,\n          80\n        ],\n        \"semantic_type\": \"\",\n        \"description\": \"\"\n      }\n    },\n    {\n      \"column\": \"obese\",\n      \"properties\": {\n        \"dtype\": \"number\",\n        \"std\": 0,\n        \"min\": 0,\n        \"max\": 1,\n        \"num_unique_values\": 2,\n        \"samples\": [\n          0,\n          1\n        ],\n        \"semantic_type\": \"\",\n        \"description\": \"\"\n      }\n    },\n    {\n      \"column\": \"BMI\",\n      \"properties\": {\n        \"dtype\": \"number\",\n        \"std\": 13.965620181356995,\n        \"min\": 12.753800632588511,\n        \"max\": 78.85340210275739,\n        \"num_unique_values\": 476,\n        \"samples\": [\n          21.936347412254616,\n          62.07148363016755\n        ],\n        \"semantic_type\": \"\",\n        \"description\": \"\"\n      }\n    }\n  ]\n}",
       "type": "dataframe",
       "variable_name": "data"
      },
      "text/html": [
       "\n",
       "  <div id=\"df-0e8fbe39-ef14-42a0-a013-746f81d5f528\" class=\"colab-df-container\">\n",
       "    <div>\n",
       "<style scoped>\n",
       "    .dataframe tbody tr th:only-of-type {\n",
       "        vertical-align: middle;\n",
       "    }\n",
       "\n",
       "    .dataframe tbody tr th {\n",
       "        vertical-align: top;\n",
       "    }\n",
       "\n",
       "    .dataframe thead th {\n",
       "        text-align: right;\n",
       "    }\n",
       "</style>\n",
       "<table border=\"1\" class=\"dataframe\">\n",
       "  <thead>\n",
       "    <tr style=\"text-align: right;\">\n",
       "      <th></th>\n",
       "      <th>Gender</th>\n",
       "      <th>Height</th>\n",
       "      <th>Weight</th>\n",
       "      <th>obese</th>\n",
       "      <th>BMI</th>\n",
       "    </tr>\n",
       "  </thead>\n",
       "  <tbody>\n",
       "    <tr>\n",
       "      <th>0</th>\n",
       "      <td>1</td>\n",
       "      <td>174</td>\n",
       "      <td>96</td>\n",
       "      <td>1</td>\n",
       "      <td>31.708284</td>\n",
       "    </tr>\n",
       "    <tr>\n",
       "      <th>1</th>\n",
       "      <td>1</td>\n",
       "      <td>189</td>\n",
       "      <td>87</td>\n",
       "      <td>0</td>\n",
       "      <td>24.355421</td>\n",
       "    </tr>\n",
       "    <tr>\n",
       "      <th>2</th>\n",
       "      <td>0</td>\n",
       "      <td>185</td>\n",
       "      <td>110</td>\n",
       "      <td>1</td>\n",
       "      <td>32.140248</td>\n",
       "    </tr>\n",
       "    <tr>\n",
       "      <th>3</th>\n",
       "      <td>0</td>\n",
       "      <td>195</td>\n",
       "      <td>104</td>\n",
       "      <td>0</td>\n",
       "      <td>27.350427</td>\n",
       "    </tr>\n",
       "    <tr>\n",
       "      <th>4</th>\n",
       "      <td>1</td>\n",
       "      <td>149</td>\n",
       "      <td>61</td>\n",
       "      <td>0</td>\n",
       "      <td>27.476240</td>\n",
       "    </tr>\n",
       "    <tr>\n",
       "      <th>...</th>\n",
       "      <td>...</td>\n",
       "      <td>...</td>\n",
       "      <td>...</td>\n",
       "      <td>...</td>\n",
       "      <td>...</td>\n",
       "    </tr>\n",
       "    <tr>\n",
       "      <th>495</th>\n",
       "      <td>0</td>\n",
       "      <td>150</td>\n",
       "      <td>153</td>\n",
       "      <td>1</td>\n",
       "      <td>68.000000</td>\n",
       "    </tr>\n",
       "    <tr>\n",
       "      <th>496</th>\n",
       "      <td>0</td>\n",
       "      <td>184</td>\n",
       "      <td>121</td>\n",
       "      <td>1</td>\n",
       "      <td>35.739603</td>\n",
       "    </tr>\n",
       "    <tr>\n",
       "      <th>497</th>\n",
       "      <td>0</td>\n",
       "      <td>141</td>\n",
       "      <td>136</td>\n",
       "      <td>1</td>\n",
       "      <td>68.407022</td>\n",
       "    </tr>\n",
       "    <tr>\n",
       "      <th>498</th>\n",
       "      <td>1</td>\n",
       "      <td>150</td>\n",
       "      <td>95</td>\n",
       "      <td>1</td>\n",
       "      <td>42.222222</td>\n",
       "    </tr>\n",
       "    <tr>\n",
       "      <th>499</th>\n",
       "      <td>1</td>\n",
       "      <td>173</td>\n",
       "      <td>131</td>\n",
       "      <td>1</td>\n",
       "      <td>43.770256</td>\n",
       "    </tr>\n",
       "  </tbody>\n",
       "</table>\n",
       "<p>500 rows × 5 columns</p>\n",
       "</div>\n",
       "    <div class=\"colab-df-buttons\">\n",
       "\n",
       "  <div class=\"colab-df-container\">\n",
       "    <button class=\"colab-df-convert\" onclick=\"convertToInteractive('df-0e8fbe39-ef14-42a0-a013-746f81d5f528')\"\n",
       "            title=\"Convert this dataframe to an interactive table.\"\n",
       "            style=\"display:none;\">\n",
       "\n",
       "  <svg xmlns=\"http://www.w3.org/2000/svg\" height=\"24px\" viewBox=\"0 -960 960 960\">\n",
       "    <path d=\"M120-120v-720h720v720H120Zm60-500h600v-160H180v160Zm220 220h160v-160H400v160Zm0 220h160v-160H400v160ZM180-400h160v-160H180v160Zm440 0h160v-160H620v160ZM180-180h160v-160H180v160Zm440 0h160v-160H620v160Z\"/>\n",
       "  </svg>\n",
       "    </button>\n",
       "\n",
       "  <style>\n",
       "    .colab-df-container {\n",
       "      display:flex;\n",
       "      gap: 12px;\n",
       "    }\n",
       "\n",
       "    .colab-df-convert {\n",
       "      background-color: #E8F0FE;\n",
       "      border: none;\n",
       "      border-radius: 50%;\n",
       "      cursor: pointer;\n",
       "      display: none;\n",
       "      fill: #1967D2;\n",
       "      height: 32px;\n",
       "      padding: 0 0 0 0;\n",
       "      width: 32px;\n",
       "    }\n",
       "\n",
       "    .colab-df-convert:hover {\n",
       "      background-color: #E2EBFA;\n",
       "      box-shadow: 0px 1px 2px rgba(60, 64, 67, 0.3), 0px 1px 3px 1px rgba(60, 64, 67, 0.15);\n",
       "      fill: #174EA6;\n",
       "    }\n",
       "\n",
       "    .colab-df-buttons div {\n",
       "      margin-bottom: 4px;\n",
       "    }\n",
       "\n",
       "    [theme=dark] .colab-df-convert {\n",
       "      background-color: #3B4455;\n",
       "      fill: #D2E3FC;\n",
       "    }\n",
       "\n",
       "    [theme=dark] .colab-df-convert:hover {\n",
       "      background-color: #434B5C;\n",
       "      box-shadow: 0px 1px 3px 1px rgba(0, 0, 0, 0.15);\n",
       "      filter: drop-shadow(0px 1px 2px rgba(0, 0, 0, 0.3));\n",
       "      fill: #FFFFFF;\n",
       "    }\n",
       "  </style>\n",
       "\n",
       "    <script>\n",
       "      const buttonEl =\n",
       "        document.querySelector('#df-0e8fbe39-ef14-42a0-a013-746f81d5f528 button.colab-df-convert');\n",
       "      buttonEl.style.display =\n",
       "        google.colab.kernel.accessAllowed ? 'block' : 'none';\n",
       "\n",
       "      async function convertToInteractive(key) {\n",
       "        const element = document.querySelector('#df-0e8fbe39-ef14-42a0-a013-746f81d5f528');\n",
       "        const dataTable =\n",
       "          await google.colab.kernel.invokeFunction('convertToInteractive',\n",
       "                                                    [key], {});\n",
       "        if (!dataTable) return;\n",
       "\n",
       "        const docLinkHtml = 'Like what you see? Visit the ' +\n",
       "          '<a target=\"_blank\" href=https://colab.research.google.com/notebooks/data_table.ipynb>data table notebook</a>'\n",
       "          + ' to learn more about interactive tables.';\n",
       "        element.innerHTML = '';\n",
       "        dataTable['output_type'] = 'display_data';\n",
       "        await google.colab.output.renderOutput(dataTable, element);\n",
       "        const docLink = document.createElement('div');\n",
       "        docLink.innerHTML = docLinkHtml;\n",
       "        element.appendChild(docLink);\n",
       "      }\n",
       "    </script>\n",
       "  </div>\n",
       "\n",
       "\n",
       "<div id=\"df-0edc05ab-7f30-441a-9e01-33fe17b1127e\">\n",
       "  <button class=\"colab-df-quickchart\" onclick=\"quickchart('df-0edc05ab-7f30-441a-9e01-33fe17b1127e')\"\n",
       "            title=\"Suggest charts\"\n",
       "            style=\"display:none;\">\n",
       "\n",
       "<svg xmlns=\"http://www.w3.org/2000/svg\" height=\"24px\"viewBox=\"0 0 24 24\"\n",
       "     width=\"24px\">\n",
       "    <g>\n",
       "        <path d=\"M19 3H5c-1.1 0-2 .9-2 2v14c0 1.1.9 2 2 2h14c1.1 0 2-.9 2-2V5c0-1.1-.9-2-2-2zM9 17H7v-7h2v7zm4 0h-2V7h2v10zm4 0h-2v-4h2v4z\"/>\n",
       "    </g>\n",
       "</svg>\n",
       "  </button>\n",
       "\n",
       "<style>\n",
       "  .colab-df-quickchart {\n",
       "      --bg-color: #E8F0FE;\n",
       "      --fill-color: #1967D2;\n",
       "      --hover-bg-color: #E2EBFA;\n",
       "      --hover-fill-color: #174EA6;\n",
       "      --disabled-fill-color: #AAA;\n",
       "      --disabled-bg-color: #DDD;\n",
       "  }\n",
       "\n",
       "  [theme=dark] .colab-df-quickchart {\n",
       "      --bg-color: #3B4455;\n",
       "      --fill-color: #D2E3FC;\n",
       "      --hover-bg-color: #434B5C;\n",
       "      --hover-fill-color: #FFFFFF;\n",
       "      --disabled-bg-color: #3B4455;\n",
       "      --disabled-fill-color: #666;\n",
       "  }\n",
       "\n",
       "  .colab-df-quickchart {\n",
       "    background-color: var(--bg-color);\n",
       "    border: none;\n",
       "    border-radius: 50%;\n",
       "    cursor: pointer;\n",
       "    display: none;\n",
       "    fill: var(--fill-color);\n",
       "    height: 32px;\n",
       "    padding: 0;\n",
       "    width: 32px;\n",
       "  }\n",
       "\n",
       "  .colab-df-quickchart:hover {\n",
       "    background-color: var(--hover-bg-color);\n",
       "    box-shadow: 0 1px 2px rgba(60, 64, 67, 0.3), 0 1px 3px 1px rgba(60, 64, 67, 0.15);\n",
       "    fill: var(--button-hover-fill-color);\n",
       "  }\n",
       "\n",
       "  .colab-df-quickchart-complete:disabled,\n",
       "  .colab-df-quickchart-complete:disabled:hover {\n",
       "    background-color: var(--disabled-bg-color);\n",
       "    fill: var(--disabled-fill-color);\n",
       "    box-shadow: none;\n",
       "  }\n",
       "\n",
       "  .colab-df-spinner {\n",
       "    border: 2px solid var(--fill-color);\n",
       "    border-color: transparent;\n",
       "    border-bottom-color: var(--fill-color);\n",
       "    animation:\n",
       "      spin 1s steps(1) infinite;\n",
       "  }\n",
       "\n",
       "  @keyframes spin {\n",
       "    0% {\n",
       "      border-color: transparent;\n",
       "      border-bottom-color: var(--fill-color);\n",
       "      border-left-color: var(--fill-color);\n",
       "    }\n",
       "    20% {\n",
       "      border-color: transparent;\n",
       "      border-left-color: var(--fill-color);\n",
       "      border-top-color: var(--fill-color);\n",
       "    }\n",
       "    30% {\n",
       "      border-color: transparent;\n",
       "      border-left-color: var(--fill-color);\n",
       "      border-top-color: var(--fill-color);\n",
       "      border-right-color: var(--fill-color);\n",
       "    }\n",
       "    40% {\n",
       "      border-color: transparent;\n",
       "      border-right-color: var(--fill-color);\n",
       "      border-top-color: var(--fill-color);\n",
       "    }\n",
       "    60% {\n",
       "      border-color: transparent;\n",
       "      border-right-color: var(--fill-color);\n",
       "    }\n",
       "    80% {\n",
       "      border-color: transparent;\n",
       "      border-right-color: var(--fill-color);\n",
       "      border-bottom-color: var(--fill-color);\n",
       "    }\n",
       "    90% {\n",
       "      border-color: transparent;\n",
       "      border-bottom-color: var(--fill-color);\n",
       "    }\n",
       "  }\n",
       "</style>\n",
       "\n",
       "  <script>\n",
       "    async function quickchart(key) {\n",
       "      const quickchartButtonEl =\n",
       "        document.querySelector('#' + key + ' button');\n",
       "      quickchartButtonEl.disabled = true;  // To prevent multiple clicks.\n",
       "      quickchartButtonEl.classList.add('colab-df-spinner');\n",
       "      try {\n",
       "        const charts = await google.colab.kernel.invokeFunction(\n",
       "            'suggestCharts', [key], {});\n",
       "      } catch (error) {\n",
       "        console.error('Error during call to suggestCharts:', error);\n",
       "      }\n",
       "      quickchartButtonEl.classList.remove('colab-df-spinner');\n",
       "      quickchartButtonEl.classList.add('colab-df-quickchart-complete');\n",
       "    }\n",
       "    (() => {\n",
       "      let quickchartButtonEl =\n",
       "        document.querySelector('#df-0edc05ab-7f30-441a-9e01-33fe17b1127e button');\n",
       "      quickchartButtonEl.style.display =\n",
       "        google.colab.kernel.accessAllowed ? 'block' : 'none';\n",
       "    })();\n",
       "  </script>\n",
       "</div>\n",
       "\n",
       "  <div id=\"id_e8cbbd64-f053-46ea-aa24-fb869d3938bc\">\n",
       "    <style>\n",
       "      .colab-df-generate {\n",
       "        background-color: #E8F0FE;\n",
       "        border: none;\n",
       "        border-radius: 50%;\n",
       "        cursor: pointer;\n",
       "        display: none;\n",
       "        fill: #1967D2;\n",
       "        height: 32px;\n",
       "        padding: 0 0 0 0;\n",
       "        width: 32px;\n",
       "      }\n",
       "\n",
       "      .colab-df-generate:hover {\n",
       "        background-color: #E2EBFA;\n",
       "        box-shadow: 0px 1px 2px rgba(60, 64, 67, 0.3), 0px 1px 3px 1px rgba(60, 64, 67, 0.15);\n",
       "        fill: #174EA6;\n",
       "      }\n",
       "\n",
       "      [theme=dark] .colab-df-generate {\n",
       "        background-color: #3B4455;\n",
       "        fill: #D2E3FC;\n",
       "      }\n",
       "\n",
       "      [theme=dark] .colab-df-generate:hover {\n",
       "        background-color: #434B5C;\n",
       "        box-shadow: 0px 1px 3px 1px rgba(0, 0, 0, 0.15);\n",
       "        filter: drop-shadow(0px 1px 2px rgba(0, 0, 0, 0.3));\n",
       "        fill: #FFFFFF;\n",
       "      }\n",
       "    </style>\n",
       "    <button class=\"colab-df-generate\" onclick=\"generateWithVariable('data')\"\n",
       "            title=\"Generate code using this dataframe.\"\n",
       "            style=\"display:none;\">\n",
       "\n",
       "  <svg xmlns=\"http://www.w3.org/2000/svg\" height=\"24px\"viewBox=\"0 0 24 24\"\n",
       "       width=\"24px\">\n",
       "    <path d=\"M7,19H8.4L18.45,9,17,7.55,7,17.6ZM5,21V16.75L18.45,3.32a2,2,0,0,1,2.83,0l1.4,1.43a1.91,1.91,0,0,1,.58,1.4,1.91,1.91,0,0,1-.58,1.4L9.25,21ZM18.45,9,17,7.55Zm-12,3A5.31,5.31,0,0,0,4.9,8.1,5.31,5.31,0,0,0,1,6.5,5.31,5.31,0,0,0,4.9,4.9,5.31,5.31,0,0,0,6.5,1,5.31,5.31,0,0,0,8.1,4.9,5.31,5.31,0,0,0,12,6.5,5.46,5.46,0,0,0,6.5,12Z\"/>\n",
       "  </svg>\n",
       "    </button>\n",
       "    <script>\n",
       "      (() => {\n",
       "      const buttonEl =\n",
       "        document.querySelector('#id_e8cbbd64-f053-46ea-aa24-fb869d3938bc button.colab-df-generate');\n",
       "      buttonEl.style.display =\n",
       "        google.colab.kernel.accessAllowed ? 'block' : 'none';\n",
       "\n",
       "      buttonEl.onclick = () => {\n",
       "        google.colab.notebook.generateWithVariable('data');\n",
       "      }\n",
       "      })();\n",
       "    </script>\n",
       "  </div>\n",
       "\n",
       "    </div>\n",
       "  </div>\n"
      ],
      "text/plain": [
       "     Gender  Height  Weight  obese        BMI\n",
       "0         1     174      96      1  31.708284\n",
       "1         1     189      87      0  24.355421\n",
       "2         0     185     110      1  32.140248\n",
       "3         0     195     104      0  27.350427\n",
       "4         1     149      61      0  27.476240\n",
       "..      ...     ...     ...    ...        ...\n",
       "495       0     150     153      1  68.000000\n",
       "496       0     184     121      1  35.739603\n",
       "497       0     141     136      1  68.407022\n",
       "498       1     150      95      1  42.222222\n",
       "499       1     173     131      1  43.770256\n",
       "\n",
       "[500 rows x 5 columns]"
      ]
     },
     "execution_count": 68,
     "metadata": {},
     "output_type": "execute_result"
    }
   ],
   "source": [
    "data['BMI'] = data['Weight'] / (data['Height']/100)**2\n",
    "data"
   ]
  },
  {
   "cell_type": "code",
   "execution_count": null,
   "metadata": {
    "id": "svzFraql32eo"
   },
   "outputs": [],
   "source": [
    "# Разделение на обучающую и тестовую выборки\n",
    "X_train, X_test, y_train, y_test = train_test_split(data.drop('obese', axis=1), data['obese'], test_size=0.2, random_state=42, stratify=data['obese'])"
   ]
  },
  {
   "cell_type": "code",
   "execution_count": null,
   "metadata": {
    "id": "-bqdk9pg4AI4"
   },
   "outputs": [],
   "source": [
    "model = DecisionTreeClassifier(max_depth = 5, criterion='entropy')\n",
    "model.fit(X_train, y_train)\n",
    "accuracy_score(y_test, model.predict(X_test))"
   ]
  },
  {
   "cell_type": "code",
   "execution_count": null,
   "metadata": {
    "id": "5KoZj2n_4awz"
   },
   "outputs": [],
   "source": [
    "from sklearn.tree import export_graphviz\n",
    "import graphviz\n",
    "dot_data = export_graphviz(model, out_file=None,\n",
    "                           feature_names=X_train.columns,\n",
    "                           class_names=['0', '1'],\n",
    "                           filled=True, rounded=True,\n",
    "                           special_characters=True)\n",
    "graph = graphviz.Source(dot_data)\n",
    "graph"
   ]
  },
  {
   "cell_type": "code",
   "execution_count": null,
   "metadata": {
    "id": "oOROyD3G1SBQ"
   },
   "outputs": [],
   "source": [
    "feature_importances = model.feature_importances_\n",
    "\n",
    "# Создаем DataFrame для удобства визуализации\n",
    "feature_importance_df = pd.DataFrame({'Feature': X_train.columns, 'Importance': feature_importances})\n",
    "\n",
    "# Сортируем признаки по важности\n",
    "feature_importance_df = feature_importance_df.sort_values('Importance', ascending=False)\n",
    "\n",
    "# Визуализируем\n",
    "plt.figure(figsize=(10, 6))\n",
    "plt.bar(feature_importance_df['Feature'], feature_importance_df['Importance'])\n",
    "plt.xlabel('Feature')\n",
    "plt.ylabel('Importance')\n",
    "plt.title('Feature Importances')\n",
    "plt.xticks(rotation=45, ha='right')\n",
    "plt.tight_layout()\n",
    "plt.show()"
   ]
  },
  {
   "cell_type": "code",
   "execution_count": null,
   "metadata": {
    "id": "pL3AbFCt4-Ex"
   },
   "outputs": [],
   "source": [
    "model = DecisionTreeClassifier(max_depth = 1, criterion='entropy')\n",
    "model.fit(X_train, y_train)\n",
    "accuracy_score(y_test, model.predict(X_test))"
   ]
  },
  {
   "cell_type": "code",
   "execution_count": null,
   "metadata": {
    "id": "Za9lZ5SW5COG"
   },
   "outputs": [],
   "source": [
    "dot_data = export_graphviz(model, out_file=None,\n",
    "                           feature_names=X_train.columns,\n",
    "                           class_names=['0', '1'],\n",
    "                           filled=True, rounded=True,\n",
    "                           special_characters=True)\n",
    "graph = graphviz.Source(dot_data)\n",
    "graph"
   ]
  },
  {
   "cell_type": "markdown",
   "metadata": {
    "id": "KwQTBhthrjAF"
   },
   "source": [
    "# Вопросы для обсуждения"
   ]
  },
  {
   "cell_type": "markdown",
   "metadata": {
    "id": "dbTwh5V-sGA-"
   },
   "source": [
    "1. Недостатки с точки зрения вычислительной сложности\n",
    "2. Виды подрезки (pruning): `pre-pruning` vs `post-pruning`. А как в `sklearn` (`max_depth` & `min_samples_split` & `min_samples_leaf` vs `ccp_alpha`?\n",
    "3. Как еще можно выбирать фичу и порог (сейчас используем все уникальные значения и жадный алгоритм)?\n",
    "4. Что насчет масштабирования признаков?\n",
    "5. Что насчет переобучения?\n",
    "6. Что с интерпретируемостью?\n",
    "7. В целом как можно охарактеризовать алгоритм с точки зрения использования эвристик?"
   ]
  },
  {
   "cell_type": "markdown",
   "metadata": {
    "id": "pvsdKSZlvbmf"
   },
   "source": [
    "Дополнительную информацию можно почепнуть еще [вот тут](https://education.yandex.ru/handbook/ml/article/reshayushchiye-derevya)\n"
   ]
  }
 ],
 "metadata": {
  "colab": {
   "provenance": []
  },
  "kernelspec": {
   "display_name": "my-rdkit-env",
   "language": "python",
   "name": "python3"
  },
  "language_info": {
   "codemirror_mode": {
    "name": "ipython",
    "version": 3
   },
   "file_extension": ".py",
   "mimetype": "text/x-python",
   "name": "python",
   "nbconvert_exporter": "python",
   "pygments_lexer": "ipython3",
   "version": "3.13.0"
  },
  "orig_nbformat": 4
 },
 "nbformat": 4,
 "nbformat_minor": 0
}
