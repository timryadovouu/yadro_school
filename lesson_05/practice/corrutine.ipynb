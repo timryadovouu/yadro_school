{
 "cells": [
  {
   "cell_type": "code",
   "execution_count": 3,
   "id": "c7255729",
   "metadata": {
    "ExecuteTime": {
     "end_time": "2024-10-24T15:05:58.638829Z",
     "start_time": "2024-10-24T15:05:58.624848Z"
    }
   },
   "outputs": [],
   "source": [
    "def accumulator():\n",
    "    total = 0\n",
    "    while True:\n",
    "        value = yield total\n",
    "        if value is None:\n",
    "            break\n",
    "        total += value"
   ]
  },
  {
   "cell_type": "code",
   "execution_count": 4,
   "id": "471471c0",
   "metadata": {},
   "outputs": [],
   "source": [
    "gen = accumulator()"
   ]
  },
  {
   "cell_type": "code",
   "execution_count": 5,
   "id": "00bfa0fb",
   "metadata": {},
   "outputs": [
    {
     "name": "stdout",
     "output_type": "stream",
     "text": [
      "0\n"
     ]
    }
   ],
   "source": [
    "print(next(gen))"
   ]
  },
  {
   "cell_type": "code",
   "execution_count": 6,
   "id": "fcc048b8",
   "metadata": {},
   "outputs": [
    {
     "name": "stdout",
     "output_type": "stream",
     "text": [
      "10\n"
     ]
    }
   ],
   "source": [
    "print(gen.send(10))"
   ]
  },
  {
   "cell_type": "code",
   "execution_count": 7,
   "id": "8d5dfc37",
   "metadata": {},
   "outputs": [
    {
     "name": "stdout",
     "output_type": "stream",
     "text": [
      "30\n"
     ]
    }
   ],
   "source": [
    "print(gen.send(20))"
   ]
  },
  {
   "cell_type": "code",
   "execution_count": 8,
   "id": "32ade8d2",
   "metadata": {},
   "outputs": [
    {
     "name": "stdout",
     "output_type": "stream",
     "text": [
      "35\n"
     ]
    }
   ],
   "source": [
    "print(gen.send(5))"
   ]
  },
  {
   "cell_type": "code",
   "execution_count": 9,
   "id": "5f541bed",
   "metadata": {},
   "outputs": [
    {
     "ename": "StopIteration",
     "evalue": "",
     "output_type": "error",
     "traceback": [
      "\u001b[0;31m---------------------------------------------------------------------------\u001b[0m",
      "\u001b[0;31mStopIteration\u001b[0m                             Traceback (most recent call last)",
      "Cell \u001b[0;32mIn[9], line 1\u001b[0m\n\u001b[0;32m----> 1\u001b[0m \u001b[43mgen\u001b[49m\u001b[38;5;241;43m.\u001b[39;49m\u001b[43msend\u001b[49m\u001b[43m(\u001b[49m\u001b[38;5;28;43;01mNone\u001b[39;49;00m\u001b[43m)\u001b[49m\n",
      "\u001b[0;31mStopIteration\u001b[0m: "
     ]
    }
   ],
   "source": [
    "gen.send(None)"
   ]
  }
 ],
 "metadata": {
  "kernelspec": {
   "display_name": ".venv",
   "language": "python",
   "name": "python3"
  },
  "language_info": {
   "codemirror_mode": {
    "name": "ipython",
    "version": 3
   },
   "file_extension": ".py",
   "mimetype": "text/x-python",
   "name": "python",
   "nbconvert_exporter": "python",
   "pygments_lexer": "ipython3",
   "version": "3.13.0"
  }
 },
 "nbformat": 4,
 "nbformat_minor": 5
}
