{
 "cells": [
  {
   "cell_type": "code",
   "execution_count": 2,
   "id": "c7255729",
   "metadata": {
    "ExecuteTime": {
     "end_time": "2024-10-24T15:05:58.638829Z",
     "start_time": "2024-10-24T15:05:58.624848Z"
    }
   },
   "outputs": [],
   "source": [
    "def accumulator():\n",
    "    total = 0\n",
    "    while True:\n",
    "        value = yield total\n",
    "        if value is None:\n",
    "            break\n",
    "        total += value"
   ]
  },
  {
   "cell_type": "code",
   "execution_count": null,
   "id": "471471c0",
   "metadata": {},
   "outputs": [],
   "source": [
    "gen = accumulator()"
   ]
  },
  {
   "cell_type": "code",
   "execution_count": null,
   "id": "00bfa0fb",
   "metadata": {},
   "outputs": [],
   "source": [
    "print(next(gen))"
   ]
  },
  {
   "cell_type": "code",
   "execution_count": null,
   "id": "fcc048b8",
   "metadata": {},
   "outputs": [],
   "source": [
    "print(gen.send(10))"
   ]
  },
  {
   "cell_type": "code",
   "execution_count": null,
   "id": "8d5dfc37",
   "metadata": {},
   "outputs": [],
   "source": [
    "print(gen.send(20))"
   ]
  },
  {
   "cell_type": "code",
   "execution_count": null,
   "id": "32ade8d2",
   "metadata": {},
   "outputs": [],
   "source": [
    "print(gen.send(5))"
   ]
  },
  {
   "cell_type": "code",
   "execution_count": null,
   "id": "5f541bed",
   "metadata": {},
   "outputs": [],
   "source": [
    "gen.send(None)"
   ]
  }
 ],
 "metadata": {
  "kernelspec": {
   "display_name": "Python 3 (ipykernel)",
   "language": "python",
   "name": "python3"
  },
  "language_info": {
   "codemirror_mode": {
    "name": "ipython",
    "version": 3
   },
   "file_extension": ".py",
   "mimetype": "text/x-python",
   "name": "python",
   "nbconvert_exporter": "python",
   "pygments_lexer": "ipython3",
   "version": "3.9.7"
  }
 },
 "nbformat": 4,
 "nbformat_minor": 5
}
