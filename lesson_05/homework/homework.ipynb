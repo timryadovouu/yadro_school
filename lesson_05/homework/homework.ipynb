{
 "cells": [
  {
   "cell_type": "markdown",
   "id": "4feb6bdc",
   "metadata": {},
   "source": [
    "# Итераторы"
   ]
  },
  {
   "cell_type": "markdown",
   "id": "4b6631bd",
   "metadata": {},
   "source": [
    "## Порядок сдачи домашнего"
   ]
  },
  {
   "cell_type": "markdown",
   "id": "bee4fcc0",
   "metadata": {},
   "source": [
    "Под каждое домашнее вы создаете отдельную ветку куда вносите все изменения в рамках домашнего. Как только домашнее готово - создаете пулл реквест (обратите внимание что в пулл реквесте должны быть отражены все изменения в рамках домашнего). Ревьювера назначаете из таблицы - https://docs.google.com/spreadsheets/d/1vK6IgEqaqXniUJAQOOspiL_tx3EYTSXW1cUrMHAZFr8/edit?gid=0#gid=0\n",
    "Перед сдачей проверьте код, напишите тесты. Не забудьте про PEP8, например, с помощью flake8. Задание нужно делать в jupyter notebook.\n",
    "\n",
    "**Дедлайн - 11 ноября 10:00**"
   ]
  },
  {
   "cell_type": "markdown",
   "id": "d777f71d",
   "metadata": {
    "ExecuteTime": {
     "end_time": "2024-11-03T13:46:28.412754Z",
     "start_time": "2024-11-03T13:46:28.400723Z"
    }
   },
   "source": [
    "## Итератор по цифрам"
   ]
  },
  {
   "cell_type": "markdown",
   "id": "0e691ab8",
   "metadata": {},
   "source": [
    "Реализуйте класс-итератор `DigitIterator`, который принимает на вход целое число и позволяет итерироваться по его цифрам слева направо. На каждой итерации должна возвращаться следующая цифра числа.\n",
    "\n",
    "**Условия:**\n",
    "1.\tЧисло может быть как положительным, так и отрицательным.\n",
    "2.\tИтератор должен возвращать только цифры числа, без знака - для отрицательных чисел.\n",
    "3.\tИтерация должна быть возможна с помощью цикла for или функции next().\n",
    "\n",
    "**Пример использования:**\n",
    "\n",
    "```python\n",
    "iterator = DigitIterator(12345)\n",
    "for digit in iterator:\n",
    "    print(digit)\n",
    "# 1\n",
    "# 2\n",
    "# 3\n",
    "# 4\n",
    "# 5\n",
    "\n",
    "iterator = DigitIterator(-6789)\n",
    "for digit in iterator:\n",
    "    print(digit)\n",
    "\n",
    "# 6\n",
    "# 7\n",
    "# 8\n",
    "# 9\n",
    "```"
   ]
  },
  {
   "cell_type": "code",
   "execution_count": 1,
   "id": "8456ac6e",
   "metadata": {},
   "outputs": [],
   "source": [
    "class DigitIterator:\n",
    "    def __init__(self, num):\n",
    "        self.num = str(abs(num))\n",
    "        self.start = -1\n",
    "        self.stop = len(self.num)-1\n",
    "    \n",
    "    def __iter__(self):\n",
    "        return self\n",
    "    \n",
    "    def __next__(self):\n",
    "        if self.start >= self.stop:\n",
    "            raise StopIteration\n",
    "        self.start += 1\n",
    "        return self.num[self.start]"
   ]
  },
  {
   "cell_type": "code",
   "execution_count": null,
   "id": "7b07758a",
   "metadata": {},
   "outputs": [
    {
     "name": "stdout",
     "output_type": "stream",
     "text": [
      "1\n",
      "2\n",
      "3\n",
      "4\n",
      "5\n"
     ]
    }
   ],
   "source": [
    "# example\n",
    "iterator = DigitIterator(12345)\n",
    "for digit in iterator:\n",
    "    print(digit)"
   ]
  },
  {
   "cell_type": "code",
   "execution_count": 8,
   "id": "7ed8298e",
   "metadata": {},
   "outputs": [
    {
     "name": "stdout",
     "output_type": "stream",
     "text": [
      "everything is working fine!\n"
     ]
    }
   ],
   "source": [
    "def all_test_1():\n",
    "    # test 1\n",
    "    iterator = DigitIterator(12345)\n",
    "    result = [digit for digit in iterator]\n",
    "    assert result == ['1', '2', '3', '4', '5'], f\"Expected ['1', '2', '3', '4', '5'], but got {result}\"\n",
    "\n",
    "    # test 2\n",
    "    iterator = DigitIterator(0)\n",
    "    result = [digit for digit in iterator]\n",
    "    assert result == ['0'], f\"Expected ['0'], but got {result}\"\n",
    "\n",
    "    # test 3\n",
    "    iterator = DigitIterator(-987)\n",
    "    result = [digit for digit in iterator]\n",
    "    assert result == ['9', '8', '7'], f\"Expected ['9', '8', '7'], but got {result}\"\n",
    "\n",
    "\n",
    "    # test 4\n",
    "    iterator = DigitIterator(56)\n",
    "    assert next(iterator) == '5', \"Expected '5' as the first digit\"\n",
    "    assert next(iterator) == '6', \"Expected '6' as the second digit\"\n",
    "    try:\n",
    "        next(iterator)\n",
    "        assert False, \"Expected StopIteration, but got no exception\"\n",
    "    except StopIteration:\n",
    "        pass  # Ожидаем StopIteration, тест пройден\n",
    "\n",
    "    # test 5\n",
    "    iterator = DigitIterator(1234567890)\n",
    "    result = [digit for digit in iterator]\n",
    "    expected = ['1', '2', '3', '4', '5', '6', '7', '8', '9', '0']\n",
    "    assert result == expected, f\"Expected {expected}, but got {result}\"\n",
    "\n",
    "    return \"everything is working fine!\"\n",
    "\n",
    "print(all_test_1())\n"
   ]
  },
  {
   "cell_type": "markdown",
   "id": "524f2c81",
   "metadata": {},
   "source": [
    "# Итератор по файлу чанками"
   ]
  },
  {
   "cell_type": "markdown",
   "id": "b8beef88",
   "metadata": {},
   "source": [
    "Реализуйте класс-итератор `FileChunkIterator`, который принимает на вход путь к файлу и количество байт для чтения. Итератор должен открывать файл и считывать его содержимое блоками фиксированного размера (количества байт), переданного в качестве параметра. При каждой итерации возвращается следующий блок байт, пока не будет достигнут конец файла.\n",
    "\n",
    "**Условия:**\n",
    "1.\tИтератор должен открывать файл в режиме чтения бинарных данных (rb).\n",
    "2.\tРазмер блока (количество байт) передаётся при создании итератора.\n",
    "3.\tЕсли в конце файла остаётся блок меньшего размера, итератор должен вернуть оставшиеся байты.\n",
    "4.\tПри достижении конца файла итератор должен завершить работу, поднимая StopIteration.\n",
    "\n",
    "**Пример использования:**\n",
    "```python\n",
    "with open(\"example.txt\", \"w\") as file:\n",
    "    file.write(\"Hello world!!\")\n",
    "    \n",
    "iterator = FileChunkIterator(\"example.txt\", 2)\n",
    "for chunk in iterator:\n",
    "    print(chunk)\n",
    "# He\n",
    "# ll\n",
    "# o \n",
    "# wo\n",
    "# rl\n",
    "# d!\n",
    "# !\n",
    "```"
   ]
  },
  {
   "cell_type": "code",
   "execution_count": 10,
   "id": "60907399",
   "metadata": {},
   "outputs": [],
   "source": [
    "class FileChunkIterator:\n",
    "    def __init__(self, filename, chunk_length):\n",
    "        self.file = open(filename, mode='rb')\n",
    "        self.chunk_length = chunk_length\n",
    "    \n",
    "    def __iter__(self):\n",
    "        return self\n",
    "    \n",
    "    def __next__(self):\n",
    "        chunk = self.file.read(self.chunk_length)\n",
    "        if not chunk:\n",
    "            self.file.close()\n",
    "            raise StopIteration\n",
    "        return chunk.decode('utf-8')"
   ]
  },
  {
   "cell_type": "code",
   "execution_count": null,
   "id": "536a3dbc",
   "metadata": {
    "ExecuteTime": {
     "end_time": "2024-11-03T15:39:29.153309Z",
     "start_time": "2024-11-03T15:39:29.131086Z"
    }
   },
   "outputs": [
    {
     "name": "stdout",
     "output_type": "stream",
     "text": [
      "He\n",
      "ll\n",
      "o \n",
      "wo\n",
      "rl\n",
      "d!\n",
      "!\n"
     ]
    }
   ],
   "source": [
    "# example\n",
    "with open(\"example.txt\", \"w\") as file:\n",
    "    file.write(\"Hello world!!\")\n",
    "\n",
    "iterator = FileChunkIterator(\"example.txt\", 2)\n",
    "for chunk in iterator:\n",
    "    print(chunk)"
   ]
  },
  {
   "cell_type": "code",
   "execution_count": 13,
   "id": "5e9019d4",
   "metadata": {},
   "outputs": [
    {
     "name": "stdout",
     "output_type": "stream",
     "text": [
      "everything is working fine!\n"
     ]
    }
   ],
   "source": [
    "import os\n",
    "\n",
    "def all_test_2():\n",
    "    filename = \"test_example.txt\"\n",
    "    with open(filename, \"w\") as file:\n",
    "        file.write(\"Hello world!!\")\n",
    "\n",
    "    try:\n",
    "        # test 1\n",
    "        iterator = FileChunkIterator(filename, 2)\n",
    "        result = [chunk for chunk in iterator]\n",
    "        assert result == [\"He\", \"ll\", \"o \", \"wo\", \"rl\", \"d!\", \"!\"], f\"Expected ['He', 'll', 'o ', 'wo', 'rl', 'd!', '!'], but got {result}\"\n",
    "\n",
    "        # test 2\n",
    "        iterator = FileChunkIterator(filename, 5)\n",
    "        result = [chunk for chunk in iterator]\n",
    "        assert result == [\"Hello\", \" worl\", \"d!!\"], f\"Expected ['Hello', ' worl', 'd!!'], but got {result}\"\n",
    "\n",
    "        # test 3 -- empty file\n",
    "        with open(filename, \"w\") as file:\n",
    "            file.write(\"\")\n",
    "        iterator = FileChunkIterator(filename, 2)\n",
    "        result = [chunk for chunk in iterator]\n",
    "        assert result == [], \"Expected empty list for empty file, but got some chunks\"\n",
    "\n",
    "        # test 4\n",
    "        with open(filename, \"w\") as file:\n",
    "            file.write(\"Hello\")\n",
    "        iterator = FileChunkIterator(filename, 2)\n",
    "        assert next(iterator) == \"He\", \"Expected 'He' as the first chunk\"\n",
    "        assert next(iterator) == \"ll\", \"Expected 'll' as the second chunk\"\n",
    "        assert next(iterator) == \"o\", \"Expected 'o' as the third chunk\"\n",
    "        try:\n",
    "            next(iterator)\n",
    "            assert False, \"Expected StopIteration, but got no exception\"\n",
    "        except StopIteration:\n",
    "            pass  # waiting for StopIteration --> test completed\n",
    "\n",
    "        # test 5: Проверка закрытия файла после завершения итерации\n",
    "        iterator = FileChunkIterator(filename, 1)\n",
    "        try:\n",
    "            while True:\n",
    "                next(iterator)\n",
    "        except StopIteration:\n",
    "            pass\n",
    "        assert iterator.file.closed, \"Expected file to be closed after StopIteration, but it is open\"\n",
    "    \n",
    "    finally:\n",
    "        # clear file after testing\n",
    "        if os.path.exists(filename):\n",
    "            os.remove(filename)\n",
    "\n",
    "    return \"everything is working fine!\"\n",
    "\n",
    "print(all_test_2())\n"
   ]
  },
  {
   "cell_type": "markdown",
   "id": "0985c955",
   "metadata": {},
   "source": [
    "# Итератор по подматрицам"
   ]
  },
  {
   "cell_type": "markdown",
   "id": "6dacea80",
   "metadata": {},
   "source": [
    "Реализуйте класс-итератор `SubmatrixIterator`, который принимает на вход матрицу и размер подматрицы (квадратного блока). Итератор должен проходить по всем возможным подматрицам указанного размера и возвращать их одну за другой.\n",
    "\n",
    "**Пример использования:**\n",
    "\n",
    "```python\n",
    "matrix = [\n",
    "    [1, 2, 3, 4],\n",
    "    [5, 6, 7, 8],\n",
    "    [9, 10, 11, 12],\n",
    "    [13, 14, 15, 16]\n",
    "]\n",
    "iterator = SubmatrixIterator(matrix, 2)\n",
    "for submatrix in iterator:\n",
    "    print(submatrix)\n",
    "    \n",
    "# [[1, 2], [5, 6]]\n",
    "# [[2, 3], [6, 7]]\n",
    "# [[3, 4], [7, 8]]\n",
    "# [[5, 6], [9, 10]]\n",
    "# [[6, 7], [10, 11]]\n",
    "# [[7, 8], [11, 12]]\n",
    "# [[9, 10], [13, 14]]\n",
    "# [[10, 11], [14, 15]]\n",
    "# [[11, 12], [15, 16]]\n",
    "```"
   ]
  },
  {
   "cell_type": "code",
   "execution_count": 14,
   "id": "72631b5b",
   "metadata": {},
   "outputs": [],
   "source": [
    "class SubmatrixIterator:\n",
    "    def __init__(self, matrix, submatrix_size):\n",
    "        self.matrix = matrix\n",
    "        self.matrix_size = len(matrix)\n",
    "        self.submatrix_size = submatrix_size\n",
    "        self.row_index, self.col_index = 0, 0\n",
    "\n",
    "\n",
    "    def __iter__(self):\n",
    "        return self\n",
    "        \n",
    "    def __next__(self):\n",
    "        if self.row_index  + self.submatrix_size > self.matrix_size:\n",
    "            raise StopIteration\n",
    "\n",
    "        submatrix = [[self.matrix[i][j] for j in range(self.col_index, self.col_index + self.submatrix_size)]\n",
    "                    for i in range(self.row_index, self.row_index + self.submatrix_size)]  # submatrix creation\n",
    "        \n",
    "        self.col_index += 1\n",
    "        if self.col_index + self.submatrix_size > self.matrix_size:  # go to the new row\n",
    "            self.col_index = 0\n",
    "            self.row_index += 1\n",
    "\n",
    "        return submatrix"
   ]
  },
  {
   "cell_type": "code",
   "execution_count": null,
   "id": "b400f038",
   "metadata": {},
   "outputs": [
    {
     "name": "stdout",
     "output_type": "stream",
     "text": [
      "[[1, 2], [5, 6]]\n",
      "[[2, 3], [6, 7]]\n",
      "[[3, 4], [7, 8]]\n",
      "[[5, 6], [9, 10]]\n",
      "[[6, 7], [10, 11]]\n",
      "[[7, 8], [11, 12]]\n",
      "[[9, 10], [13, 14]]\n",
      "[[10, 11], [14, 15]]\n",
      "[[11, 12], [15, 16]]\n"
     ]
    }
   ],
   "source": [
    "# example\n",
    "matrix = [\n",
    "    [1, 2, 3, 4],\n",
    "    [5, 6, 7, 8],\n",
    "    [9, 10, 11, 12],\n",
    "    [13, 14, 15, 16]\n",
    "]\n",
    "\n",
    "iterator = SubmatrixIterator(matrix, 2)\n",
    "for submatrix in iterator:\n",
    "    print(submatrix)"
   ]
  },
  {
   "cell_type": "code",
   "execution_count": 20,
   "id": "23247ec5",
   "metadata": {},
   "outputs": [
    {
     "name": "stdout",
     "output_type": "stream",
     "text": [
      "everything is working fine!\n"
     ]
    }
   ],
   "source": [
    "def all_test_3():\n",
    "    matrix = [\n",
    "        [1, 2, 3, 4],\n",
    "        [5, 6, 7, 8],\n",
    "        [9, 10, 11, 12],\n",
    "        [13, 14, 15, 16]\n",
    "    ]\n",
    "\n",
    "    # test 1\n",
    "    iterator = SubmatrixIterator(matrix, 4)\n",
    "    result = [submatrix for submatrix in iterator]\n",
    "    expected = [[\n",
    "        [1, 2, 3, 4],\n",
    "        [5, 6, 7, 8],\n",
    "        [9, 10, 11, 12],\n",
    "        [13, 14, 15, 16]\n",
    "    ]]\n",
    "    assert result == expected, f\"Expected {expected}, but got {result}\"\n",
    "\n",
    "    # test 2\n",
    "    iterator = SubmatrixIterator(matrix, 2)\n",
    "    result = [submatrix for submatrix in iterator]\n",
    "    expected = [\n",
    "        [[1, 2], [5, 6]],\n",
    "        [[2, 3], [6, 7]],\n",
    "        [[3, 4], [7, 8]],\n",
    "        [[5, 6], [9, 10]],\n",
    "        [[6, 7], [10, 11]],\n",
    "        [[7, 8], [11, 12]],\n",
    "        [[9, 10], [13, 14]],\n",
    "        [[10, 11], [14, 15]],\n",
    "        [[11, 12], [15, 16]]\n",
    "    ]\n",
    "    assert result == expected, f\"Expected {expected}, but got {result}\"\n",
    "\n",
    "    # test 3\n",
    "    iterator = SubmatrixIterator(matrix, 3)\n",
    "    result = [submatrix for submatrix in iterator]\n",
    "    expected = [\n",
    "        [[1, 2, 3], [5, 6, 7], [9, 10, 11]],\n",
    "        [[2, 3, 4], [6, 7, 8], [10, 11, 12]],\n",
    "        [[5, 6, 7], [9, 10, 11], [13, 14, 15]],\n",
    "        [[6, 7, 8], [10, 11, 12], [14, 15, 16]]\n",
    "    ]\n",
    "    assert result == expected, f\"Expected {expected}, but got {result}\"\n",
    "\n",
    "    # test 4\n",
    "    iterator = SubmatrixIterator(matrix, 1)\n",
    "    result = [submatrix for submatrix in iterator]\n",
    "    expected = [\n",
    "        [[1]], [[2]], [[3]], [[4]],\n",
    "        [[5]], [[6]], [[7]], [[8]],\n",
    "        [[9]], [[10]], [[11]], [[12]],\n",
    "        [[13]], [[14]], [[15]], [[16]]\n",
    "    ]\n",
    "    assert result == expected, f\"Expected {expected}, but got {result}\"\n",
    "\n",
    "    # test 5\n",
    "    iterator = SubmatrixIterator(matrix, 5)\n",
    "    result = [submatrix for submatrix in iterator]\n",
    "    assert result == [], \"Expected empty list for oversized submatrix, but got some submatrices\"\n",
    "\n",
    "    return \"everything is working fine!\"\n",
    "\n",
    "print(all_test_3())\n"
   ]
  },
  {
   "cell_type": "markdown",
   "id": "f1ad35a0",
   "metadata": {
    "ExecuteTime": {
     "end_time": "2024-11-03T14:20:40.010708Z",
     "start_time": "2024-11-03T14:20:39.997523Z"
    }
   },
   "source": [
    "# Построчного чтение всех файлов в директории"
   ]
  },
  {
   "cell_type": "markdown",
   "id": "ca37eddc",
   "metadata": {},
   "source": [
    "Реализуйте класс-итератор  `RecursiveFileLineIteratorNoHidden`, который принимает на вход путь к директории и рекурсивно проходит по всем файлам, включая файлы во вложенных директориях. Итератор должен возвращать строки из каждого файла построчно, игнорируя файлы и директории, названия которых начинаются с точки (.), т.е. скрытые файлы и папки.\n",
    "\n",
    "**Условия:**\n",
    "1.\tИтератор должен проходить по всем файлам в указанной директории и всех её поддиректориях, кроме тех, что начинаются с точки (.).\n",
    "2.\tИтератор должен возвращать строки из каждого файла поочерёдно, построчно.\n",
    "3.\tПоддерживаются только текстовые файлы.\n",
    "4.\tПосле завершения чтения всех файлов итератор должен завершить работу, поднимая StopIteration.\n",
    "5.\tОбработайте ситуацию, если файл не может быть открыт (например, из-за ошибок доступа).\n",
    "\n",
    "**Пример использования:**\n",
    "\n",
    "```python\n",
    "iterator = RecursiveFileLineIteratorNoHidden(\"./test\")\n",
    "for line in iterator:\n",
    "    print(line)\n",
    "    \n",
    "# Example 1\n",
    "# Example 2\n",
    "# Example 3\n",
    "# Example 4\n",
    "# Subfolder Example 1\n",
    "# Subfolder Example 2\n",
    "# Subfolder Example 3\n",
    "# Subfolder Example 4    \n",
    "```\n",
    "\n",
    "Для выполнения задания потребуются несколько методов из модуля os, которые позволяют работать с файловой системой в Python. Давайте подробно рассмотрим их.\n",
    "\n",
    "\n",
    "`os.walk(top, topdown=True, onerror=None, followlinks=False)` — это генератор, который рекурсивно обходит директории и поддиректории, начиная с указанного пути top. На каждом шаге возвращается кортеж, содержащий текущую директорию, список поддиректорий и список файлов.\n",
    "\n",
    "Возвращаемые значения:\n",
    "* root: Текущая директория, в которой находимся в данный момент обхода.\n",
    "* dirs: Список поддиректорий в текущей root директории.\n",
    "* files: Список файлов в текущей root директории.\n",
    "\n",
    "`os.path.join(path, *paths)` объединяет один или несколько компонентов пути, возвращая корректный путь, соответствующий операционной системе. Это полезно для построения путей к файлам и директориям в кросс-платформенном формате.\n",
    "\n",
    "```python\n",
    "root = \"/path/to/directory\"\n",
    "file_name = \"example.txt\"\n",
    "full_path = os.path.join(root, file_name)\n",
    "print(full_path)  # Вывод: \"/path/to/directory/example.txt\"\n",
    "```\n",
    "\n",
    "`os.path.isfile(path)` проверяет, является ли указанный путь файлом. Возвращает True, если path указывает на файл, и False, если это директория или объект другого типа.\n",
    "\n",
    "```python\n",
    "file_path = \"/path/to/file.txt\"\n",
    "if os.path.isfile(file_path):\n",
    "    print(\"Это файл.\")\n",
    "else:\n",
    "    print(\"Это не файл.\")\n",
    "```\n",
    "\n",
    "`os.path.basename(path)` возвращает базовое имя файла или директории из пути. Это полезно, если нужно получить только имя файла или папки, без остальных компонентов пути.\n",
    "\n",
    "```python\n",
    "file_path = \"/path/to/file.txt\"\n",
    "print(os.path.basename(file_path))  # Вывод: \"file.txt\"\n",
    "```\n",
    "\n",
    "`os.path.isdir(path)` проверяет, является ли указанный путь директорией. Возвращает True, если path указывает на директорию, и False, если это файл или объект другого типа.\n",
    "\n",
    "```python\n",
    "dir_path = \"/path/to/directory\"\n",
    "if os.path.isdir(dir_path):\n",
    "    print(\"Это директория.\")\n",
    "else:\n",
    "    print(\"Это не директория.\")\n",
    "```"
   ]
  },
  {
   "cell_type": "code",
   "execution_count": 8,
   "id": "d5717f80",
   "metadata": {},
   "outputs": [],
   "source": [
    "import os"
   ]
  },
  {
   "cell_type": "code",
   "execution_count": 33,
   "id": "cccfe52c",
   "metadata": {
    "ExecuteTime": {
     "end_time": "2024-11-03T14:45:18.219426Z",
     "start_time": "2024-11-03T14:45:18.206870Z"
    }
   },
   "outputs": [],
   "source": [
    "class RecursiveFileLineIteratorNoHidden:\n",
    "    def __init__(self, path):\n",
    "        self.files = self.get_files(path)\n",
    "        self.current_file = None\n",
    "        self.current_iterator = None\n",
    "\n",
    "\n",
    "    def __iter__(self):\n",
    "        return self\n",
    "    \n",
    "    def get_files(self, dir):\n",
    "        for root, dirs, files in os.walk(dir, topdown=True, onerror=None, followlinks=False):\n",
    "            dirs[:] = [dir for dir in dirs if not dir.startswith('.')]  # skip hidden dirs\n",
    "            yield from (\n",
    "                os.path.join(root, file)\n",
    "                for file in files\n",
    "                if not file.startswith('.') and os.path.isfile(os.path.join(root, file))\n",
    "            )  # yield from for all files in certain dir\n",
    "\n",
    "\n",
    "    def __next__(self):\n",
    "        if self.current_iterator is None:  # if the current file isn't opened then open next one \n",
    "            try:\n",
    "                self.current_file = next(self.files)\n",
    "                try:\n",
    "                    self.current_iterator = open(self.current_file, \"r\", encoding=\"utf-8\")\n",
    "                except OSError:  # if we couldn't open the file\n",
    "                    self.current_iterator = None\n",
    "                    return self.__next__()\n",
    "            except StopIteration:\n",
    "                raise StopIteration\n",
    "\n",
    "        try:\n",
    "            return next(self.current_iterator).rstrip('\\n')  # read the line from the file\n",
    "        except StopIteration:  # close the file\n",
    "            self.current_iterator.close()\n",
    "            self.current_iterator = None\n",
    "            return self.__next__()"
   ]
  },
  {
   "cell_type": "code",
   "execution_count": 34,
   "id": "304d10a3",
   "metadata": {},
   "outputs": [
    {
     "name": "stdout",
     "output_type": "stream",
     "text": [
      "Example 1\n",
      "Example 2\n",
      "Example 3\n",
      "Example 4\n",
      "Subfolder Example 1\n",
      "Subfolder Example 2\n",
      "Subfolder Example 3\n",
      "Subfolder Example 4\n"
     ]
    }
   ],
   "source": [
    "# example\n",
    "iterator = RecursiveFileLineIteratorNoHidden(\"../folder_for_tests\")\n",
    "for line in iterator:\n",
    "    print(line)"
   ]
  },
  {
   "cell_type": "code",
   "execution_count": null,
   "id": "a057cdc6",
   "metadata": {},
   "outputs": [
    {
     "name": "stdout",
     "output_type": "stream",
     "text": [
      "everything is working fine!\n"
     ]
    }
   ],
   "source": [
    "import shutil\n",
    "\n",
    "def all_test_4():\n",
    "    # create test dir\n",
    "    test_dir = \"./test_folder\"\n",
    "    os.makedirs(test_dir, exist_ok=True)\n",
    "    \n",
    "    # make content of files in root dir -- step 1\n",
    "    files_content = {\n",
    "        \"file_01.txt\": \"Line 1 in file1\\nLine 2 in file1\",\n",
    "        \"file_02.txt\": \"Line 1 in file2\\nLine 2 in file2\",\n",
    "        \".hidden_file.txt\": \"Line 1 in hidden_file\\nLine 2 in hidden_file\",\n",
    "    }\n",
    "\n",
    "    # write content in files\n",
    "    for filename, content in files_content.items():\n",
    "        with open(os.path.join(test_dir, filename), \"w\") as file:\n",
    "            file.write(content)\n",
    "\n",
    "    # make content of files in subdir -- step 2\n",
    "    subfolder_content = {\n",
    "        \"file_03.txt\": \"Line 1 in file3\\nLine 2 in file3\",\n",
    "        \".hidden_file_in_subfolder.txt\": \"This line should also be hidden\"\n",
    "    }\n",
    "\n",
    "    # create subdir and write content in files\n",
    "    subfolder = os.path.join(test_dir, \"subfolder\")\n",
    "    os.makedirs(subfolder, exist_ok=True)\n",
    "    for filename, content in subfolder_content.items():\n",
    "        with open(os.path.join(subfolder, filename), \"w\") as file:\n",
    "            file.write(content)\n",
    "\n",
    "    # create hidden dir -- step 3\n",
    "    os.makedirs(os.path.join(test_dir, \".hidden_folder\"), exist_ok=True)\n",
    "\n",
    "    \n",
    "    try:\n",
    "        # test 1\n",
    "        iterator = RecursiveFileLineIteratorNoHidden(test_dir)\n",
    "        result = [line for line in iterator]\n",
    "        expected = [\n",
    "            \"Line 1 in file1\", \"Line 2 in file1\",\n",
    "            \"Line 1 in file2\", \"Line 2 in file2\",\n",
    "            \"Line 1 in file3\", \"Line 2 in file3\"\n",
    "        ]\n",
    "        assert result == expected, f\"Expected {expected}, but got {result}\"\n",
    "\n",
    "        # test 2\n",
    "        hidden_files = [\".hidden_file.txt\", \".hidden_file_in_subfolder.txt\"]\n",
    "        for hidden_file in hidden_files:\n",
    "            assert hidden_file not in result, f\"Hidden file {hidden_file} should not appear in results\"\n",
    "\n",
    "    finally:\n",
    "        # delete test dir\n",
    "        shutil.rmtree(test_dir)\n",
    "    \n",
    "    return \"everything is working fine!\"\n",
    "\n",
    "print(all_test_4())\n"
   ]
  }
 ],
 "metadata": {
  "kernelspec": {
   "display_name": ".venv",
   "language": "python",
   "name": "python3"
  },
  "language_info": {
   "codemirror_mode": {
    "name": "ipython",
    "version": 3
   },
   "file_extension": ".py",
   "mimetype": "text/x-python",
   "name": "python",
   "nbconvert_exporter": "python",
   "pygments_lexer": "ipython3",
   "version": "3.13.0"
  }
 },
 "nbformat": 4,
 "nbformat_minor": 5
}
