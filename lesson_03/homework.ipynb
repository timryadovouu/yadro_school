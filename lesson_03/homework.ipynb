{
 "cells": [
  {
   "cell_type": "markdown",
   "id": "6e02831b",
   "metadata": {},
   "source": [
    "# Сжатие языковой модели"
   ]
  },
  {
   "cell_type": "markdown",
   "id": "6fc13ca5",
   "metadata": {},
   "source": [
    "## Порядок сдачи домашнего"
   ]
  },
  {
   "cell_type": "markdown",
   "id": "81e4496d",
   "metadata": {
    "ExecuteTime": {
     "end_time": "2024-10-07T06:07:46.064030Z",
     "start_time": "2024-10-07T06:07:46.041743Z"
    }
   },
   "source": [
    "Под каждое домашнее вы создаете отдельную ветку куда вносите все изменения в рамках домашнего. Как только домашнее готово - создаете пулл реквест (обратите внимание что в пулл реквесте должны быть отражены все изменения в рамках домашнего). Ревьювера назначаете из таблицы - https://docs.google.com/spreadsheets/d/1vK6IgEqaqXniUJAQOOspiL_tx3EYTSXW1cUrMHAZFr8/edit?gid=0#gid=0\n",
    "Перед сдачей проверьте код, напишите тесты. Не забудьте про PEP8, например, с помощью flake8. Задание нужно делать в jupyter notebook.\n",
    "\n",
    "**Дедлайн - 17 октбяря 10:00**"
   ]
  },
  {
   "cell_type": "markdown",
   "id": "aceaeda3",
   "metadata": {},
   "source": [
    "В этом домашнем задании вам предстоит изучить и реализовать комбинированный алгоритм для сжатия матриц весов языковой модели, который включает три этапа: \n",
    "- **Квантизацию**\n",
    "- **Кодирование Хаффмана**\n",
    "- **Бит-паккинг**\n",
    "- **Запись и чтение в файл**\n",
    "\n",
    "Вам также необходимо будет реализовать обратную процедуру расжатия для восстановления матрицы до её исходного состояния. Пакетом `numpy` пользовать нельзя."
   ]
  },
  {
   "cell_type": "markdown",
   "id": "57834112",
   "metadata": {
    "ExecuteTime": {
     "end_time": "2024-10-09T05:00:11.856219Z",
     "start_time": "2024-10-09T05:00:11.846534Z"
    }
   },
   "source": [
    "Для начала сгенерируем нашу матрицу весов. Реализуйте функцию `generate_normal_weights_matrix`, которая будет генерировать матрицу случайных весов, где веса распределены нормально. Вам понадобится функция `random.gauss` для генерации случайных чисел из нормального распределения:"
   ]
  },
  {
   "cell_type": "code",
   "execution_count": null,
   "id": "c5d91d52",
   "metadata": {
    "ExecuteTime": {
     "end_time": "2024-10-09T05:06:53.587975Z",
     "start_time": "2024-10-09T05:06:53.555396Z"
    }
   },
   "outputs": [],
   "source": [
    "import random\n",
    "mean = 0.0\n",
    "stddev = 0.1\n",
    "random.gauss(mean, stddev)"
   ]
  },
  {
   "cell_type": "markdown",
   "id": "0d3d9510",
   "metadata": {},
   "source": [
    "```python\n",
    "weights_matrix = generate_normal_weights_matrix(5, 5)\n",
    "for row in weights_matrix:\n",
    "    print(row)\n",
    "[0.3000485326712691, 0.25965299191334695, -0.06755153631842248, 0.13020487844655038, 0.1143769419370928]\n",
    "[0.04287032494033407, 0.37860865986969466, -0.21154587156719093, 0.02538857794887883, 0.358874552698265]\n",
    "[-0.12730102686770312, -0.09250783210681686, -0.31943991155969786, -0.12649930568136855, -0.133368865014227]\n",
    "[-0.001125940850390421, 0.08131363950833258, -0.12099869191945688, 0.14554258117597563, 0.157276907472140]\n",
    "[-0.07352639207896368, 0.013629438616873364, -0.11502982664385775, 0.042140678513802377, 0.0980238501942050]\n",
    "```"
   ]
  },
  {
   "cell_type": "code",
   "execution_count": null,
   "id": "8700dc2c",
   "metadata": {
    "ExecuteTime": {
     "end_time": "2024-10-09T05:04:54.769841Z",
     "start_time": "2024-10-09T05:04:54.749901Z"
    }
   },
   "outputs": [],
   "source": [
    "def generate_normal_weights_matrix(rows, cols, mean=0.0, stddev=0.1):\n",
    "    return [[random.gauss(mean, stddev) for _ in range(cols)] for _ in range(rows)]\n",
    "\n",
    "weights_matrix = generate_normal_weights_matrix(2, 3)\n",
    "for row in weights_matrix:\n",
    "    print(row)"
   ]
  },
  {
   "cell_type": "markdown",
   "id": "3d70d0c9",
   "metadata": {},
   "source": [
    "Для упрощения работы переведем двух мерный массив в одномерный."
   ]
  },
  {
   "cell_type": "code",
   "execution_count": 554,
   "id": "bd476b2d",
   "metadata": {
    "ExecuteTime": {
     "end_time": "2024-10-09T05:23:43.040519Z",
     "start_time": "2024-10-09T05:23:43.013204Z"
    }
   },
   "outputs": [],
   "source": [
    "weights_matrix = generate_normal_weights_matrix(100, 100, mean, stddev)"
   ]
  },
  {
   "cell_type": "code",
   "execution_count": null,
   "id": "8dffc34f",
   "metadata": {
    "ExecuteTime": {
     "end_time": "2024-10-09T05:23:43.831923Z",
     "start_time": "2024-10-09T05:23:43.804941Z"
    }
   },
   "outputs": [],
   "source": [
    "weights = [weight for row in weights_matrix for weight in row]\n",
    "print(weights[:5])"
   ]
  },
  {
   "cell_type": "markdown",
   "id": "39aa42f5",
   "metadata": {},
   "source": [
    "Проверим, что у нас получилось."
   ]
  },
  {
   "cell_type": "code",
   "execution_count": null,
   "id": "79d8c10c",
   "metadata": {
    "ExecuteTime": {
     "end_time": "2024-10-09T05:23:45.447687Z",
     "start_time": "2024-10-09T05:23:45.268423Z"
    }
   },
   "outputs": [],
   "source": [
    "import matplotlib.pyplot as plt\n",
    "import scipy.stats as stats\n",
    "import numpy as np\n",
    "plt.figure(figsize=(8, 6))\n",
    "count, bins, ignored = plt.hist(weights, bins=30, density=True, alpha=0.6, color='skyblue', edgecolor='black')\n",
    "\n",
    "# Добавление кривой плотности вероятности\n",
    "xmin, xmax = plt.xlim()\n",
    "x = np.linspace(xmin, xmax, 100)\n",
    "p = stats.norm.pdf(x, mean, stddev)  # Вычисление плотности вероятности\n",
    "plt.plot(x, p, 'r', linewidth=2)\n",
    "\n",
    "# Настройки графика\n",
    "plt.title(\"Нормально распределённая случайная величина\")\n",
    "plt.xlabel(\"Значение\")\n",
    "plt.ylabel(\"Плотность вероятности\")\n",
    "plt.grid(True)\n",
    "\n",
    "# Отображение графика\n",
    "plt.show()"
   ]
  },
  {
   "cell_type": "markdown",
   "id": "c709792d",
   "metadata": {},
   "source": [
    "Приступим к сжатию этой матрицы!"
   ]
  },
  {
   "cell_type": "markdown",
   "id": "6bf29092",
   "metadata": {},
   "source": [
    "## Квантизация"
   ]
  },
  {
   "cell_type": "markdown",
   "id": "23b10d31",
   "metadata": {},
   "source": [
    "**Квантизация** — это процесс преобразования данных с высокой точностью (например, с 32-битного представления) в данные с более низкой точностью (например, 8-битное представление) для уменьшения объёма памяти и вычислительных ресурсов. В контексте машинного обучения, квантизация чаще всего применяется к весам нейронных сетей и их активациям для уменьшения размера модели и ускорения работы, особенно при выполнении инференса на мобильных устройствах и встраиваемых системах.\n"
   ]
  },
  {
   "cell_type": "markdown",
   "id": "587f18a9",
   "metadata": {},
   "source": [
    "### Цели квантизации:"
   ]
  },
  {
   "cell_type": "markdown",
   "id": "dc6692ac",
   "metadata": {},
   "source": [
    "1.\t**Уменьшение объёма памяти:** Квантизация позволяет сократить объём памяти, занимаемый весами и другими параметрами модели, путём представления чисел с меньшей разрядностью.\n",
    "2.\t**Ускорение вычислений:** С помощью квантизации можно использовать специальные процессоры и ускорители (например, процессоры с поддержкой 8-битных вычислений), что увеличивает производительность.\n",
    "3.\t**Снижение энергопотребления:** Более короткие представления данных позволяют сократить энергопотребление при выполнении операций."
   ]
  },
  {
   "cell_type": "markdown",
   "id": "2aebd15c",
   "metadata": {
    "ExecuteTime": {
     "end_time": "2024-10-09T04:53:52.075792Z",
     "start_time": "2024-10-09T04:53:52.069839Z"
    }
   },
   "source": [
    "### Как работает квантизация?"
   ]
  },
  {
   "cell_type": "markdown",
   "id": "4a0e0ebd",
   "metadata": {
    "ExecuteTime": {
     "end_time": "2024-10-09T04:54:00.111617Z",
     "start_time": "2024-10-09T04:54:00.091932Z"
    }
   },
   "source": [
    "Квантизация заключается в преобразовании значений с высокой точностью (например, числа с плавающей точкой) в числа с меньшей точностью (например, целые числа). Существует несколько методов квантизации:\n",
    "\n",
    "1.\t**Униформная (равномерная) квантизация:** Простая и часто используемая техника, когда диапазон значений разделяется на равные интервалы (кванты), и каждое значение округляется до ближайшего значения из этого интервала.\n",
    "2.\t**Неравномерная квантизация:** Применяется, когда диапазон значений распределён неравномерно, и поэтому используются интервалы с разной шириной.\n",
    "3.\t**Квантизация во время обучения (quantization-aware training):** Модель обучается с учётом того, что её веса будут квантизированы. Это позволяет лучше подготовить модель к работе в условиях низкой точности.\n",
    "4.\t**Квантизация после обучения (post-training quantization):** Модель сначала обучается с полной точностью, а затем веса и активации квантизируются."
   ]
  },
  {
   "cell_type": "markdown",
   "id": "506869fc",
   "metadata": {},
   "source": [
    "В данном домашнем задании мы рассмотри наиболее простой вариант - **равномерная квантизация**."
   ]
  },
  {
   "cell_type": "markdown",
   "id": "c628d8b7",
   "metadata": {
    "ExecuteTime": {
     "end_time": "2024-10-09T04:56:24.217639Z",
     "start_time": "2024-10-09T04:56:24.210506Z"
    }
   },
   "source": [
    "### Пример униформной квантизации"
   ]
  },
  {
   "cell_type": "markdown",
   "id": "35389763",
   "metadata": {},
   "source": [
    "Предположим, у нас есть матрица весов, представленная в виде чисел с плавающей точкой, и мы хотим сократить количество бит, используемых для хранения этих значений."
   ]
  },
  {
   "cell_type": "markdown",
   "id": "4b4ea228",
   "metadata": {},
   "source": [
    "#### Шаг 1: Определение диапазона значений"
   ]
  },
  {
   "cell_type": "markdown",
   "id": "b9a28f63",
   "metadata": {},
   "source": [
    "Для начала определим минимальное и максимальное значение весов, чтобы определить диапазон:"
   ]
  },
  {
   "cell_type": "code",
   "execution_count": null,
   "id": "a792887a",
   "metadata": {
    "ExecuteTime": {
     "end_time": "2024-10-09T05:23:55.123724Z",
     "start_time": "2024-10-09T05:23:55.104837Z"
    }
   },
   "outputs": [],
   "source": [
    "min_value = min(weights)\n",
    "max_value = max(weights)\n",
    "\n",
    "print(f\"Минимальное значение: {min_value}\")\n",
    "print(f\"Максимальное значение: {max_value}\")"
   ]
  },
  {
   "cell_type": "markdown",
   "id": "d9d2bde4",
   "metadata": {
    "ExecuteTime": {
     "end_time": "2024-10-09T05:18:21.710154Z",
     "start_time": "2024-10-09T05:18:21.681750Z"
    }
   },
   "source": [
    "#### Шаг 2: Определение шага квантизации"
   ]
  },
  {
   "cell_type": "markdown",
   "id": "0896540d",
   "metadata": {},
   "source": [
    "Теперь мы определим шаг квантизации, который будет разделять диапазон на равные интервалы. Предположим, что мы хотим использовать 8-битное представление. Это даёт нам $256$ различных значений (так как $8$ бит позволяют хранить $2^8 = 256$ различных чисел).\n",
    "\n",
    "Шаг квантизации можно вычислить как:\n",
    "\n",
    "\n",
    "$$\\text{step} = \\frac{\\max - \\min}{2^8 - 1}$$\n"
   ]
  },
  {
   "cell_type": "code",
   "execution_count": null,
   "id": "185b1ef9",
   "metadata": {
    "ExecuteTime": {
     "end_time": "2024-10-09T05:23:57.225217Z",
     "start_time": "2024-10-09T05:23:57.209530Z"
    }
   },
   "outputs": [],
   "source": [
    "num_levels = 256  # Для 8 бит\n",
    "step = (max_value - min_value) / (num_levels - 1)\n",
    "print(f\"Шаг квантизации: {step}\")"
   ]
  },
  {
   "cell_type": "markdown",
   "id": "8018370a",
   "metadata": {},
   "source": [
    "#### Шаг 3: Применение квантизации"
   ]
  },
  {
   "cell_type": "markdown",
   "id": "21bf45cc",
   "metadata": {},
   "source": [
    "Теперь мы можем преобразовать каждое значение в его ближайший квантизированный уровень:\n",
    "\n",
    "\n",
    "$$\\text{quantizedvalue} = \\text{round} \\left( \\frac{\\text{value} - \\min}{\\text{step}} \\right)$$\n"
   ]
  },
  {
   "cell_type": "code",
   "execution_count": null,
   "id": "3f06d260",
   "metadata": {
    "ExecuteTime": {
     "end_time": "2024-10-09T05:24:17.156817Z",
     "start_time": "2024-10-09T05:24:17.137187Z"
    }
   },
   "outputs": [],
   "source": [
    "quantized_weights = [round((weight - min_value) / step) for weight in weights]\n",
    "\n",
    "print(\"Квантизированные веса:\")\n",
    "print(quantized_weights[:5])"
   ]
  },
  {
   "cell_type": "markdown",
   "id": "74783a4a",
   "metadata": {
    "ExecuteTime": {
     "end_time": "2024-10-09T05:25:27.273583Z",
     "start_time": "2024-10-09T05:25:27.261310Z"
    }
   },
   "source": [
    "#### Шаг 4: Обратное преобразование (деквантизация)"
   ]
  },
  {
   "cell_type": "markdown",
   "id": "ccedab85",
   "metadata": {
    "ExecuteTime": {
     "end_time": "2024-10-09T05:24:47.453178Z",
     "start_time": "2024-10-09T05:24:47.443421Z"
    }
   },
   "source": [
    "Чтобы восстановить оригинальные значения весов, необходимо преобразовать квантизированные значения обратно в их исходный диапазон:\n",
    "\n",
    "\n",
    "$$\\text{recovered_value} = \\text{quantized_value} \\times \\text{step} + \\min$$\n"
   ]
  },
  {
   "cell_type": "code",
   "execution_count": null,
   "id": "a06dba7c",
   "metadata": {
    "ExecuteTime": {
     "end_time": "2024-10-09T05:26:16.498479Z",
     "start_time": "2024-10-09T05:26:16.481736Z"
    }
   },
   "outputs": [],
   "source": [
    "recovered_weights = [quantized_weight * step + min_value for quantized_weight in quantized_weights]\n",
    "\n",
    "print(\"Восстановленные веса:\")\n",
    "print(recovered_weights[:5])"
   ]
  },
  {
   "cell_type": "markdown",
   "id": "64c0be79",
   "metadata": {},
   "source": [
    "Посчитаем максимальную ошибку"
   ]
  },
  {
   "cell_type": "code",
   "execution_count": null,
   "id": "ebd56e68",
   "metadata": {
    "ExecuteTime": {
     "end_time": "2024-10-09T05:27:23.774859Z",
     "start_time": "2024-10-09T05:27:23.757940Z"
    }
   },
   "outputs": [],
   "source": [
    "max([abs(w - rw) for w, rw in zip(weights, recovered_weights)])"
   ]
  },
  {
   "cell_type": "markdown",
   "id": "dcf1091a",
   "metadata": {},
   "source": [
    "На практике намного удобнее, когда мы можем контролировать ошибку, поэтому реализуйте методы квантизации и деквантизации, у которых будет параметр максимальной возможной ошибки между значениями для задания `step`."
   ]
  },
  {
   "cell_type": "code",
   "execution_count": 638,
   "id": "ab4d9f62",
   "metadata": {
    "ExecuteTime": {
     "end_time": "2024-10-09T05:36:04.481252Z",
     "start_time": "2024-10-09T05:36:04.469670Z"
    }
   },
   "outputs": [],
   "source": [
    "def quantize_weights(weights, max_error):\n",
    "    max_value, min_value = max(weights), min(weights)\n",
    "    bit_value = 1\n",
    "    num_levels = 2**bit_value\n",
    "    step = (max_value - min_value) / (num_levels - 1)\n",
    "\n",
    "    quantized_weights = [round((weight - min_value) / step) for weight in weights]\n",
    "    recovered_weights = [quantized_weight * step + min_value for quantized_weight in quantized_weights]\n",
    "    \n",
    "    error = max(abs(w-rw) for w, rw in zip(weights, recovered_weights))\n",
    "    while error > max_error:\n",
    "        bit_value += 1\n",
    "        num_levels = 2**num_levels\n",
    "        step = (max_value - min_value) / (num_levels - 1)\n",
    "        quantized_weights = [round((weight - min_value) / step) for weight in weights]\n",
    "        recovered_weights = [quantized_weight * step + min_value for quantized_weight in quantized_weights]\n",
    "        error = max(abs(w-rw) for w, rw in zip(weights, recovered_weights))\n",
    "    return quantized_weights, step, min_value\n",
    "\n",
    "def dequantize_weights(quantized_weights, step, min_value):\n",
    "    return [qw*step + min_value for qw in quantized_weights]"
   ]
  },
  {
   "cell_type": "code",
   "execution_count": 639,
   "id": "0c496347",
   "metadata": {},
   "outputs": [],
   "source": [
    "max_error = 0.01\n",
    "quantized_weights, step, min_value = quantize_weights(weights, max_error)\n",
    "recovered_weights = dequantize_weights(quantized_weights, step, min_value)"
   ]
  },
  {
   "cell_type": "code",
   "execution_count": null,
   "id": "489cc935",
   "metadata": {},
   "outputs": [],
   "source": [
    "# test 1\n",
    "\n",
    "w = [weight for row in generate_normal_weights_matrix(5, 5, mean, stddev) for weight in row]\n",
    "quantized_w, step, min_value = quantize_weights(w, max_error)\n",
    "recovered_w = dequantize_weights(quantized_w, step, min_value)\n",
    "print(recovered_w[:5])\n",
    "print(w[:5])"
   ]
  },
  {
   "cell_type": "code",
   "execution_count": null,
   "id": "dd5ec3fa",
   "metadata": {},
   "outputs": [],
   "source": [
    "# test 2\n",
    "\n",
    "w = [weight for row in generate_normal_weights_matrix(5, 5, mean, stddev) for weight in row]\n",
    "quantized_w, step, min_value = quantize_weights(w, max_error)\n",
    "recovered_w = dequantize_weights(quantized_w, step, min_value)\n",
    "print(recovered_w[:5])\n",
    "print(w[:5])"
   ]
  },
  {
   "cell_type": "markdown",
   "id": "8fe991a8",
   "metadata": {
    "ExecuteTime": {
     "end_time": "2024-10-09T05:43:09.371245Z",
     "start_time": "2024-10-09T05:43:09.361618Z"
    }
   },
   "source": [
    "## Кодирование Хаффмана"
   ]
  },
  {
   "cell_type": "markdown",
   "id": "c977f622",
   "metadata": {},
   "source": [
    "**Кодирование Хаффмана** — это алгоритм сжатия данных, который используется для минимизации количества бит, необходимых для представления данных. Алгоритм Хаффмана является типом префиксного кодирования, где каждому символу данных назначается уникальная двоичная строка (код), и никакой код не является префиксом другого кода.\n",
    "\n",
    "Этот метод особенно полезен, когда некоторые символы встречаются чаще других. Хаффмановское кодирование назначает более короткие коды для часто встречающихся символов и более длинные коды для редких символов, что позволяет сжимать данные без потерь.\n",
    "\n",
    "Основные характеристики кодирования Хаффмана:\n",
    "\n",
    "- **Префиксный код:** никакой код не является префиксом другого кода, что позволяет однозначно декодировать последовательность.\n",
    "- **Оптимальность:** алгоритм Хаффмана даёт минимальную длину кодов для символов при известной частоте их появления.\n",
    "- **Дерево Хаффмана:** строится на основе частот символов, где часто встречающиеся символы находятся ближе к корню дерева.\n"
   ]
  },
  {
   "cell_type": "markdown",
   "id": "a139ea0e",
   "metadata": {},
   "source": [
    "### Этапы работы алгоритма Хаффмана:"
   ]
  },
  {
   "cell_type": "markdown",
   "id": "0c262226",
   "metadata": {},
   "source": [
    "1.\t**Подсчёт частот:** На первом шаге подсчитывается, как часто каждый символ встречается в данных.\n",
    "2.\t**Построение дерева Хаффмана:** Используя частоты символов, строится бинарное дерево. Символы с меньшими частотами располагаются дальше от корня дерева, а символы с более высокими частотами — ближе.\n",
    "3.\t**Назначение кодов:** Проходя от корня дерева к каждому листу (символу), алгоритм назначает каждому символу код: левой ветви присваивается “0”, а правой ветви — “1”. Таким образом, для каждого символа формируется уникальная двоичная строка.\n",
    "4.\t**Сжатие данных:** После того как к каждому символу присвоен код, данные можно сжать, заменив символы на соответствующие двоичные коды.\n",
    "5.\t**Декодирование:** Для восстановления исходных данных декодирование выполняется путём чтения двоичной строки и перемещения по дереву Хаффмана от корня до символа, который закодирован."
   ]
  },
  {
   "cell_type": "markdown",
   "id": "6c7445f9",
   "metadata": {
    "ExecuteTime": {
     "end_time": "2024-10-09T05:45:33.210649Z",
     "start_time": "2024-10-09T05:45:33.198962Z"
    }
   },
   "source": [
    "### Пример работы алгоритма Хаффмана"
   ]
  },
  {
   "cell_type": "markdown",
   "id": "32bef6b3",
   "metadata": {
    "ExecuteTime": {
     "end_time": "2024-10-09T05:45:48.193399Z",
     "start_time": "2024-10-09T05:45:48.179365Z"
    }
   },
   "source": [
    "Рассмотрим, как кодирование Хаффмана может быть применено к строке “ABRACADABRA”.\n",
    "\n",
    "**1.\tЧастоты символов:**\n",
    "Подсчитаем частоты каждого символа в строке:\n",
    "```python\n",
    "A: 5\n",
    "B: 2\n",
    "R: 2\n",
    "C: 1\n",
    "D: 1\n",
    "```"
   ]
  },
  {
   "cell_type": "markdown",
   "id": "7268f743",
   "metadata": {
    "ExecuteTime": {
     "end_time": "2024-10-09T05:46:27.271569Z",
     "start_time": "2024-10-09T05:46:27.245790Z"
    }
   },
   "source": [
    "**2. Построение дерева Хаффмана:**\n",
    "- Начнем с того, что каждый символ представляется в виде узла дерева с весом, равным частоте появления символа.\n",
    "- На каждом шаге выбираются два узла с наименьшими частотами и объединяются в новый узел, вес которого равен сумме частот двух выбранных узлов. Этот процесс повторяется до тех пор, пока не будет построено одно дерево.\n",
    "\n",
    "Строим дерево Хаффмана:\n",
    "```python\n",
    "Шаг 1:   C:1  D:1 -> 2 (левое поддерево: C, правое поддерево: D)\n",
    "Шаг 2:   B:2  R:2 -> 4 (левое поддерево: B, правое поддерево: R)\n",
    "Шаг 3:   2 (CD)  4 (BR) -> 6\n",
    "Шаг 4:   A:5  6 (CD, BR) -> 11\n",
    "```\n",
    "\n",
    "Окончательное дерево Хаффмана выглядит следующим образом:\n",
    "\n",
    "```python\n",
    "      11\n",
    "     /  \\\n",
    "    A(0)    6(1)\n",
    "        /         \\\n",
    "      CD(0)         BR(1)\n",
    "      /    \\        /   \\\n",
    "     C(0)  D(1)     B(0)   R(1)\n",
    "```"
   ]
  },
  {
   "cell_type": "markdown",
   "id": "23c7a010",
   "metadata": {
    "ExecuteTime": {
     "end_time": "2024-10-09T05:48:22.253234Z",
     "start_time": "2024-10-09T05:48:22.240270Z"
    }
   },
   "source": [
    "**3.\tНазначение кодов:**\n",
    "Теперь присвоим каждому символу код, начиная от корня дерева:\n",
    "- A: 0\n",
    "- C: 100\n",
    "- D: 101\n",
    "- B: 110\n",
    "- R: 111"
   ]
  },
  {
   "cell_type": "markdown",
   "id": "5011fa83",
   "metadata": {},
   "source": [
    "**4. Сжатие строки:**\n",
    "Используя полученные коды, мы можем закодировать строку “ABRACADABRA”:\n",
    "```python\n",
    "A -> 0\n",
    "B -> 110\n",
    "R -> 111\n",
    "A -> 0\n",
    "C -> 100\n",
    "A -> 0\n",
    "D -> 101\n",
    "A -> 0\n",
    "B -> 110\n",
    "R -> 111\n",
    "A -> 0\n",
    "```\n",
    "\n",
    "Закодированная строка: 01101110100010101101110"
   ]
  },
  {
   "cell_type": "markdown",
   "id": "327ac87e",
   "metadata": {},
   "source": [
    "Реализуйте методы `huffman_encode` и `huffman_decode` для кодирования и декодирования с помощью алгоритма Хаффмана."
   ]
  },
  {
   "cell_type": "code",
   "execution_count": null,
   "id": "72ca617f",
   "metadata": {},
   "outputs": [],
   "source": [
    "def huffman_encode(weights):\n",
    "    counter_dict = dict()\n",
    "    for char in weights:\n",
    "        counter_dict[str(char)] = counter_dict.get(str(char), 0) + 1\n",
    "    sorted_counter_dict = sorted([(item, counter_dict[item]) for item in counter_dict], key = lambda pair: pair[1])\n",
    "    pre_numbers = {char:\"\" for char in counter_dict}\n",
    "    while len(sorted_counter_dict) != 1:\n",
    "        el_1 = sorted_counter_dict.pop(0)\n",
    "        el_2 = sorted_counter_dict.pop(0)\n",
    "        for ch in el_1[0]:\n",
    "            pre_numbers[ch] += str(0)\n",
    "        for ch in el_2[0]:\n",
    "            pre_numbers[ch] += str(1)\n",
    "\n",
    "        sorted_counter_dict.append((f\"{el_1[0]}{el_2[0]}\", el_1[1] + el_2[1]))\n",
    "        sorted_counter_dict = sorted(sorted_counter_dict, key=lambda pair: pair[1])\n",
    "\n",
    "    huff_dict = {k: v[::-1] for k, v in pre_numbers.items()}\n",
    "    encoded_data = \"\".join([huff_dict[char] for char in weights])\n",
    "    return encoded_data, huff_dict\n",
    "\n",
    "def huffman_decode(encoded_data, huff_dict):\n",
    "    decoded_data = \"\"\n",
    "    possible_char = \"\"\n",
    "    invert_huff_dict = {v:k for k, v in huff_dict.items()}\n",
    "    decoded_data_list = []\n",
    "    for bit in encoded_data:\n",
    "        possible_char += bit\n",
    "        if possible_char in invert_huff_dict:\n",
    "            decoded_data += invert_huff_dict[possible_char]\n",
    "            decoded_data_list.append(invert_huff_dict[possible_char])\n",
    "            possible_char = \"\"\n",
    "    return decoded_data_list  # возвращаем список тк дальше придется иметь дело с числами \n",
    "\n",
    "data = \"ABRACADABRA\"\n",
    "encoded_data, huff_dict = huffman_encode(data)\n",
    "print(f\"Закодированные данные: {encoded_data}\")\n",
    "# Закодированные данные: 01101001110011110110100\n",
    "\n",
    "decoded_data = huffman_decode(encoded_data, huff_dict)\n",
    "print(f\"Декодированные данные: {''.join(decoded_data)}\")\n",
    "# Декодированные данные: ABRACADABRA"
   ]
  },
  {
   "cell_type": "code",
   "execution_count": null,
   "id": "74d77a88",
   "metadata": {},
   "outputs": [],
   "source": [
    "# test 1\n",
    "\n",
    "data = \"testone\"\n",
    "encoded_data, huff_dict = huffman_encode(data)\n",
    "decoded_data = huffman_decode(encoded_data, huff_dict)\n",
    "print(f\"Закодированные данные: {encoded_data}\")\n",
    "print(f\"Декодированные данные: {''.join(decoded_data)}\")\n",
    "# Закодированные данные: 0110110011110010\n",
    "# Декодированные данные: testone"
   ]
  },
  {
   "cell_type": "code",
   "execution_count": null,
   "id": "4af5ac73",
   "metadata": {},
   "outputs": [],
   "source": [
    "# test 2\n",
    "\n",
    "data = \"hellofromtest2\"\n",
    "encoded_data, huff_dict = huffman_encode(data)\n",
    "decoded_data = huffman_decode(encoded_data, huff_dict)\n",
    "print(f\"Закодированные данные: {encoded_data}\")\n",
    "print(f\"Декодированные данные: {''.join(decoded_data)}\")\n",
    "# Закодированные данные: 1100010011011100110111101001111101010000101001\n",
    "# Декодированные данные: hellofromtest2"
   ]
  },
  {
   "cell_type": "markdown",
   "id": "20208470",
   "metadata": {},
   "source": [
    "#### Посчитаем Хаффмана на наших квантизированных весах"
   ]
  },
  {
   "cell_type": "code",
   "execution_count": null,
   "id": "4cea56b0",
   "metadata": {},
   "outputs": [],
   "source": [
    "from collections import Counter\n",
    "\n",
    "# немного предобработки\n",
    "# тк у нас цифры то сопоставляем каждой символ длиной единица\n",
    "char_list = [chr(num) for num in quantized_weights]  \n",
    "print(f\"как теперь выглядит quantized_weights: {char_list[:10]}\")  # что-то на китайско-японском\n",
    "print(f\"проверка, что все символы имеют длину один: {Counter([len(item) for item in char_list])}\") "
   ]
  },
  {
   "cell_type": "code",
   "execution_count": null,
   "id": "a80d71c0",
   "metadata": {},
   "outputs": [],
   "source": [
    "# начинаем кодировки и декодировку\n",
    "\n",
    "encoded_data, huffman_dict = huffman_encode(char_list)\n",
    "\n",
    "test_dict = {str(ord(k)):v for k, v in huffman_dict.items()}\n",
    "print(f\"Закодированные данные: {encoded_data}\")\n",
    "decoded_data = huffman_decode(encoded_data, test_dict)\n",
    "decoded_data_int = list(map(int, decoded_data))\n",
    "\n",
    "print(decoded_data_int == quantized_weights)  # checking"
   ]
  },
  {
   "cell_type": "markdown",
   "id": "af9b2ac2",
   "metadata": {
    "ExecuteTime": {
     "end_time": "2024-10-09T05:57:14.081268Z",
     "start_time": "2024-10-09T05:57:14.071921Z"
    }
   },
   "source": [
    "## Бит пакинг"
   ]
  },
  {
   "cell_type": "markdown",
   "id": "7478ec04",
   "metadata": {},
   "source": [
    "**Бит-паккинг (bit-packing)** — это техника сжатия данных, при которой несколько чисел или символов, представленных в виде бит, “упаковываются” в одно или несколько целых чисел (байтов или слов) с целью минимизировать занимаемую память. Этот метод особенно эффективен, если числа или коды занимают меньше бит, чем стандартный размер ячейки памяти (например, 8 бит для байта или 32 бит для целого числа).\n"
   ]
  },
  {
   "cell_type": "markdown",
   "id": "0521045b",
   "metadata": {
    "ExecuteTime": {
     "end_time": "2024-10-09T06:12:12.023231Z",
     "start_time": "2024-10-09T06:12:12.015483Z"
    }
   },
   "source": [
    "### Основная идея:"
   ]
  },
  {
   "cell_type": "markdown",
   "id": "269f6962",
   "metadata": {},
   "source": [
    "Если каждая единица данных (например, число или символ) требует меньше бит, чем стандартная ячейка памяти, можно “упаковать” несколько таких единиц данных в одну ячейку, чтобы избежать потерь памяти на неиспользуемые биты. Это позволяет эффективно использовать пространство памяти и уменьшить общий объём данных."
   ]
  },
  {
   "cell_type": "markdown",
   "id": "b30cfb96",
   "metadata": {},
   "source": [
    "### Пример использования бит-паккинга после кодирования Хаффмана"
   ]
  },
  {
   "cell_type": "markdown",
   "id": "10b5d931",
   "metadata": {},
   "source": [
    "После кодирования Хаффмана символы данных преобразуются в коды разной длины (в битах). Например, для часто встречающихся символов коды будут короткими (например, 2 или 3 бита), а для редких символов — длинными (например, 6 или 7 бит). Однако стандартные структуры данных Python (например, массивы байтов) используют 8-битные ячейки памяти, что может привести к неэффективному использованию памяти, если не применить бит-паккинг."
   ]
  },
  {
   "cell_type": "markdown",
   "id": "a3513423",
   "metadata": {},
   "source": [
    "### Почему бит-паккинг полезен после кодирования Хаффмана?"
   ]
  },
  {
   "cell_type": "markdown",
   "id": "c4694c0b",
   "metadata": {},
   "source": [
    "После кодирования Хаффмана мы получаем строку из 0 и 1 разной длины для каждого символа. Например:\n",
    "```python\n",
    "A -> 0\n",
    "B -> 110\n",
    "C -> 1001\n",
    "```\n",
    "\n",
    "Закодированная строка после Хаффмана может выглядеть так: 011011001. Если мы будем хранить эту строку побитно в стандартных байтах, это может занять больше места, чем нужно, так как каждый символ по умолчанию занимает 8 бит. Однако с помощью бит-паккинга можно эффективно “упаковать” эти коды в минимально возможное количество байтов."
   ]
  },
  {
   "cell_type": "markdown",
   "id": "d88d5710",
   "metadata": {
    "ExecuteTime": {
     "end_time": "2024-10-09T06:26:27.023772Z",
     "start_time": "2024-10-09T06:26:27.012803Z"
    }
   },
   "source": [
    "### Пример"
   ]
  },
  {
   "cell_type": "markdown",
   "id": "7f86dff2",
   "metadata": {
    "ExecuteTime": {
     "end_time": "2024-10-09T06:26:52.594045Z",
     "start_time": "2024-10-09T06:26:52.577393Z"
    }
   },
   "source": [
    "Предположим, у нас есть коды:\n",
    "\n",
    "```python\n",
    "A -> 0 (1 бит)\n",
    "B -> 110 (3 бита)\n",
    "C -> 1001 (4 бита)\n",
    "```\n",
    "\n",
    "0110110011001????\n",
    "\n",
    "После кодирования строки “AABAC”, мы получаем последовательность бит: 0011001001. Данная строка может быть запакована в 2 байта:\n",
    "- В первом байте хранится значение 01101101 (первые 8 бит).\n",
    "- Во втором байте хранится значение 10011000 (оставшиеся 5 бит и заполненные нулями).\n",
    "\n",
    "Реализуйте функцию `bit_packing`, которая упаковывает входную битовую строку в набор байт.\n",
    "\n",
    "```python\n",
    "encoded_data = \"0011001001\"\n",
    "packed_data = bit_packing(encoded_data)\n",
    "\n",
    "print(f\"Упакованные данные: {packed_data}\")\n",
    "Упакованные данные: b'l\\xc8'\n",
    "print(f\"Длина упакованных данных: {len(packed_data)} байт\")\n",
    "Длина упакованных данных: 2 байт\n",
    "```"
   ]
  },
  {
   "cell_type": "code",
   "execution_count": 648,
   "id": "7829304c",
   "metadata": {},
   "outputs": [],
   "source": [
    "def bit_packing(bit_string):\n",
    "    while len(bit_string) % 8 != 0:\n",
    "        bit_string += '0'\n",
    "    packed_data = bytearray(int(bit_string[i:i+8] , 2) for i in range(0, len(bit_string), 8)) \n",
    "    return bytes(packed_data)"
   ]
  },
  {
   "cell_type": "code",
   "execution_count": null,
   "id": "9497bb6f",
   "metadata": {},
   "outputs": [],
   "source": [
    "encoded_data = \"0110110011001\"\n",
    "packed_data = bit_packing(encoded_data)\n",
    "\n",
    "print(f\"Упакованные данные: {packed_data}\")\n",
    "print(f\"Длина упакованных данных: {len(packed_data)} байт\")"
   ]
  },
  {
   "cell_type": "markdown",
   "id": "b8861fa7",
   "metadata": {},
   "source": [
    "Реализуйте функцию `bit_unpacking`, которая распаковывет набор байт в битовую строку.\n",
    "```python\n",
    "unpacked_data = bit_unpacking(packed_data)\n",
    "print(f\"Распакованные данные: {unpacked_data}\")\n",
    "Распакованные данные: \"0110110011001000\"\n",
    "```"
   ]
  },
  {
   "cell_type": "code",
   "execution_count": 653,
   "id": "85dee977",
   "metadata": {},
   "outputs": [],
   "source": [
    "def bit_unpacking(packed_data):\n",
    "    return \"\".join([f\"{byte:08b}\" for byte in packed_data])"
   ]
  },
  {
   "cell_type": "code",
   "execution_count": null,
   "id": "3b08c4c9",
   "metadata": {},
   "outputs": [],
   "source": [
    "unpacked_data = bit_unpacking(packed_data)\n",
    "print(f\"Распакованные данные: {unpacked_data}\")"
   ]
  },
  {
   "cell_type": "code",
   "execution_count": null,
   "id": "ba7b408e",
   "metadata": {},
   "outputs": [],
   "source": [
    "# test 1\n",
    "\n",
    "encoded_data = \"111100001111\"\n",
    "packed_data = bit_packing(encoded_data)\n",
    "unpacked_data = bit_unpacking(packed_data)\n",
    "print(f\"Упакованные данные: {packed_data}\")\n",
    "print(f\"Длина упакованных данных: {len(packed_data)} байт\")\n",
    "print(f\"Распакованные данные: {unpacked_data}\")\n",
    "# Упакованные данные: b'\\xf0\\xf0'\n",
    "# Длина упакованных данных: 2 байт\n",
    "# Распакованные данные: 1111000011110000"
   ]
  },
  {
   "cell_type": "code",
   "execution_count": null,
   "id": "fb94f816",
   "metadata": {},
   "outputs": [],
   "source": [
    "# test 2\n",
    "\n",
    "encoded_data = \"000011110000\"\n",
    "packed_data = bit_packing(encoded_data)\n",
    "unpacked_data = bit_unpacking(packed_data)\n",
    "print(f\"Упакованные данные: {packed_data}\")\n",
    "print(f\"Длина упакованных данных: {len(packed_data)} байт\")\n",
    "print(f\"Распакованные данные: {unpacked_data}\")\n",
    "# Упакованные данные: b'\\x0f\\x00'\n",
    "# Длина упакованных данных: 2 байт\n",
    "# Распакованные данные: 0000111100000000"
   ]
  },
  {
   "cell_type": "markdown",
   "id": "00106b96",
   "metadata": {},
   "source": [
    "#### Теперь запакуем закодированные данные"
   ]
  },
  {
   "cell_type": "code",
   "execution_count": null,
   "id": "cf921a6f",
   "metadata": {},
   "outputs": [],
   "source": [
    "char_list = [chr(num) for num in quantized_weights]\n",
    "encoded_data, huffman_dict = huffman_encode(char_list)\n",
    "\n",
    "packed_data = bit_packing(encoded_data)\n",
    "print(packed_data, encoded_data)"
   ]
  },
  {
   "cell_type": "markdown",
   "id": "88f2d9a4",
   "metadata": {
    "ExecuteTime": {
     "end_time": "2024-10-10T04:32:17.942365Z",
     "start_time": "2024-10-10T04:32:17.926218Z"
    }
   },
   "source": [
    "## Запись и чтение в файл"
   ]
  },
  {
   "cell_type": "markdown",
   "id": "114222e3",
   "metadata": {
    "ExecuteTime": {
     "end_time": "2024-10-10T04:34:50.101058Z",
     "start_time": "2024-10-10T04:34:50.085246Z"
    }
   },
   "source": [
    "Работа с файлами в бинарном режиме в Python позволяет читать и записывать байты вместо текста. Это полезно для работы с бинарными данными, такими как изображения, аудиофайлы, видео, архивы и другие типы файлов, где данные представлены не в текстовом виде, а в виде байтов.\n",
    "\n",
    "### Открытие файлов в бинарном режиме\n",
    "\n",
    "Для открытия файла в бинарном режиме используются следующие режимы:\n",
    "\n",
    "- 'rb' — открыть файл для чтения в бинарном режиме.\n",
    "- 'wb' — открыть файл для записи в бинарном режиме (при этом файл перезаписывается).\n",
    "- 'ab' — открыть файл для добавления в бинарном режиме.\n",
    "- 'rb+' или 'wb+' — открыть файл для чтения и записи в бинарном режиме.\n",
    "\n",
    "### Кодирование и декодирование\n",
    "Когда вы открываете файл в бинарном режиме ('wb' или 'rb'), данные в этом файле хранятся и читаются в виде байтов. Символы в строках Python (тип str) не могут быть напрямую записаны в файл, потому что они хранятся в формате Unicode (например, UTF-8, UTF-16), а файлы оперируют байтовыми данными.\n",
    "\n",
    "- `encode()`: Преобразует строку Unicode в байты с использованием заданной кодировки (по умолчанию обычно UTF-8). Это нужно для записи текста в файл.\n",
    "- `decode()`: Преобразует байты обратно в строку Unicode, чтобы можно было прочитать текст из файла.\n",
    "\n",
    "Обратите внимание, что `packed_data` уже байты и их можно без кодирования и декодирования записывать в файл.\n"
   ]
  },
  {
   "cell_type": "markdown",
   "id": "7225b899",
   "metadata": {},
   "source": [
    "### Пример 1: Запись в файл в бинарном режиме"
   ]
  },
  {
   "cell_type": "code",
   "execution_count": 658,
   "id": "1e555095",
   "metadata": {
    "ExecuteTime": {
     "end_time": "2024-10-10T04:57:29.280959Z",
     "start_time": "2024-10-10T04:57:29.268619Z"
    }
   },
   "outputs": [],
   "source": [
    "packed_data, huffman_dict, step, min_value = b'\\xdd', {\"a\":1, \"b\":2}, 0.001, -100.01\n",
    "with open('output.bin', 'wb') as f:\n",
    "    f.write(f\"{packed_data}\\n\".encode())\n",
    "    f.write(f\"{huffman_dict}\\n\".encode())\n",
    "    f.write(f\"{step}\\n\".encode())\n",
    "    f.write(f\"{min_value}\\n\".encode())"
   ]
  },
  {
   "cell_type": "markdown",
   "id": "e34f006d",
   "metadata": {},
   "source": [
    "### Пример 2: Чтение файла в бинарном режиме"
   ]
  },
  {
   "cell_type": "code",
   "execution_count": null,
   "id": "116026d1",
   "metadata": {
    "ExecuteTime": {
     "end_time": "2024-10-10T04:57:30.788657Z",
     "start_time": "2024-10-10T04:57:30.774142Z"
    }
   },
   "outputs": [],
   "source": [
    "# Открываем файл для чтения в бинарном режиме + пример\n",
    "with open('output.bin', 'rb') as f:\n",
    "    packed_data = f.readline().strip().decode()\n",
    "    huffman_dict = f.readline().decode().strip()\n",
    "    step = f.readline().decode().strip()\n",
    "    min_value = f.readline().decode().strip()\n",
    "    \n",
    "    print(packed_data, huffman_dict, step, min_value, sep=\" ___ \")"
   ]
  },
  {
   "cell_type": "markdown",
   "id": "3e64863e",
   "metadata": {},
   "source": [
    "Реализуйте функцию `write_to_file` для сохранения матрицы в сжатом формате"
   ]
  },
  {
   "cell_type": "code",
   "execution_count": 660,
   "id": "1f35b366",
   "metadata": {},
   "outputs": [],
   "source": [
    "def write_to_file(filename, weights):\n",
    "    # отражена последовательная логика\n",
    "    quantized_weights, step, min_value = quantize_weights(weights, max_error=0.01)\n",
    "    char_list = [chr(num) for num in quantized_weights]\n",
    "    encoded_data, pre_huffman_dict = huffman_encode(char_list)\n",
    "    huffman_dict = {str(ord(k)):v for k, v in pre_huffman_dict.items()}\n",
    "    packed_data = bit_packing(encoded_data)\n",
    "\n",
    "    with open(filename, \"wb\") as file:  # делаем str тк \\n парсит как перевод строки\n",
    "        file.write(f\"{packed_data}\\n\".encode())\n",
    "        file.write(f\"{huffman_dict}\\n\".encode())\n",
    "        file.write(f\"{step}\\n\".encode())\n",
    "        file.write(f\"{min_value}\\n\".encode())\n"
   ]
  },
  {
   "cell_type": "markdown",
   "id": "2dee710f",
   "metadata": {
    "ExecuteTime": {
     "end_time": "2024-10-10T05:21:51.771160Z",
     "start_time": "2024-10-10T05:21:51.755204Z"
    }
   },
   "source": [
    "#### Сохраним в файл сжатую матрицу и параметры для восстановления"
   ]
  },
  {
   "cell_type": "code",
   "execution_count": 661,
   "id": "a0abeed0",
   "metadata": {
    "ExecuteTime": {
     "end_time": "2024-10-10T05:09:41.954603Z",
     "start_time": "2024-10-10T05:09:41.944393Z"
    }
   },
   "outputs": [],
   "source": [
    "compresed_filename = 'compressed_data.bin'"
   ]
  },
  {
   "cell_type": "code",
   "execution_count": 662,
   "id": "0ba37e3e",
   "metadata": {},
   "outputs": [],
   "source": [
    "write_to_file(compresed_filename, weights)"
   ]
  },
  {
   "cell_type": "markdown",
   "id": "4a4b0f41",
   "metadata": {},
   "source": [
    "Реализуйте функцию `read_from_file` для чтения матрицы и сохраненной информации необходимой для восстановления матрицы."
   ]
  },
  {
   "cell_type": "code",
   "execution_count": 663,
   "id": "4e2fb75f",
   "metadata": {},
   "outputs": [],
   "source": [
    "def read_from_file(filename):\n",
    "    with open(filename, 'rb') as file:\n",
    "        packed_data = eval(file.readline().decode().strip())\n",
    "        huffman_dict = eval(file.readline().decode().strip())\n",
    "        step = eval(file.readline().decode().strip())\n",
    "        min_value = eval(file.readline().decode().strip())\n",
    "    return packed_data, huffman_dict, step, min_value"
   ]
  },
  {
   "cell_type": "markdown",
   "id": "30942ae5",
   "metadata": {
    "ExecuteTime": {
     "end_time": "2024-10-10T05:22:35.802282Z",
     "start_time": "2024-10-10T05:22:35.791885Z"
    }
   },
   "source": [
    "#### Прочитаем файл и восстановим данные"
   ]
  },
  {
   "cell_type": "code",
   "execution_count": null,
   "id": "9c5ee17a",
   "metadata": {},
   "outputs": [],
   "source": [
    "packed_data, huffman_dict, step, min_value = read_from_file(compresed_filename)\n",
    "\n",
    "# print(type(packed_data), packed_data)\n",
    "# print(type(huffman_dict), huffman_dict)\n",
    "# print(step, type(step))\n",
    "# print(min_value, type(min_value))\n",
    "\n",
    "unpacked_bits = bit_unpacking(packed_data)\n",
    "decoded_weights = huffman_decode(unpacked_bits, huffman_dict)\n",
    "recovered_weights = dequantize_weights(list(map(int, decoded_weights)), step, min_value)\n",
    "\n",
    "\n",
    "print(recovered_weights)"
   ]
  },
  {
   "cell_type": "markdown",
   "id": "a8a160cf",
   "metadata": {
    "ExecuteTime": {
     "end_time": "2024-10-10T05:24:02.925348Z",
     "start_time": "2024-10-10T05:24:02.915874Z"
    }
   },
   "source": [
    "#### Посчитаем максимальную ошибку в полученных данных (во время квантизации мы теряли часть данных)"
   ]
  },
  {
   "cell_type": "code",
   "execution_count": null,
   "id": "59ef1c16",
   "metadata": {},
   "outputs": [],
   "source": [
    "max([abs(w - rw) for w, rw in zip(weights, recovered_weights)])"
   ]
  },
  {
   "cell_type": "markdown",
   "id": "493e1c44",
   "metadata": {},
   "source": [
    "#### Теперь посчитаем сколько весит сохраненные данные:"
   ]
  },
  {
   "cell_type": "code",
   "execution_count": 666,
   "id": "8d383cd1",
   "metadata": {
    "ExecuteTime": {
     "end_time": "2024-10-10T05:37:00.714074Z",
     "start_time": "2024-10-10T05:37:00.702289Z"
    }
   },
   "outputs": [],
   "source": [
    "import os\n",
    "\n",
    "def get_size(filename):\n",
    "    return os.stat(filename).st_size / (1024 * 1024)"
   ]
  },
  {
   "cell_type": "code",
   "execution_count": null,
   "id": "73de1f8a",
   "metadata": {
    "ExecuteTime": {
     "end_time": "2024-10-10T05:37:01.772354Z",
     "start_time": "2024-10-10T05:37:01.756816Z"
    }
   },
   "outputs": [],
   "source": [
    "print(f'Размер файла в мегабайтах {get_size(compresed_filename)}')"
   ]
  },
  {
   "cell_type": "markdown",
   "id": "2f8fce2c",
   "metadata": {
    "ExecuteTime": {
     "end_time": "2024-10-10T05:12:35.663420Z",
     "start_time": "2024-10-10T05:12:35.650459Z"
    }
   },
   "source": [
    "Воспользуемся пакетом `struct` для упаковывания флотов в бинарный формат для оригинальных весов."
   ]
  },
  {
   "cell_type": "code",
   "execution_count": 668,
   "id": "15843b99",
   "metadata": {
    "ExecuteTime": {
     "end_time": "2024-10-10T05:37:04.016594Z",
     "start_time": "2024-10-10T05:37:03.998200Z"
    }
   },
   "outputs": [],
   "source": [
    "import struct\n",
    "original_filename = 'original_data.bin'\n",
    "# compresed_filename\n",
    "with open(original_filename, 'wb') as f:\n",
    "    for number in weights:\n",
    "        packed_data = struct.pack('f', number)\n",
    "        f.write(packed_data)"
   ]
  },
  {
   "cell_type": "code",
   "execution_count": null,
   "id": "4fb3fb9f",
   "metadata": {
    "ExecuteTime": {
     "end_time": "2024-10-10T05:37:04.674079Z",
     "start_time": "2024-10-10T05:37:04.656859Z"
    }
   },
   "outputs": [],
   "source": [
    "print(f'Размер файла в мегабайтах {get_size(original_filename)}')"
   ]
  },
  {
   "cell_type": "markdown",
   "id": "5f50dca0",
   "metadata": {},
   "source": [
    "# Поздравляю, языковые модели сжимать мы теперь умееем!"
   ]
  }
 ],
 "metadata": {
  "kernelspec": {
   "display_name": "env312",
   "language": "python",
   "name": "python3"
  },
  "language_info": {
   "codemirror_mode": {
    "name": "ipython",
    "version": 3
   },
   "file_extension": ".py",
   "mimetype": "text/x-python",
   "name": "python",
   "nbconvert_exporter": "python",
   "pygments_lexer": "ipython3",
   "version": "3.12.4"
  }
 },
 "nbformat": 4,
 "nbformat_minor": 5
}
