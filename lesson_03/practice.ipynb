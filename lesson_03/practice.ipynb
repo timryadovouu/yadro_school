{
 "cells": [
  {
   "cell_type": "code",
   "execution_count": 14,
   "metadata": {},
   "outputs": [],
   "source": [
    "class Expression:\n",
    "    def __call__(self, **context):\n",
    "        pass\n",
    "\n",
    "    def d(self, var):\n",
    "        pass    \n",
    "\n",
    "    def __add__(self, other):\n",
    "        return Sum(self, other)\n",
    "    \n",
    "    def __mul__(self, other):\n",
    "        return Product(self, other)\n",
    "    \n",
    "    def __truediv__(self, other):\n",
    "        return Fraction(self, other)\n",
    "    \n",
    "    def __sub__(self, other):\n",
    "        return self + Const(-1)*other\n",
    "    "
   ]
  },
  {
   "cell_type": "code",
   "execution_count": 15,
   "metadata": {},
   "outputs": [],
   "source": [
    "class Const(Expression):\n",
    "    def __init__(self, const):\n",
    "        self.const = const\n",
    "\n",
    "    def __call__(self, **context):\n",
    "        return self.const\n",
    "\n",
    "    def d(self, var):\n",
    "        return Const(0)"
   ]
  },
  {
   "cell_type": "code",
   "execution_count": 16,
   "metadata": {},
   "outputs": [],
   "source": [
    "class Variable(Expression):\n",
    "    def __init__(self, var):\n",
    "        self.var = var\n",
    "\n",
    "    def __call__(self, **context):\n",
    "        return context[self.var]\n",
    "\n",
    "    def d(self, var):\n",
    "        if self.var == var.var:\n",
    "            return Const(1)\n",
    "        return Const(0)"
   ]
  },
  {
   "cell_type": "code",
   "execution_count": 17,
   "metadata": {},
   "outputs": [],
   "source": [
    "V = Variable\n",
    "C = Const"
   ]
  },
  {
   "cell_type": "code",
   "execution_count": 18,
   "metadata": {},
   "outputs": [
    {
     "data": {
      "text/plain": [
       "0"
      ]
     },
     "execution_count": 18,
     "metadata": {},
     "output_type": "execute_result"
    }
   ],
   "source": [
    "V(\"x\").d(V(\"y\"))()"
   ]
  },
  {
   "cell_type": "code",
   "execution_count": 19,
   "metadata": {},
   "outputs": [
    {
     "data": {
      "text/plain": [
       "42"
      ]
     },
     "execution_count": 19,
     "metadata": {},
     "output_type": "execute_result"
    }
   ],
   "source": [
    "V(\"x\")(x=42)"
   ]
  },
  {
   "cell_type": "code",
   "execution_count": 20,
   "metadata": {},
   "outputs": [],
   "source": [
    "class BinOP(Expression):\n",
    "    def __init__(self, expr1, expr2):\n",
    "        self.expr1 = expr1\n",
    "        self.expr2 = expr2"
   ]
  },
  {
   "cell_type": "code",
   "execution_count": 21,
   "metadata": {},
   "outputs": [],
   "source": [
    "class Sum(BinOP):\n",
    "    def __call__(self, **context):\n",
    "        return self.expr1(**context) + self.expr2(**context)\n",
    "\n",
    "    def d(self, var):\n",
    "        return self.expr1.d(var) + self.expr2.d(var)\n",
    "    "
   ]
  },
  {
   "cell_type": "code",
   "execution_count": 22,
   "metadata": {},
   "outputs": [
    {
     "data": {
      "text/plain": [
       "4"
      ]
     },
     "execution_count": 22,
     "metadata": {},
     "output_type": "execute_result"
    }
   ],
   "source": [
    "Sum(V(\"x\").d(V(\"x\")), V(\"y\"))(x=2, y=3)"
   ]
  },
  {
   "cell_type": "code",
   "execution_count": 23,
   "metadata": {},
   "outputs": [],
   "source": [
    "class Product(BinOP):\n",
    "    def __call__(self, **context):\n",
    "        return self.expr1(**context) * self.expr2(**context)\n",
    "\n",
    "    def d(self, var):\n",
    "        u = self.expr1\n",
    "        du = self.expr1.d(var)\n",
    "        v = self.expr2\n",
    "        dv = self.expr2.d(var)\n",
    "        return u*dv + v*du"
   ]
  },
  {
   "cell_type": "code",
   "execution_count": 26,
   "metadata": {},
   "outputs": [
    {
     "data": {
      "text/plain": [
       "56"
      ]
     },
     "execution_count": 26,
     "metadata": {},
     "output_type": "execute_result"
    }
   ],
   "source": [
    "(C(5) * V(\"x\") * V(\"x\") + C(3) * V(\"x\") +C(2))(x=3)"
   ]
  },
  {
   "cell_type": "code",
   "execution_count": 27,
   "metadata": {},
   "outputs": [],
   "source": [
    "class Fraction(BinOP):\n",
    "    def __call__(self, **context):\n",
    "        return self.expr1(**context) / self.expr2(**context)\n",
    "\n",
    "    def d(self, var):\n",
    "        u = self.expr1\n",
    "        du = self.expr1.d(var)\n",
    "        v = self.expr2\n",
    "        dv = self.expr2.d(var)\n",
    "        return (u*dv - v*du) / v**2\n"
   ]
  },
  {
   "cell_type": "code",
   "execution_count": 28,
   "metadata": {},
   "outputs": [],
   "source": [
    "def newton_raphson(f, x0, eps):\n",
    "    x = V(\"x\")\n",
    "    g = x - f / f.d(x)\n",
    "    prev = x0\n",
    "    xn = x0 + 2*eps\n",
    "    while (xn-prev) > eps:\n",
    "        prev = xn\n",
    "        xn = g(x=xn)\n",
    "    return xn\n"
   ]
  },
  {
   "cell_type": "code",
   "execution_count": 35,
   "metadata": {},
   "outputs": [
    {
     "data": {
      "text/plain": [
       "1.1470007299787688"
      ]
     },
     "execution_count": 35,
     "metadata": {},
     "output_type": "execute_result"
    }
   ],
   "source": [
    "x = V(\"x\")\n",
    "f = (C(-5) *x*x + C(3) * x +C(2))\n",
    "newton_raphson(f, 0.5, 1e-4)"
   ]
  }
 ],
 "metadata": {
  "kernelspec": {
   "display_name": "env312",
   "language": "python",
   "name": "python3"
  },
  "language_info": {
   "codemirror_mode": {
    "name": "ipython",
    "version": 3
   },
   "file_extension": ".py",
   "mimetype": "text/x-python",
   "name": "python",
   "nbconvert_exporter": "python",
   "pygments_lexer": "ipython3",
   "version": "3.12.4"
  }
 },
 "nbformat": 4,
 "nbformat_minor": 2
}
