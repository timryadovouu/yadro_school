{
 "cells": [
  {
   "cell_type": "code",
   "execution_count": 1,
   "metadata": {},
   "outputs": [],
   "source": [
    "from rdkit import Chem"
   ]
  },
  {
   "cell_type": "code",
   "execution_count": 2,
   "metadata": {},
   "outputs": [
    {
     "name": "stdout",
     "output_type": "stream",
     "text": [
      "['c1ccccc1', 'CC(=O)Oc1ccccc1C(=O)O']\n"
     ]
    }
   ],
   "source": [
    "def substructure_search(smiles_list, substructure) -> list:\n",
    "    return [molecule for molecule in smiles_list \n",
    "            if Chem.MolFromSmiles(molecule).HasSubstructMatch(Chem.MolFromSmiles(substructure))]\n",
    "\n",
    "\n",
    "print(substructure_search([\"CCO\", \"c1ccccc1\", \"CC(=O)O\", \"CC(=O)Oc1ccccc1C(=O)O\"], \"c1ccccc1\"))"
   ]
  }
 ],
 "metadata": {
  "kernelspec": {
   "display_name": "my-rdkit-env",
   "language": "python",
   "name": "python3"
  },
  "language_info": {
   "codemirror_mode": {
    "name": "ipython",
    "version": 3
   },
   "file_extension": ".py",
   "mimetype": "text/x-python",
   "name": "python",
   "nbconvert_exporter": "python",
   "pygments_lexer": "ipython3",
   "version": "3.13.0"
  }
 },
 "nbformat": 4,
 "nbformat_minor": 2
}
