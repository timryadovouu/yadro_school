{
 "cells": [
  {
   "cell_type": "markdown",
   "id": "eb4c5f4c",
   "metadata": {
    "ExecuteTime": {
     "end_time": "2024-10-31T15:02:26.513445Z",
     "start_time": "2024-10-31T15:02:26.496070Z"
    }
   },
   "source": [
    "# Метод `__exit__`"
   ]
  },
  {
   "cell_type": "markdown",
   "id": "d53a7ef2",
   "metadata": {},
   "source": [
    "В Python менеджеры контекста используют три аргумента в методе `__exit__`, которые называются `exc_type`, `exc_value` и `traceback`. Эти параметры передаются в `__exit__` метод, если в блоке `with` произошло исключение. Если исключения не возникло, все три аргумента будут None.\n",
    "\n",
    "## Объяснение аргументов\n",
    "* `exc_type`: Тип исключения, которое было поднято. Например, для ошибки деления на ноль это будет `ZeroDivisionError`.\n",
    "* `exc_value`: Само исключение (экземпляр исключения), содержащее информацию о возникшей ошибке.\n",
    "* `traceback`: Объект трассировки стека, показывающий точное место в коде, где возникло исключение. Этот объект можно использовать для подробного анализа ошибки, например, чтобы вывести трассировку.\n",
    "\n",
    "Как `__exit__` обрабатывает исключения\n",
    "* Если `__exit__` возвращает `True`, то исключение, возникшее в блоке `with`, будет подавлено и не выйдет за его пределы.\n",
    "* Если `__exit__` возвращает `False` (или ничего не возвращает), исключение передаётся дальше, и блок `with` завершает работу с ошибкой."
   ]
  },
  {
   "cell_type": "markdown",
   "id": "8ce6697b",
   "metadata": {
    "ExecuteTime": {
     "end_time": "2024-10-31T15:03:47.254111Z",
     "start_time": "2024-10-31T15:03:47.244520Z"
    }
   },
   "source": [
    "## Пример использования exc_type, exc_value, traceback"
   ]
  },
  {
   "cell_type": "markdown",
   "id": "90ce2ad5",
   "metadata": {},
   "source": [
    "Создадим менеджер контекста, который будет перехватывать все исключения, записывать их в лог и, в зависимости от типа исключения, решать, подавлять его или нет."
   ]
  },
  {
   "cell_type": "code",
   "execution_count": 3,
   "id": "acf0eb81",
   "metadata": {
    "ExecuteTime": {
     "end_time": "2024-10-31T15:07:53.355010Z",
     "start_time": "2024-10-31T15:07:53.336439Z"
    }
   },
   "outputs": [],
   "source": [
    "import traceback\n",
    "\n",
    "class ExceptionLogger:\n",
    "    def __init__(self, suppress_exceptions=()):\n",
    "        self.suppress_exceptions = suppress_exceptions  # Список исключений для подавления\n",
    "\n",
    "    def __enter__(self):\n",
    "        # Возвращаем self, если он нужен внутри блока with\n",
    "        return self\n",
    "\n",
    "    def __exit__(self, exc_type, exc_value, exc_traceback):\n",
    "        if exc_type is not None:\n",
    "            # Печатаем тип исключения, его сообщение и трассировку\n",
    "            print(f\"Тип исключения: {exc_type.__name__}\")\n",
    "            print(f\"Сообщение исключения: {exc_value}\")\n",
    "            print(\"Трассировка:\")\n",
    "            traceback.print_tb(exc_traceback)  # Вывод трассировки в консоль\n",
    "            \n",
    "            # Проверяем, нужно ли подавить это исключение\n",
    "            if issubclass(exc_type, self.suppress_exceptions):\n",
    "                print(f\"Исключение '{exc_type.__name__}' подавлено.\")\n",
    "                return True  # Подавляем исключение\n",
    "            else:\n",
    "                print(f\"Исключение '{exc_type.__name__}' не подавлено.\")\n",
    "                return False  # Исключение не подавляется и выбрасывается снова\n",
    "        return False  # Возвращаем False, если исключения не было"
   ]
  },
  {
   "cell_type": "code",
   "execution_count": 4,
   "id": "0767253c",
   "metadata": {
    "ExecuteTime": {
     "end_time": "2024-10-31T15:07:54.846411Z",
     "start_time": "2024-10-31T15:07:54.753901Z"
    }
   },
   "outputs": [
    {
     "name": "stdout",
     "output_type": "stream",
     "text": [
      "Рассчитываем 1 / 0:\n",
      "Тип исключения: ZeroDivisionError\n",
      "Сообщение исключения: division by zero\n",
      "Трассировка:\n",
      "Исключение 'ZeroDivisionError' подавлено.\n",
      "\n",
      "Рассчитываем 'abc' + 123:\n",
      "Тип исключения: TypeError\n",
      "Сообщение исключения: can only concatenate str (not \"int\") to str\n",
      "Трассировка:\n",
      "Исключение 'TypeError' не подавлено.\n"
     ]
    },
    {
     "name": "stderr",
     "output_type": "stream",
     "text": [
      "  File \"/var/folders/wm/khkwk2g178n7h8ngdvlc9htr0000gp/T/ipykernel_73725/258224984.py\", line 3, in <module>\n",
      "    print(1 / 0)  # Подавленное исключение\n",
      "  File \"/var/folders/wm/khkwk2g178n7h8ngdvlc9htr0000gp/T/ipykernel_73725/258224984.py\", line 7, in <module>\n",
      "    print(\"abc\" + 123)  # Исключение не будет подавлено\n"
     ]
    },
    {
     "ename": "TypeError",
     "evalue": "can only concatenate str (not \"int\") to str",
     "output_type": "error",
     "traceback": [
      "\u001b[0;31m---------------------------------------------------------------------------\u001b[0m",
      "\u001b[0;31mTypeError\u001b[0m                                 Traceback (most recent call last)",
      "\u001b[0;32m/var/folders/wm/khkwk2g178n7h8ngdvlc9htr0000gp/T/ipykernel_73725/258224984.py\u001b[0m in \u001b[0;36m<module>\u001b[0;34m\u001b[0m\n\u001b[1;32m      5\u001b[0m \u001b[0;32mwith\u001b[0m \u001b[0mExceptionLogger\u001b[0m\u001b[0;34m(\u001b[0m\u001b[0msuppress_exceptions\u001b[0m\u001b[0;34m=\u001b[0m\u001b[0;34m(\u001b[0m\u001b[0mZeroDivisionError\u001b[0m\u001b[0;34m,\u001b[0m\u001b[0;34m)\u001b[0m\u001b[0;34m)\u001b[0m\u001b[0;34m:\u001b[0m\u001b[0;34m\u001b[0m\u001b[0;34m\u001b[0m\u001b[0m\n\u001b[1;32m      6\u001b[0m     \u001b[0mprint\u001b[0m\u001b[0;34m(\u001b[0m\u001b[0;34m\"\\nРассчитываем 'abc' + 123:\"\u001b[0m\u001b[0;34m)\u001b[0m\u001b[0;34m\u001b[0m\u001b[0;34m\u001b[0m\u001b[0m\n\u001b[0;32m----> 7\u001b[0;31m     \u001b[0mprint\u001b[0m\u001b[0;34m(\u001b[0m\u001b[0;34m\"abc\"\u001b[0m \u001b[0;34m+\u001b[0m \u001b[0;36m123\u001b[0m\u001b[0;34m)\u001b[0m  \u001b[0;31m# Исключение не будет подавлено\u001b[0m\u001b[0;34m\u001b[0m\u001b[0;34m\u001b[0m\u001b[0m\n\u001b[0m",
      "\u001b[0;31mTypeError\u001b[0m: can only concatenate str (not \"int\") to str"
     ]
    }
   ],
   "source": [
    "with ExceptionLogger(suppress_exceptions=(ZeroDivisionError,)):\n",
    "    print(\"Рассчитываем 1 / 0:\")\n",
    "    print(1 / 0)  # Подавленное исключение\n",
    "\n",
    "with ExceptionLogger(suppress_exceptions=(ZeroDivisionError,)):\n",
    "    print(\"\\nРассчитываем 'abc' + 123:\")\n",
    "    print(\"abc\" + 123)  # Исключение не будет подавлено"
   ]
  },
  {
   "cell_type": "markdown",
   "id": "06b7f154",
   "metadata": {},
   "source": [
    "Пояснение кода\n",
    "\n",
    "1. Инициализация (`__init__`):\n",
    "    * Принимает список исключений, которые должны быть подавлены, в параметре suppress_exceptions.\n",
    "2.\tМетод `__exit__`:\n",
    "    * Если возникает исключение, его тип, сообщение и трассировка печатаются.\n",
    "    * Проверяет, есть ли исключение в списке suppress_exceptions.\n",
    "    * Если тип исключения входит в список подавляемых, возвращает True, и оно не выходит за пределы блока with.\n",
    "    * Если тип исключения не входит в список, возвращает False, и исключение пробрасывается."
   ]
  }
 ],
 "metadata": {
  "kernelspec": {
   "display_name": "Python 3 (ipykernel)",
   "language": "python",
   "name": "python3"
  },
  "language_info": {
   "codemirror_mode": {
    "name": "ipython",
    "version": 3
   },
   "file_extension": ".py",
   "mimetype": "text/x-python",
   "name": "python",
   "nbconvert_exporter": "python",
   "pygments_lexer": "ipython3",
   "version": "3.9.7"
  }
 },
 "nbformat": 4,
 "nbformat_minor": 5
}
