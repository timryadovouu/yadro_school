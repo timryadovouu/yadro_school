{
 "cells": [
  {
   "cell_type": "markdown",
   "id": "e4d450c2",
   "metadata": {},
   "source": [
    "# Символьное дифференцирование"
   ]
  },
  {
   "cell_type": "markdown",
   "id": "ca42b161",
   "metadata": {
    "ExecuteTime": {
     "end_time": "2024-11-12T17:23:33.620558Z",
     "start_time": "2024-11-12T17:23:33.612887Z"
    }
   },
   "source": [
    "## Порядок сдачи домашнего"
   ]
  },
  {
   "cell_type": "markdown",
   "id": "1ff1df47",
   "metadata": {},
   "source": [
    "Под каждое домашнее вы создаете отдельную ветку куда вносите все изменения в рамках домашнего. Как только домашнее готово - создаете пулл реквест (обратите внимание что в пулл реквесте должны быть отражены все изменения в рамках домашнего). Ревьювера назначаете из таблицы - https://docs.google.com/spreadsheets/d/1vK6IgEqaqXniUJAQOOspiL_tx3EYTSXW1cUrMHAZFr8/edit?gid=0#gid=0\n",
    "Перед сдачей проверьте код, напишите тесты. Не забудьте про PEP8, например, с помощью flake8. Задание нужно делать в jupyter notebook.\n",
    "\n",
    "**Дедлайн - 18 ноября 10:00**"
   ]
  },
  {
   "cell_type": "markdown",
   "id": "f9fd13a2",
   "metadata": {},
   "source": [
    "Символьное дифференцирование это инструмент для автоматического вывода формул производных, который открывает возможности для анализа сложных функций, оптимизации процессов и работы с уравнениями. Мы уже на многих занятиях сталкивались с этой темой - давайте попробуем реализовать собственное!"
   ]
  },
  {
   "cell_type": "markdown",
   "id": "cf3ccecf",
   "metadata": {},
   "source": [
    "## Выражение"
   ]
  },
  {
   "cell_type": "markdown",
   "id": "096fa612",
   "metadata": {},
   "source": [
    "Создадим основной класс `Expr`, от которого будут наследоваться различные типы выражений, такие как константы, переменные, суммы, произведения и другие. Класс должен содержать методы:\n",
    "* `__call__`, который будет вычислять значение выражения, используя переданный ему контекст (словарь, связывающий имена переменных с их значениями).\n",
    "* `d`, принимающий имя переменной, по которой требуется вычислить производную, и возвращающий выражение, представляющее производную по этой переменной.\n",
    "\n",
    "Эти методы нужно будет переопределить в каждом из подклассов для корректного выполнения операций."
   ]
  },
  {
   "cell_type": "code",
   "execution_count": null,
   "id": "7c73322e",
   "metadata": {
    "ExecuteTime": {
     "end_time": "2024-11-12T16:51:15.514301Z",
     "start_time": "2024-11-12T16:51:15.489368Z"
    }
   },
   "outputs": [],
   "source": [
    "class Expr:\n",
    "    def __call__(self, **context):\n",
    "        pass\n",
    "    \n",
    "    def __neg__(self):\n",
    "        return Product(Const(-1), self)\n",
    "\n",
    "    def __pos__(self):\n",
    "        return self\n",
    "    \n",
    "    def __add__(self, other):\n",
    "        return Sum(self, other)\n",
    "\n",
    "    def __sub__(self, other):\n",
    "        return Sum(self, other.__neg__())\n",
    "\n",
    "    def __mul__(self, other):\n",
    "        return Product(self, other)\n",
    "\n",
    "    def __truediv__(self, other):\n",
    "        return Fraction(self, other)\n",
    "    \n",
    "    def d(self, var):\n",
    "        pass"
   ]
  },
  {
   "cell_type": "markdown",
   "id": "1a3f58d5",
   "metadata": {},
   "source": [
    "Создайте классы для двух видов выражений: `Const`, представляющий константу, и` Var`, представляющий переменную. Чтобы упростить использование, вместо обращения к конструкторам этих классов, будем использовать их однобуквенные сокращённые обозначения.\n",
    "\n",
    "**Пример использования:**\n",
    "```python\n",
    "V = Var\n",
    "C = Const\n",
    "\n",
    "C(5)()\n",
    "5\n",
    "C(5).d(V(\"x\"))()\n",
    "0\n",
    "V(\"x\")(x=5)\n",
    "5\n",
    "V(\"x\").d(V(\"y\"))(x=5)\n",
    "0\n",
    "V(\"x\").d(V(\"x\"))(x=5)\n",
    "1\n",
    "```"
   ]
  },
  {
   "cell_type": "code",
   "execution_count": null,
   "id": "aa4e32b4",
   "metadata": {
    "ExecuteTime": {
     "end_time": "2024-11-12T16:42:49.906141Z",
     "start_time": "2024-11-12T16:42:49.888604Z"
    }
   },
   "outputs": [],
   "source": [
    "class Const(Expr):\n",
    "    def __init__(self, const):\n",
    "        self.const = const\n",
    "\n",
    "    def __call__(self, **context):\n",
    "        return self.const\n",
    "\n",
    "    def d(self, var):\n",
    "        return Const(0)\n",
    "\n",
    "class Var(Expr):\n",
    "    def __init__(self, name):\n",
    "        self.name = name\n",
    "\n",
    "    def __call__(self, **context):\n",
    "        return context[self.name]\n",
    "\n",
    "    def d(self, var):\n",
    "        if self.name == var.name:\n",
    "            return Const(1)\n",
    "        return Const(0)"
   ]
  },
  {
   "cell_type": "code",
   "execution_count": null,
   "id": "e7808986",
   "metadata": {},
   "outputs": [],
   "source": [
    "# example\n",
    "V = Var\n",
    "C = Const\n",
    "\n",
    "print(C(5)(),\n",
    "C(5).d(V(\"x\"))(),\n",
    "V(\"x\")(x=5),\n",
    "V(\"x\").d(V(\"y\"))(x=5),\n",
    "V(\"x\").d(V(\"x\"))(x=5))"
   ]
  },
  {
   "cell_type": "code",
   "execution_count": null,
   "id": "b4a6b07f",
   "metadata": {},
   "outputs": [],
   "source": [
    "# test\n",
    "\n",
    "def all_test_1():\n",
    "    # test 1\n",
    "    expr = Const(3) + Const(4)\n",
    "    assert expr() == 7, f\"Expected 7, but got {expr()}\"\n",
    "\n",
    "    expr = Const(3) * Const(4)\n",
    "    assert expr() == 12, f\"Expected 12, but got {expr()}\"\n",
    "\n",
    "    # test 2\n",
    "    expr = Var(\"x\") + Const(4)\n",
    "    assert expr(x=5) == 9, f\"Expected 9, but got {expr(x=5)}\"\n",
    "    assert expr.d(Var(\"x\"))(x=5) == 1, f\"Expected 1, but got {expr.d(Var('x'))()(x=5)}\"\n",
    "\n",
    "    # test 3\n",
    "    expr = Var(\"x\") * Var(\"x\") + Const(3) * Var(\"x\") + Const(2)\n",
    "    assert expr(x=2) == 12, f\"Expected 12, but got {expr(x=2)}\"\n",
    "    expr_d = expr.d(Var(\"x\"))\n",
    "    assert expr_d(x=2) == (2 * 2 + 3), f\"Expected 7, but got {expr_d(x=2)}\"\n",
    "\n",
    "    # test 4\n",
    "    expr = Var(\"x\") * Var(\"y\")\n",
    "    assert expr(x=3, y=4) == 12, f\"Expected 12, but got {expr(x=3, y=4)}\"\n",
    "    assert expr.d(Var(\"x\"))(x=3, y=4) == 4, f\"Expected 4, but got {expr.d(Var('x'))(x=3, y=4)}\"\n",
    "    assert expr.d(Var(\"y\"))(x=3, y=4) == 3, f\"Expected 3, but got {expr.d(Var('y'))(x=3, y=4)}\"\n",
    "\n",
    "    return \"everything is working fine!\"\n",
    "\n",
    "print(all_test_1())"
   ]
  },
  {
   "cell_type": "markdown",
   "id": "4a4c72ce",
   "metadata": {},
   "source": [
    "## Бинарные операции"
   ]
  },
  {
   "cell_type": "markdown",
   "id": "f87be166",
   "metadata": {},
   "source": [
    "Создайте классы для бинарных операций: `Sum`, `Product` и `Fraction`. Поскольку бинарные операции определяются двумя операндами, их конструктор будет одинаковым для всех этих классов. Поэтому его можно вынести в отдельный базовый класс, чтобы избежать дублирования кода."
   ]
  },
  {
   "cell_type": "code",
   "execution_count": null,
   "id": "6aaf6b13",
   "metadata": {
    "ExecuteTime": {
     "end_time": "2024-11-12T16:51:24.856165Z",
     "start_time": "2024-11-12T16:51:24.844203Z"
    }
   },
   "outputs": [],
   "source": [
    "class BinOp(Expr):\n",
    "    def __init__(self, expr1, expr2):\n",
    "        self.expr1, self.expr2 = expr1, expr2"
   ]
  },
  {
   "cell_type": "markdown",
   "id": "3e335e95",
   "metadata": {},
   "source": [
    "Реализуйте `Sum` для суммирования, `Product` для умножения и `Fraction` для деления.\n",
    "\n",
    "**Пример использования:**\n",
    "\n",
    "```python\n",
    "Sum(V(\"x\"), Fraction(V(\"x\"), V(\"y\")))(x=5, y=2.5)\n",
    "7.0\n",
    "Fraction(Sum(C(5), V(\"y\")), Product(V(\"x\"), V(\"y\")))(x=1, y=2)\n",
    "3.5\n",
    "Fraction(Sum(C(5), V(\"y\")), Product(V(\"x\"), V(\"y\"))).d(V(\"x\"))(x=1, y=2)\n",
    "-3.5\n",
    "Fraction(Sum(C(5), V(\"y\")), Product(V(\"x\"), V(\"y\"))).d(V(\"y\"))(x=1, y=2)\n",
    "-1.25\n",
    "```"
   ]
  },
  {
   "cell_type": "code",
   "execution_count": null,
   "id": "cc5c5599",
   "metadata": {},
   "outputs": [],
   "source": [
    "class Sum(BinOp):\n",
    "    def __call__(self, **context):\n",
    "        return self.expr1(**context) + self.expr2(**context)\n",
    "\n",
    "    def d(self, var):\n",
    "        return Sum(self.expr1.d(var), self.expr2.d(var))\n",
    "\n",
    "class Product(BinOp):\n",
    "    def __call__(self, **context):\n",
    "        return self.expr1(**context) * self.expr2(**context)\n",
    "\n",
    "    def d(self, var):\n",
    "        return Sum(\n",
    "            Product(self.expr1.d(var), self.expr2),\n",
    "            Product(self.expr1, self.expr2.d(var))\n",
    "            )\n",
    "\n",
    "\n",
    "class Fraction(BinOp):\n",
    "    def __call__(self, **context):\n",
    "        return self.expr1(**context) / self.expr2(**context)\n",
    "\n",
    "    def d(self, var):\n",
    "        up_expression = Sum(\n",
    "                        Product(self.expr1.d(var), self.expr2),\n",
    "                        Product(Const(-1), Product(self.expr1, self.expr2.d(var)))\n",
    "                        )\n",
    "        down_expression = Product(self.expr2, self.expr2)\n",
    "        return Fraction(up_expression, down_expression)\n"
   ]
  },
  {
   "cell_type": "code",
   "execution_count": null,
   "id": "36229637",
   "metadata": {},
   "outputs": [],
   "source": [
    "# example\n",
    "\n",
    "print(Sum(V(\"x\"), Fraction(V(\"x\"), V(\"y\")))(x=5, y=2.5),\n",
    "Fraction(Sum(C(5), V(\"y\")), Product(V(\"x\"), V(\"y\")))(x=1, y=2),\n",
    "Fraction(Sum(C(5), V(\"y\")), Product(V(\"x\"), V(\"y\"))).d(V(\"x\"))(x=1, y=2),\n",
    "Fraction(Sum(C(5), V(\"y\")), Product(V(\"x\"), V(\"y\"))).d(V(\"y\"))(x=1, y=2))"
   ]
  },
  {
   "cell_type": "code",
   "execution_count": null,
   "id": "15da991a",
   "metadata": {},
   "outputs": [],
   "source": [
    "# test\n",
    "\n",
    "def all_test_2():\n",
    "    # test 1\n",
    "    expr = Sum(Const(3), Const(4))\n",
    "    assert expr() == 7, f\"Expected 7, but got {expr()}\"\n",
    "    expr = Sum(Var(\"x\"), Const(4))\n",
    "    assert expr(x=5) == 9, f\"Expected 9, but got {expr(x=5)}\"\n",
    "\n",
    "    # test 2\n",
    "    expr = Product(Const(3), Const(4))\n",
    "    assert expr() == 12, f\"Expected 12, but got {expr()}\"\n",
    "    expr = Product(Var(\"x\"), Var(\"y\"))\n",
    "    assert expr(x=3, y=4) == 12, f\"Expected 12, but got {expr(x=3, y=4)}\"\n",
    "\n",
    "    # test 3\n",
    "    expr = Fraction(Var(\"x\"), Const(2))\n",
    "    assert expr(x=6) == 3, f\"Expected 3, but got {expr(x=6)}\"\n",
    "    expr = Fraction(Sum(Const(1), Var(\"x\")), Var(\"y\"))\n",
    "    assert expr(x=1, y=2) == 1, f\"Expected 1, but got {expr(x=1, y=2)}\"\n",
    "\n",
    "    # test 4\n",
    "    expr = Sum(Var(\"x\"), Const(4))\n",
    "    expr_d = expr.d(Var(\"x\"))\n",
    "    assert expr_d(x=5) == 1, f\"Expected 1, but got {expr_d(x=5)}\"\n",
    "\n",
    "    # test 5\n",
    "    expr = Product(Var(\"x\"), Var(\"y\"))\n",
    "    expr_dx = expr.d(Var(\"x\"))\n",
    "    expr_dy = expr.d(Var(\"y\"))\n",
    "    assert expr_dx(x=3, y=4) == 4, f\"Expected 4, but got {expr_dx(x=3, y=4)}\"\n",
    "    assert expr_dy(x=3, y=4) == 3, f\"Expected 3, but got {expr_dy(x=3, y=4)}\"\n",
    "\n",
    "    # test 6\n",
    "    expr = Fraction(Sum(Const(6), Var(\"y\")), Product(Var(\"x\"), Var(\"y\")))\n",
    "    expr_dx = expr.d(Var(\"x\"))\n",
    "    expr_dy = expr.d(Var(\"y\"))\n",
    "    assert expr_dx(x=2, y=3) == -0.75, f\"Expected -0.75, but got {expr_dx(x=2, y=3)}\"\n",
    "    assert expr_dy(x=3, y=2) == -0.5, f\"Expected -0.5, but got {expr_dy(x=3, y=2)}\"\n",
    "\n",
    "    return \"everything is working fine!\"\n",
    "\n",
    "print(all_test_2())"
   ]
  },
  {
   "cell_type": "markdown",
   "id": "68648251",
   "metadata": {},
   "source": [
    "## Перегрузка операторов"
   ]
  },
  {
   "cell_type": "markdown",
   "id": "49be6b43",
   "metadata": {
    "ExecuteTime": {
     "end_time": "2024-11-12T16:56:10.954760Z",
     "start_time": "2024-11-12T16:56:10.934054Z"
    }
   },
   "source": [
    "Добавьте перегрузку операторов в базовых класс `Expr`. Обратите что в классах мы можем тоже заменить на использование операторов.\n",
    "```python  \n",
    "-e         e.__neg__()\n",
    "+e         e.__pos__()\n",
    "e1 + e2    e1.__add__(e2)\n",
    "e1 - e2    e1.__sub__(e2)\n",
    "e1 * e2    e1.__mul__(e2)\n",
    "e1 / e2    e1.__truediv__(e2)\n",
    "```\n",
    "\n",
    "**Пример использования:**\n",
    "\n",
    "```python\n",
    "(V(\"x\") * V(\"x\") / V(\"y\"))(x=5, y=2.5)\n",
    "10.0\n",
    "```"
   ]
  },
  {
   "cell_type": "code",
   "execution_count": null,
   "id": "0171ce51",
   "metadata": {},
   "outputs": [],
   "source": [
    "# example\n",
    "\n",
    "(V(\"x\") * V(\"x\") / V(\"y\"))(x=5, y=2.5)"
   ]
  },
  {
   "cell_type": "code",
   "execution_count": null,
   "id": "915fa7e1",
   "metadata": {},
   "outputs": [],
   "source": [
    "# test\n",
    "\n",
    "def all_test_3():\n",
    "    # test 1\n",
    "    expr = Const(3) + Const(4)\n",
    "    assert expr() == 7, f\"Expected 7, but got {expr()}\"\n",
    "\n",
    "    expr = Const(3) - Const(1)\n",
    "    assert expr() == 2, f\"Expected 2, but got {expr()}\"\n",
    "\n",
    "    expr = Const(3) * Const(4)\n",
    "    assert expr() == 12, f\"Expected 12, but got {expr()}\"\n",
    "\n",
    "    expr = Const(8) / Const(2)\n",
    "    assert expr() == 4, f\"Expected 4, but got {expr()}\"\n",
    "\n",
    "    # test 2\n",
    "    expr = (Var(\"x\") * Var(\"x\")) / Var(\"y\")\n",
    "    assert expr(x=5, y=2.5) == 10.0, f\"Expected 10.0, but got {expr(x=5, y=2.5)}\"\n",
    "\n",
    "    expr = Var(\"x\") + Var(\"y\") - Var(\"z\")\n",
    "    assert expr(x=5, y=3, z=1) == 7, f\"Expected 7, but got {expr(x=5, y=3, z=1)}\"\n",
    "\n",
    "    # test 3\n",
    "    expr = Var(\"x\") * Var(\"x\")\n",
    "    expr_d = expr.d(Var(\"x\"))\n",
    "    assert expr_d(x=3) == 6, f\"Expected 6, but got {expr_d(x=3)}\"\n",
    "\n",
    "    expr = Var(\"x\") / Var(\"y\")\n",
    "    expr_dx = expr.d(Var(\"x\"))\n",
    "    expr_dy = expr.d(Var(\"y\"))\n",
    "    assert expr_dx(x=3, y=4) == 0.25, f\"Expected 0.25, but got {expr_dx(x=3, y=4)}\"\n",
    "    assert expr_dy(x=3, y=4) == -0.1875, f\"Expected -0.1875, but got {expr_dy(x=3, y=4)}\"\n",
    "\n",
    "    return \"everything is working fine!\"\n",
    "\n",
    "print(all_test_3())"
   ]
  },
  {
   "cell_type": "markdown",
   "id": "d8c4e847",
   "metadata": {
    "ExecuteTime": {
     "end_time": "2024-11-12T17:15:20.644716Z",
     "start_time": "2024-11-12T17:15:20.631450Z"
    }
   },
   "source": [
    "## Метод Ньютона-Рафсона"
   ]
  },
  {
   "cell_type": "markdown",
   "id": "c2ff4b5b",
   "metadata": {},
   "source": [
    "Напишите функцию `newton_raphson`, которая принимает дифференцируемую функцию  $f$  от переменной  $x$ , начальное приближение  $x_0$ , и положительное число  $\\epsilon$ , задающее точность вычислений. Функция должна возвращать значение  $x$ , при котором  $f(x)$  становится равным нулю. Метод Ньютона-Рафсона выполняет итеративный поиск корня функции  $f(x)$ , начиная с начального значения  $x_0$ , и использует правило  \n",
    "$$x_{n+1} = x_n - \\frac{f(x_n)}{f{\\prime}(x_n)}$$  \n",
    "для обновления  $x$  на каждом шаге. Итерации продолжаются до тех пор, пока условие остановки  $|x_{n+1} - x_n| \\leq \\epsilon$  не будет выполнено.\n",
    "\n",
    "**Пример использования:**\n",
    "\n",
    "```python\n",
    "x = Var(\"x\")\n",
    "f = Const(-5) * x * x * x * x * x + Const(3) * x + Const(2)\n",
    "zero = newton_raphson(f, 0.5, eps=1e-4)\n",
    "zero, f(x=zero)\n",
    "(1.000000000001132, -2.490496697760136e-11)\n",
    "```"
   ]
  },
  {
   "cell_type": "code",
   "execution_count": null,
   "id": "5e185229",
   "metadata": {},
   "outputs": [],
   "source": [
    "def newton_raphson(expr, x0, eps=1e-4):\n",
    "    x_n = x0\n",
    "    while True:\n",
    "        f = expr(x=x_n)\n",
    "        df = expr.d(Var(\"x\"))(x=x_n)\n",
    "        if df == 0: \n",
    "            raise Exception(\"newton's method is not suitable\")\n",
    "        x_n1 = x_n - f/df\n",
    "        if abs(x_n1 - x_n) <= eps:\n",
    "            break\n",
    "        x_n = x_n1\n",
    "    return x_n"
   ]
  },
  {
   "cell_type": "code",
   "execution_count": null,
   "id": "f1988009",
   "metadata": {},
   "outputs": [],
   "source": [
    "# example\n",
    "\n",
    "x = Var(\"x\")\n",
    "f = Const(-5) * x * x * x * x * x + Const(3) * x + Const(2)\n",
    "zero = newton_raphson(f, 0.5, eps=1e-4)\n",
    "print(zero, f(x=zero))"
   ]
  },
  {
   "cell_type": "code",
   "execution_count": null,
   "id": "f4bf88bf",
   "metadata": {},
   "outputs": [],
   "source": [
    "# test\n",
    "\n",
    "def all_test_4():\n",
    "    # test 1: x^2 - 2\n",
    "    expr = Var(\"x\") * Var(\"x\") - Const(2)\n",
    "    root = newton_raphson(expr, x0=1.0, eps=1e-4)\n",
    "    assert expr(x=root) <= 1e-4, f\"Expected approximately {2**0.5}, but got {root}\"\n",
    "\n",
    "    # test 2: x^3 - x\n",
    "    expr = Var(\"x\") * Var(\"x\") * Var(\"x\") - Var(\"x\")\n",
    "    root = newton_raphson(expr, x0=0.5, eps=1e-4)\n",
    "    assert expr(x=root) <= 1e-4, f\"Expected approximately 1, but got {root}\"\n",
    "\n",
    "    # test 3: 2x - 4\n",
    "    expr = Const(2) * Var(\"x\") - Const(4)\n",
    "    root = newton_raphson(expr, x0=0, eps=1e-4)\n",
    "    assert expr(x=root) <= 1e-4, f\"Expected approximately 2, but got {root}\"\n",
    "\n",
    "    # test 4: x^2 + 1, no real root\n",
    "    expr = Var(\"x\") * Var(\"x\") + Const(1)\n",
    "    try:\n",
    "        newton_raphson(expr, x0=0, eps=1e-4)\n",
    "        assert False, \"Expected an exception for no real roots\"\n",
    "    except Exception as e:\n",
    "        assert str(e) == \"newton's method is not suitable\", f\"Unexpected exception message: {str(e)}\"\n",
    "\n",
    "    return \"everything is working fine!\"\n",
    "\n",
    "print(all_test_4())"
   ]
  }
 ],
 "metadata": {
  "kernelspec": {
   "display_name": ".venv",
   "language": "python",
   "name": "python3"
  },
  "language_info": {
   "codemirror_mode": {
    "name": "ipython",
    "version": 3
   },
   "file_extension": ".py",
   "mimetype": "text/x-python",
   "name": "python",
   "nbconvert_exporter": "python",
   "pygments_lexer": "ipython3",
   "version": "3.13.0"
  }
 },
 "nbformat": 4,
 "nbformat_minor": 5
}
