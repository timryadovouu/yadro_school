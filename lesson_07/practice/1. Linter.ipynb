{
 "cells": [
  {
   "cell_type": "code",
   "execution_count": 20,
   "id": "43f93bc1",
   "metadata": {
    "ExecuteTime": {
     "end_time": "2024-11-07T05:12:59.644993Z",
     "start_time": "2024-11-07T05:12:59.631220Z"
    }
   },
   "outputs": [],
   "source": [
    "bad_code = \"\"\"\n",
    "class Person:\n",
    " def __init__(self, name, age, hobbies): self.name=name; self.age=age; self.hobbies=hobbies\n",
    "\n",
    " def greet(self): print(f\"Hello, my name is {self.name} and I am {self.age} years old.\")\n",
    "\n",
    "def calculate_area(radius, pi=3.14159): return pi * (radius ** 2)\n",
    "\n",
    "def example_function(a,b,c,d=None, e=None):\n",
    "    if(a==b):print(\"a is equal to b\");print(\"That's interesting!\")\n",
    "    elif(a > b):\n",
    "     print(\"a is greater than b\")\n",
    "     if c:\n",
    "      print(\"c is True\")\n",
    "      if d:print(\"d is also True\")\n",
    "    else:\n",
    "      print(\"a is less than b\")\n",
    "\n",
    "def complex_calculation(x, y, z):\n",
    "  result=x+y*z - (x/y)*z\n",
    "  return result\n",
    "\n",
    "# Multiline list and dictionary\n",
    "numbers = [\n",
    "1,2,3,4,5,6,7,8,9,10,11,12,13,14,15,16,17,18,19,20\n",
    "]\n",
    "data = {\"name\": \"Alice\",\"age\": 30, \"city\":\"Wonderland\",\"profession\":\"Adventurer\",\"skills\":[\"jumping\",\"running\",\"hiding\"],\"strengths\":{\"intelligence\":10,\"agility\":8,\"strength\":7}}\n",
    "\n",
    "def unformatted_function_with_long_parameters(parameter_one, parameter_two, parameter_three, parameter_four, parameter_five, parameter_six, parameter_seven, parameter_eight):\n",
    " print(\"This function has a lot of parameters, and should ideally be reformatted for readability.\")\n",
    "\n",
    "class UnformattedClassWithLongMethods:\n",
    " def __init__(self, data):self.data=data\n",
    "\n",
    " def long_method_with_lots_of_logic(self, val):\n",
    "  if val > 100:print(\"That's a big value!\")\n",
    "  elif val < 0:\n",
    "   print(\"Negative values are not allowed!\")\n",
    "   if isinstance(self.data, dict):\n",
    "    for k, v in self.data.items():print(f\"Key {k}, Value {v}\")\n",
    "   else:print(\"Data is not a dictionary\")\n",
    "  return val\n",
    "\n",
    "def very_long_list(): return [1,2,3,4,5,6,7,8,9,10,11,12,13,14,15,16,17,18,19,20,21,22,23,24,25,26,27,28,29,30,31,32,33,34,35,36,37,38,39,40]\n",
    "\n",
    "def unaligned_code_block():\n",
    "    for i in range(5): print(f\"Number {i}\") \n",
    "    print(\"Loop done\")   \n",
    "    print(\"More code\")  \n",
    "    if True: print(\"Condition met\") \n",
    "    else: print(\"Condition not met\")\n",
    "\n",
    "# Large dictionary with various values\n",
    "large_dict = { \"item1\": \"A very long string that probably needs to be wrapped across multiple lines for better readability\", \"item2\": \"Another long string\", \"item3\": [1,2,3,4,5,6,7,8,9,10], \"item4\": {\"key1\": \"value1\",\"key2\": \"value2\",\"key3\": \"value3\"}}\n",
    "\n",
    "def unnecessary_inline_lambda(): return (lambda x: x ** 2)(5)\n",
    "\"\"\""
   ]
  },
  {
   "cell_type": "code",
   "execution_count": 16,
   "id": "803c76fe",
   "metadata": {
    "ExecuteTime": {
     "end_time": "2024-11-07T05:12:49.989705Z",
     "start_time": "2024-11-07T05:12:49.969779Z"
    }
   },
   "outputs": [],
   "source": [
    "with open(\"bad_code.py\", \"w\") as f:\n",
    "    f.write(bad_code)"
   ]
  },
  {
   "cell_type": "code",
   "execution_count": 19,
   "id": "9ed704f2",
   "metadata": {
    "ExecuteTime": {
     "end_time": "2024-11-07T05:12:54.852526Z",
     "start_time": "2024-11-07T05:12:54.498218Z"
    }
   },
   "outputs": [
    {
     "name": "stdout",
     "output_type": "stream",
     "text": [
      "bad_code.py:35:80: E501 line too long (81 > 79 characters)\r\n",
      "bad_code.py:57:80: E501 line too long (99 > 79 characters)\r\n",
      "bad_code.py:136:80: E501 line too long (113 > 79 characters)\r\n"
     ]
    }
   ],
   "source": [
    "!flake8 bad_code.py"
   ]
  },
  {
   "cell_type": "code",
   "execution_count": 18,
   "id": "a308e39f",
   "metadata": {
    "ExecuteTime": {
     "end_time": "2024-11-07T05:12:53.252629Z",
     "start_time": "2024-11-07T05:12:52.898552Z"
    }
   },
   "outputs": [
    {
     "name": "stdout",
     "output_type": "stream",
     "text": [
      "\u001b[1mreformatted bad_code.py\u001b[0m\r\n",
      "\u001b[1mAll done! ✨ 🍰 ✨\u001b[0m\r\n",
      "\u001b[1m1 file reformatted\u001b[0m.\u001b[0m\r\n"
     ]
    }
   ],
   "source": [
    "!black bad_code.py"
   ]
  }
 ],
 "metadata": {
  "kernelspec": {
   "display_name": "Python 3 (ipykernel)",
   "language": "python",
   "name": "python3"
  },
  "language_info": {
   "codemirror_mode": {
    "name": "ipython",
    "version": 3
   },
   "file_extension": ".py",
   "mimetype": "text/x-python",
   "name": "python",
   "nbconvert_exporter": "python",
   "pygments_lexer": "ipython3",
   "version": "3.9.7"
  }
 },
 "nbformat": 4,
 "nbformat_minor": 5
}
