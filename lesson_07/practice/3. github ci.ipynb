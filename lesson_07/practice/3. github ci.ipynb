{
 "cells": [
  {
   "cell_type": "markdown",
   "id": "d84672c8",
   "metadata": {
    "ExecuteTime": {
     "end_time": "2024-11-07T13:15:23.390234Z",
     "start_time": "2024-11-07T13:15:23.378424Z"
    }
   },
   "source": [
    "# Структура проекта"
   ]
  },
  {
   "cell_type": "code",
   "execution_count": 2,
   "id": "2a7af496",
   "metadata": {
    "ExecuteTime": {
     "end_time": "2024-11-07T13:15:11.655387Z",
     "start_time": "2024-11-07T13:15:11.643883Z"
    }
   },
   "outputs": [],
   "source": [
    "#.\n",
    "#├── add.py              # Модуль с функцией сложения\n",
    "#├── test_add.py         # Тесты для функции сложения\n",
    "#├── requirements.txt    # Зависимости (если есть)\n",
    "#└── .github\n",
    "#    └── workflows\n",
    "#        └── ci.yml      # Конфигурация для GitHub Actions"
   ]
  },
  {
   "cell_type": "code",
   "execution_count": 5,
   "id": "85e3174a",
   "metadata": {
    "ExecuteTime": {
     "end_time": "2024-11-07T13:15:36.325183Z",
     "start_time": "2024-11-07T13:15:36.307504Z"
    }
   },
   "outputs": [],
   "source": [
    "# add.py\n",
    "\n",
    "def add(a, b):\n",
    "    return a + b"
   ]
  },
  {
   "cell_type": "code",
   "execution_count": 6,
   "id": "b09de85f",
   "metadata": {
    "ExecuteTime": {
     "end_time": "2024-11-07T13:15:42.684906Z",
     "start_time": "2024-11-07T13:15:42.599031Z"
    },
    "collapsed": true
   },
   "outputs": [
    {
     "ename": "ModuleNotFoundError",
     "evalue": "No module named 'add'",
     "output_type": "error",
     "traceback": [
      "\u001b[0;31m---------------------------------------------------------------------------\u001b[0m",
      "\u001b[0;31mModuleNotFoundError\u001b[0m                       Traceback (most recent call last)",
      "\u001b[0;32m/var/folders/wm/khkwk2g178n7h8ngdvlc9htr0000gp/T/ipykernel_96148/664188811.py\u001b[0m in \u001b[0;36m<module>\u001b[0;34m\u001b[0m\n\u001b[1;32m      1\u001b[0m \u001b[0;31m# test_add.py\u001b[0m\u001b[0;34m\u001b[0m\u001b[0;34m\u001b[0m\u001b[0m\n\u001b[0;32m----> 2\u001b[0;31m \u001b[0;32mfrom\u001b[0m \u001b[0madd\u001b[0m \u001b[0;32mimport\u001b[0m \u001b[0madd\u001b[0m\u001b[0;34m\u001b[0m\u001b[0;34m\u001b[0m\u001b[0m\n\u001b[0m\u001b[1;32m      3\u001b[0m \u001b[0;34m\u001b[0m\u001b[0m\n\u001b[1;32m      4\u001b[0m \u001b[0;32mdef\u001b[0m \u001b[0mtest_add\u001b[0m\u001b[0;34m(\u001b[0m\u001b[0;34m)\u001b[0m\u001b[0;34m:\u001b[0m\u001b[0;34m\u001b[0m\u001b[0;34m\u001b[0m\u001b[0m\n\u001b[1;32m      5\u001b[0m     \u001b[0;32massert\u001b[0m \u001b[0madd\u001b[0m\u001b[0;34m(\u001b[0m\u001b[0;36m1\u001b[0m\u001b[0;34m,\u001b[0m \u001b[0;36m2\u001b[0m\u001b[0;34m)\u001b[0m \u001b[0;34m==\u001b[0m \u001b[0;36m3\u001b[0m\u001b[0;34m\u001b[0m\u001b[0;34m\u001b[0m\u001b[0m\n",
      "\u001b[0;31mModuleNotFoundError\u001b[0m: No module named 'add'"
     ]
    }
   ],
   "source": [
    "# test_add.py\n",
    "from add import add\n",
    "\n",
    "def test_add():\n",
    "    assert add(1, 2) == 3\n",
    "    assert add(-1, 1) == 0\n",
    "    assert add(0, 0) == 0\n",
    "    assert add(2.5, 3.5) == 6.0"
   ]
  },
  {
   "cell_type": "code",
   "execution_count": 7,
   "id": "f26c1c1f",
   "metadata": {
    "ExecuteTime": {
     "end_time": "2024-11-07T13:16:07.301933Z",
     "start_time": "2024-11-07T13:16:07.280600Z"
    },
    "collapsed": true
   },
   "outputs": [
    {
     "ename": "NameError",
     "evalue": "name 'pytest' is not defined",
     "output_type": "error",
     "traceback": [
      "\u001b[0;31m---------------------------------------------------------------------------\u001b[0m",
      "\u001b[0;31mNameError\u001b[0m                                 Traceback (most recent call last)",
      "\u001b[0;32m/var/folders/wm/khkwk2g178n7h8ngdvlc9htr0000gp/T/ipykernel_96148/3464658314.py\u001b[0m in \u001b[0;36m<module>\u001b[0;34m\u001b[0m\n\u001b[1;32m      1\u001b[0m \u001b[0;31m# requirements.txt\u001b[0m\u001b[0;34m\u001b[0m\u001b[0;34m\u001b[0m\u001b[0m\n\u001b[0;32m----> 2\u001b[0;31m \u001b[0mpytest\u001b[0m\u001b[0;34m\u001b[0m\u001b[0;34m\u001b[0m\u001b[0m\n\u001b[0m",
      "\u001b[0;31mNameError\u001b[0m: name 'pytest' is not defined"
     ]
    }
   ],
   "source": [
    "# requirements.txt\n",
    "pytest\n",
    "flake8"
   ]
  },
  {
   "cell_type": "code",
   "execution_count": null,
   "id": "bbc856ca",
   "metadata": {},
   "outputs": [],
   "source": [
    "name: CI Pipeline\n",
    "\n",
    "on:\n",
    "  push:\n",
    "    branches: [ main ]\n",
    "  pull_request:\n",
    "    branches: [ main ]\n",
    "\n",
    "jobs:\n",
    "  test:\n",
    "    runs-on: ubuntu-latest\n",
    "\n",
    "    steps:\n",
    "    - name: Checkout code\n",
    "      uses: actions/checkout@v2\n",
    "\n",
    "    - name: Set up Python\n",
    "      uses: actions/setup-python@v2\n",
    "      with:\n",
    "        python-version: '3.x'  # Указываем версию Python\n",
    "\n",
    "    - name: Install dependencies\n",
    "      run: |\n",
    "        python -m pip install --upgrade pip\n",
    "        pip install -r requirements.txt\n",
    "\n",
    "    - name: Run static analysis\n",
    "      run: |\n",
    "        flake8 . --count --select=E9,F63,F7,F82 --show-source --statistics\n",
    "        flake8 . --count --exit-zero --max-complexity=10 --max-line-length=88 --statistics\n",
    "\n",
    "    - name: Run tests\n",
    "      run: |\n",
    "        pytest"
   ]
  }
 ],
 "metadata": {
  "kernelspec": {
   "display_name": "Python 3 (ipykernel)",
   "language": "python",
   "name": "python3"
  },
  "language_info": {
   "codemirror_mode": {
    "name": "ipython",
    "version": 3
   },
   "file_extension": ".py",
   "mimetype": "text/x-python",
   "name": "python",
   "nbconvert_exporter": "python",
   "pygments_lexer": "ipython3",
   "version": "3.9.7"
  }
 },
 "nbformat": 4,
 "nbformat_minor": 5
}
