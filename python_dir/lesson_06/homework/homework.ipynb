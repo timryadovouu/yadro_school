{
 "cells": [
  {
   "cell_type": "markdown",
   "id": "b7f85915",
   "metadata": {},
   "source": [
    "# Работа с ресурсами"
   ]
  },
  {
   "cell_type": "markdown",
   "id": "9c7c136e",
   "metadata": {},
   "source": [
    "## Порядок сдачи домашнего"
   ]
  },
  {
   "cell_type": "markdown",
   "id": "0799026a",
   "metadata": {
    "ExecuteTime": {
     "end_time": "2024-11-03T13:23:48.609956Z",
     "start_time": "2024-11-03T13:23:48.581564Z"
    }
   },
   "source": [
    "Под каждое домашнее вы создаете отдельную ветку куда вносите все изменения в рамках домашнего. Как только домашнее готово - создаете пулл реквест (обратите внимание что в пулл реквесте должны быть отражены все изменения в рамках домашнего). Ревьювера назначаете из таблицы - https://docs.google.com/spreadsheets/d/1vK6IgEqaqXniUJAQOOspiL_tx3EYTSXW1cUrMHAZFr8/edit?gid=0#gid=0\n",
    "Перед сдачей проверьте код, напишите тесты. Не забудьте про PEP8, например, с помощью flake8. Задание нужно делать в jupyter notebook.\n",
    "\n",
    "**Дедлайн - 14 ноября 10:00**"
   ]
  },
  {
   "cell_type": "markdown",
   "id": "39ca02a1",
   "metadata": {},
   "source": [
    "# Менеджер контекста для смены директории (cd)"
   ]
  },
  {
   "cell_type": "markdown",
   "id": "eead1ca2",
   "metadata": {},
   "source": [
    "Напишите класс менеджера контекста ChangeDir, который временно меняет текущую рабочую директорию на заданную. После выхода из контекста рабочая директория должна вернуться к предыдущей.\n",
    "\n",
    "**Условия:**\n",
    "1.\tПри входе в блок with менеджер контекста должен изменить текущую директорию на указанную.\n",
    "2.\tПри выходе из блока with менеджер контекста должен вернуть рабочую директорию на исходное значение.\n",
    "3.\tОбработайте ситуацию, когда указанный путь не существует, с выводом сообщения об ошибке.\n",
    "\n",
    "**Пример:**\n",
    "\n",
    "```python\n",
    "import os\n",
    "\n",
    "print(\"Начальная директория:\", os.getcwd())\n",
    "\n",
    "with ChangeDir(\"/path/to/new/directory\"):\n",
    "    print(\"Внутри менеджера:\", os.getcwd())\n",
    "\n",
    "print(\"После выхода:\", os.getcwd())\n",
    "```"
   ]
  },
  {
   "cell_type": "code",
   "execution_count": 1,
   "id": "fd80f458",
   "metadata": {},
   "outputs": [],
   "source": [
    "import os"
   ]
  },
  {
   "cell_type": "code",
   "execution_count": 19,
   "id": "239b51fd",
   "metadata": {},
   "outputs": [],
   "source": [
    "class ChangeDir:\n",
    "    def __init__(self, path):\n",
    "        self.original_path = os.getcwd()\n",
    "        self.path = path\n",
    "    \n",
    "    def __enter__(self):\n",
    "        try:\n",
    "            os.chdir(self.path)\n",
    "        except FileNotFoundError:\n",
    "            print(f\"error: path '{self.path}' doesn't exist\")\n",
    "        return self\n",
    "    \n",
    "    def __exit__(self, exc_type, exc_value, exc_traceback):\n",
    "        os.chdir(self.original_path)"
   ]
  },
  {
   "cell_type": "code",
   "execution_count": 21,
   "id": "7c7c2520",
   "metadata": {},
   "outputs": [
    {
     "name": "stdout",
     "output_type": "stream",
     "text": [
      "Начальная директория: /Users/tryadovoi/Desktop/itmo/yadro_school/lesson_06/homework\n",
      "Внутри менеджера: /Users/tryadovoi/Desktop/itmo/yadro_school/lesson_06/practice\n",
      "После выхода: /Users/tryadovoi/Desktop/itmo/yadro_school/lesson_06/homework\n"
     ]
    }
   ],
   "source": [
    "# example\n",
    "print(\"Начальная директория:\", os.getcwd())\n",
    "try:\n",
    "    with ChangeDir(\"../practice\"):\n",
    "        print(\"Внутри менеджера:\", os.getcwd())\n",
    "except FileNotFoundError as e:\n",
    "    print(e)\n",
    "\n",
    "print(\"После выхода:\", os.getcwd())"
   ]
  },
  {
   "cell_type": "code",
   "execution_count": 24,
   "id": "ffa1798d",
   "metadata": {},
   "outputs": [
    {
     "name": "stdout",
     "output_type": "stream",
     "text": [
      "error: path '/path/that/does/not/exist' doesn't exist\n",
      "everything is working fine!\n"
     ]
    }
   ],
   "source": [
    "def all_test_1():\n",
    "    initial_dir = os.getcwd()\n",
    "    \n",
    "    # test 1\n",
    "    existing_dir = initial_dir \n",
    "    with ChangeDir(existing_dir):\n",
    "        result = os.getcwd()\n",
    "        assert result == existing_dir, f\"Expected {existing_dir}, but got {result}\"\n",
    "    assert os.getcwd() == initial_dir, f\"Expected {initial_dir}, but got {os.getcwd()}\"\n",
    "\n",
    "    # test 2\n",
    "    not_existing_dir = \"/path/that/does/not/exist\"\n",
    "    with ChangeDir(not_existing_dir):\n",
    "        result = os.getcwd()\n",
    "        assert result == initial_dir, f\"Expected {initial_dir} when entering non-existent directory, but got {result}\"\n",
    "    assert os.getcwd() == initial_dir, f\"Expected {initial_dir}, but got {os.getcwd()}\"\n",
    "\n",
    "    # test 3\n",
    "    nested_dir = existing_dir\n",
    "    with ChangeDir(nested_dir):\n",
    "        assert os.getcwd() == nested_dir, f\"Expected {nested_dir}, but got {os.getcwd()}\"\n",
    "        with ChangeDir(initial_dir):\n",
    "            assert os.getcwd() == initial_dir, f\"Expected {initial_dir} in nested context, but got {os.getcwd()}\"\n",
    "        assert os.getcwd() == nested_dir, f\"Expected {nested_dir} after nested context, but got {os.getcwd()}\"\n",
    "    assert os.getcwd() == initial_dir, f\"Expected {initial_dir} after all contexts, but got {os.getcwd()}\"\n",
    "\n",
    "    return \"everything is working fine!\"\n",
    "\n",
    "print(all_test_1())\n"
   ]
  },
  {
   "cell_type": "markdown",
   "id": "5addad6c",
   "metadata": {},
   "source": [
    "# Перенаправления вывода в файл"
   ]
  },
  {
   "cell_type": "markdown",
   "id": "4c199e6e",
   "metadata": {},
   "source": [
    "Напишите класс менеджера контекста RedirectOutput, который временно перенаправляет стандартный поток вывода stdout в указанный файл. После выхода из контекста вывод должен возвращаться в стандартный поток.\n",
    "\n",
    "**Условия:**\n",
    "\n",
    "1.\tПри входе в блок with менеджер контекста должен перенаправить вывод print в файл, указанный при создании объекта.\n",
    "2.\tПри выходе из блока with вывод должен возвращаться в стандартный поток.\n",
    "3.\tЕсли файл уже существует, вывод должен дописываться к нему, а не перезаписывать его.\n",
    "\n",
    "**Пример:**\n",
    "```python\n",
    "print(\"Это стандартный вывод\")  # Должно выводиться в консоль\n",
    "\n",
    "with RedirectOutput(\"output.txt\"):\n",
    "    print(\"Это вывод в файл\")   # Должно записываться в файл \"output.txt\"\n",
    "\n",
    "print(\"Снова стандартный вывод\")  # Должно выводиться в консоль\n",
    "```\n"
   ]
  },
  {
   "cell_type": "code",
   "execution_count": 26,
   "id": "367e352b",
   "metadata": {},
   "outputs": [],
   "source": [
    "import sys"
   ]
  },
  {
   "cell_type": "code",
   "execution_count": 27,
   "id": "abf13f3f",
   "metadata": {},
   "outputs": [],
   "source": [
    "class RedirectOutput:\n",
    "    def __init__(self, filename):\n",
    "        self.filename = filename\n",
    "        self.original_output = sys.stdout\n",
    "\n",
    "\n",
    "    def __enter__(self):\n",
    "        self.file = open(self.filename, 'a')\n",
    "        sys.stdout = self.file\n",
    "    \n",
    "    def __exit__(self, exc_type, exc_value, exc_traceback):\n",
    "        sys.stdout = self.original_output\n",
    "        self.file.close()"
   ]
  },
  {
   "cell_type": "code",
   "execution_count": 28,
   "id": "f807e98a",
   "metadata": {},
   "outputs": [
    {
     "name": "stdout",
     "output_type": "stream",
     "text": [
      "Это стандартный вывод\n",
      "Снова стандартный вывод\n"
     ]
    }
   ],
   "source": [
    "# example\n",
    "print(\"Это стандартный вывод\")  # Должно выводиться в консоль\n",
    "\n",
    "with RedirectOutput(\"output.txt\"):\n",
    "    print(\"Это вывод в файл\")   # Должно записываться в файл \"output.txt\"\n",
    "\n",
    "print(\"Снова стандартный вывод\")  # Должно выводиться в консоль"
   ]
  },
  {
   "cell_type": "code",
   "execution_count": 33,
   "id": "1fba5a11",
   "metadata": {},
   "outputs": [
    {
     "name": "stdout",
     "output_type": "stream",
     "text": [
      "everything is working fine!\n"
     ]
    }
   ],
   "source": [
    "def all_test_2():\n",
    "    file1 = 'test_output_1.txt'\n",
    "    file2 = 'test_output_2.txt'\n",
    "\n",
    "    for file in [file1, file2]:\n",
    "        if os.path.exists(file):\n",
    "            os.remove(file)\n",
    "    \n",
    "    # test 1\n",
    "    with RedirectOutput(file1):\n",
    "        print(\"Hello, World!\")\n",
    "    with open(file1, 'r') as f:\n",
    "        content = f.read().strip()\n",
    "    assert content == \"Hello, World!\", f\"Expected 'Hello, World!', but got '{content}'\"\n",
    "\n",
    "    # test 2\n",
    "    initial_stdout = sys.stdout\n",
    "    with RedirectOutput(file1):\n",
    "        pass\n",
    "    assert sys.stdout == initial_stdout, \"Expected stdout to be restored to initial state after context manager\"\n",
    "\n",
    "    # test 3\n",
    "    with RedirectOutput(file1):\n",
    "        print(\"output 1\")\n",
    "        with RedirectOutput(file2):\n",
    "            print(\"output 2\")\n",
    "        print(\"Back to first file\")\n",
    "\n",
    "    with open(file1, 'r') as f:\n",
    "        content_file1 = f.read().strip().splitlines()\n",
    "    with open(file2, 'r') as f:\n",
    "        content_file2 = f.read().strip().splitlines()\n",
    "\n",
    "    assert content_file1 == [\"Hello, World!\", \"output 1\", \"Back to first file\"], f\"Unexpected content in {file1}: {content_file1}\"\n",
    "    assert content_file2 == [\"output 2\"], f\"Unexpected content in {file2}: {content_file2}\"\n",
    "\n",
    "    for file in [file1, file2]:\n",
    "        if os.path.exists(file):\n",
    "            os.remove(file)\n",
    "\n",
    "    return \"everything is working fine!\"\n",
    "\n",
    "print(all_test_2())"
   ]
  },
  {
   "cell_type": "markdown",
   "id": "5521fc72",
   "metadata": {},
   "source": [
    "# Замер времени выполнения кода"
   ]
  },
  {
   "cell_type": "markdown",
   "id": "dcdd1880",
   "metadata": {
    "ExecuteTime": {
     "end_time": "2024-10-31T14:19:37.856022Z",
     "start_time": "2024-10-31T14:19:37.835554Z"
    }
   },
   "source": [
    "Напишите класс менеджера контекста Timer, который замеряет время выполнения кода внутри блока with. Менеджер должен выводить время выполнения в консоль по завершении блока. Для замера времени используйте модуль time.\n",
    "\n",
    "**Условия:**\n",
    "1. При входе в блок with менеджер контекста должен начинать отсчёт времени.\n",
    "2. При выходе из блока with менеджер должен выводить в консоль время выполнения кода внутри блока в формате \"Время выполнения: X.XXX секунд\".\n",
    "3. Опционально: добавить возможность передавать имя таймера при инициализации, чтобы можно было различать результаты замеров, если их несколько.\n",
    "\n",
    "**Пример:**\n",
    "```python\n",
    "import time\n",
    "\n",
    "with Timer(\"Задача 1\"):\n",
    "    time.sleep(1)  # Симуляция работы кода\n",
    "[Задача 1] Время выполнения: 1.001 секунд\n",
    "    \n",
    "with Timer(\"Задача 2\"):\n",
    "    for i in range(1000000):\n",
    "        pass\n",
    "[Задача 2] Время выполнения: 0.034 секунд\n",
    "```"
   ]
  },
  {
   "cell_type": "code",
   "execution_count": 35,
   "id": "8887e698",
   "metadata": {},
   "outputs": [],
   "source": [
    "import time"
   ]
  },
  {
   "cell_type": "code",
   "execution_count": 36,
   "id": "0034913b",
   "metadata": {},
   "outputs": [],
   "source": [
    "class Timer:\n",
    "    def __init__(self, task):\n",
    "        self.task = task\n",
    "\n",
    "    def __enter__(self):\n",
    "        self.start = time.perf_counter()\n",
    "    \n",
    "    def __exit__(self, exc_type, exc_value, exc_traceback):\n",
    "        print(f\"[{self.task}] Time: {time.perf_counter() - self.start:.3f}\")"
   ]
  },
  {
   "cell_type": "code",
   "execution_count": 37,
   "id": "a8fbe284",
   "metadata": {},
   "outputs": [
    {
     "name": "stdout",
     "output_type": "stream",
     "text": [
      "[Задача 1] Time: 1.001\n",
      "[Задача 2] Time: 0.043\n"
     ]
    }
   ],
   "source": [
    "# example\n",
    "with Timer(\"Задача 1\"):\n",
    "    time.sleep(1)\n",
    "\n",
    "with Timer(\"Задача 2\"):\n",
    "    for i in range(1000000):\n",
    "        pass"
   ]
  },
  {
   "cell_type": "code",
   "execution_count": 45,
   "id": "7badff85",
   "metadata": {},
   "outputs": [
    {
     "name": "stdout",
     "output_type": "stream",
     "text": [
      "[short task] Time: 0.105\n",
      "[long task] Time: 0.505\n",
      "[very short task] Time: 0.000\n",
      "everything is working fine!\n"
     ]
    }
   ],
   "source": [
    "def all_test_3():\n",
    "    # test 1\n",
    "    start = time.perf_counter()\n",
    "    with Timer(\"short task\"):\n",
    "        time.sleep(0.1) \n",
    "    duration = time.perf_counter() - start\n",
    "    assert 0.08 <= duration <= 0.16, f\"Expected duration around 0.1s, but got {duration:.3f}s\"\n",
    "\n",
    "    # test 2\n",
    "    start = time.perf_counter()\n",
    "    with Timer(\"long task\"):\n",
    "        time.sleep(0.5)\n",
    "    duration = time.perf_counter() - start\n",
    "    assert 0.48 <= duration <= 0.53, f\"Expected duration around 0.5s, but got {duration:.3f}s\"\n",
    "\n",
    "    # test 3\n",
    "    start = time.perf_counter()\n",
    "    with Timer(\"very short task\"):\n",
    "        pass \n",
    "    duration = time.perf_counter() - start\n",
    "    assert duration < 0.01, f\"Expected duration to be very short, but got {duration:.3f}s\"\n",
    "\n",
    "    return \"everything is working fine!\"\n",
    "\n",
    "print(all_test_3())"
   ]
  },
  {
   "cell_type": "markdown",
   "id": "ef8887ce",
   "metadata": {},
   "source": [
    "# Поглощение исключения"
   ]
  },
  {
   "cell_type": "markdown",
   "id": "f02320f4",
   "metadata": {},
   "source": [
    "Напишите класс менеджера контекста SuppressExceptions, который подавляет указанные исключения внутри блока with, не прерывая выполнение программы. Если в блоке возникает исключение, которое не входит в список подавляемых, оно должно быть выброшено обычным образом.\n",
    "\n",
    "**Условия:**\n",
    "1.\tПри инициализации менеджера контекста нужно передавать типы исключений, которые будут подавляться.\n",
    "2.\tЕсли в блоке with возникает исключение из списка подавляемых, оно должно игнорироваться.\n",
    "3.\tЕсли возникает исключение, не входящее в список, оно должно быть выброшено.\n",
    "4.\tОпционально: после подавления исключения вывести сообщение о том, какое исключение было подавлено.\n",
    "\n",
    "\n",
    "**Пример:**\n",
    "```python\n",
    "with SuppressExceptions(ZeroDivisionError, ValueError):\n",
    "    print(1 / 0)  # Это исключение будет подавлено\n",
    "\n",
    "with SuppressExceptions(TypeError):\n",
    "    print(1 + \"2\")  # Это исключение будет подавлено\n",
    "\n",
    "with SuppressExceptions(IndexError):\n",
    "    print([1, 2, 3][5])  # Это исключение будет подавлено\n",
    "\n",
    "print(\"Программа продолжает работать после блока with\")\n",
    "```"
   ]
  },
  {
   "cell_type": "code",
   "execution_count": 47,
   "id": "3603cdfd",
   "metadata": {},
   "outputs": [],
   "source": [
    "class SuppressExceptions:\n",
    "    def __init__(self, *args):\n",
    "        self.suppress_exceptions = args\n",
    "\n",
    "    def __enter__(self):\n",
    "        return self\n",
    "    \n",
    "    def __exit__(self, exc_type, exc_value, exc_traceback):\n",
    "        if exc_type is not None:\n",
    "            if issubclass(exc_type, self.suppress_exceptions):\n",
    "                print(f\"Suppressed exception: {exc_type.__name__}\")\n",
    "                return True \n",
    "            else:\n",
    "                return False  \n",
    "        return False"
   ]
  },
  {
   "cell_type": "code",
   "execution_count": 48,
   "id": "832cc84c",
   "metadata": {},
   "outputs": [
    {
     "name": "stdout",
     "output_type": "stream",
     "text": [
      "Suppressed exception: ZeroDivisionError\n",
      "Suppressed exception: TypeError\n",
      "Suppressed exception: IndexError\n",
      "Программа продолжает работать после блока with\n"
     ]
    }
   ],
   "source": [
    "# example\n",
    "with SuppressExceptions(ZeroDivisionError, ValueError):\n",
    "    print(1 / 0)  # Это исключение будет подавлено\n",
    "\n",
    "with SuppressExceptions(TypeError):\n",
    "    print(1 + \"2\")  # Это исключение будет подавлено\n",
    "\n",
    "with SuppressExceptions(IndexError):\n",
    "    print([1, 2, 3][5])  # Это исключение будет подавлено\n",
    "\n",
    "print(\"Программа продолжает работать после блока with\")"
   ]
  },
  {
   "cell_type": "code",
   "execution_count": 54,
   "id": "ca78206e",
   "metadata": {},
   "outputs": [
    {
     "name": "stdout",
     "output_type": "stream",
     "text": [
      "Suppressed exception: ZeroDivisionError\n",
      "Suppressed exception: ValueError\n",
      "everything is working fine!\n"
     ]
    }
   ],
   "source": [
    "def all_test_4():\n",
    "    # test 1\n",
    "    try:\n",
    "        with SuppressExceptions(ZeroDivisionError):\n",
    "            1 / 0 \n",
    "        result = \"No exception\"\n",
    "    except ZeroDivisionError:\n",
    "        result = \"Exception raised\"\n",
    "    assert result == \"No exception\", f\"Expected suppression of ZeroDivisionError, but got '{result}'\"\n",
    "\n",
    "    # test 2\n",
    "    try:\n",
    "        with SuppressExceptions(ValueError):\n",
    "            1 / 0  \n",
    "        result = \"No exception\"\n",
    "    except ZeroDivisionError:\n",
    "        result = \"Exception raised\"\n",
    "    assert result == \"Exception raised\", \"Expected ZeroDivisionError to be raised, but it was suppressed\"\n",
    "\n",
    "    # test 3\n",
    "    try:\n",
    "        with SuppressExceptions(ValueError, TypeError):\n",
    "            int(\"not a number\")\n",
    "        result = \"No exception\"\n",
    "    except ValueError:\n",
    "        result = \"Exception raised\"\n",
    "    assert result == \"No exception\", \"Expected suppression of ValueError, but exception was raised\"\n",
    "\n",
    "    # test 4\n",
    "    try:\n",
    "        with SuppressExceptions(ValueError, TypeError):\n",
    "            x = 5 + 5\n",
    "        result = \"No exception\"\n",
    "    except Exception:\n",
    "        result = \"Exception raised\"\n",
    "    assert result == \"No exception\", \"Expected no exception, but an exception was raised\"\n",
    "\n",
    "    return \"everything is working fine!\"\n",
    "\n",
    "print(all_test_4())\n"
   ]
  },
  {
   "cell_type": "markdown",
   "id": "7936b581",
   "metadata": {},
   "source": [
    "# Создание временного файла\n",
    "Напишите класс менеджера контекста TemporaryFile, который создаёт временный файл при входе в контекст и автоматически удаляет его при выходе. Менеджер должен позволять записывать и читать данные из файла в течение его существования в контексте.\n",
    "\n",
    "**Условия:**\n",
    "1.\tПри входе в блок with менеджер должен создавать временный файл и возвращать его объект для записи и чтения.\n",
    "2.\tПри выходе из блока with временный файл должен автоматически удаляться.\n",
    "3.\tИмя файла должно быть уникальным и генерироваться автоматически.\n",
    "\n",
    "**Пример**\n",
    "```python\n",
    "with TemporaryFile() as temp_file:\n",
    "    temp_file.write(b\"Временные данные\\n\")  # Записываем данные\n",
    "    temp_file.seek(0)  # Возвращаемся в начало файла\n",
    "    print(temp_file.read())  # Читаем данные из временного файла\n",
    "\n",
    "print(\"Файл автоматически удалён\")\n",
    "```"
   ]
  },
  {
   "cell_type": "code",
   "execution_count": 55,
   "id": "c0d49a53",
   "metadata": {},
   "outputs": [],
   "source": [
    "import os\n",
    "import random"
   ]
  },
  {
   "cell_type": "code",
   "execution_count": 56,
   "id": "0c7aacf0",
   "metadata": {},
   "outputs": [],
   "source": [
    "class TemporaryFile:\n",
    "    def __init__(self):\n",
    "        pass\n",
    "\n",
    "    def __enter__(self):\n",
    "        while True:\n",
    "            self.filename = f\"temporary_file_{random.randint(0, 100)}.txt\"\n",
    "            if not os.path.exists(self.filename):\n",
    "                break\n",
    "        self.file = open(self.filename, 'w+b')\n",
    "        return self.file\n",
    "\n",
    "    def __exit__(self, exc_type, exc_value, exc_traceback):\n",
    "        self.file.close()\n",
    "        os.remove(self.filename)"
   ]
  },
  {
   "cell_type": "code",
   "execution_count": null,
   "id": "2c45ffd8",
   "metadata": {},
   "outputs": [
    {
     "name": "stdout",
     "output_type": "stream",
     "text": [
      "temporary data\n",
      "Файл автоматически удалён\n"
     ]
    }
   ],
   "source": [
    "# example\n",
    "with TemporaryFile() as temp_file:\n",
    "    temp_file.write(b\"temporary data\\n\")  # Записываем данные\n",
    "    temp_file.seek(0)  # Возвращаемся в начало файла\n",
    "    print(temp_file.read().decode().rstrip(\"\\n\"))  # Читаем данные из временного файла\n",
    "\n",
    "print(\"Файл автоматически удалён\")"
   ]
  },
  {
   "cell_type": "code",
   "execution_count": 60,
   "id": "9376ac26",
   "metadata": {},
   "outputs": [
    {
     "name": "stdout",
     "output_type": "stream",
     "text": [
      "everything is working fine!\n"
     ]
    }
   ],
   "source": [
    "def all_test_4():\n",
    "    # test 1\n",
    "    with TemporaryFile() as temp_file:\n",
    "        temp_file.write(b\"temporary data\\n\") \n",
    "        temp_file.seek(0) \n",
    "        content = temp_file.read().decode().strip() \n",
    "    assert content == \"temporary data\", f\"Expected 'temporary data', but got '{content}'\"\n",
    "\n",
    "    # test 2\n",
    "    with TemporaryFile() as temp_file:\n",
    "        filename = temp_file.name \n",
    "    file_exists = os.path.exists(filename)\n",
    "    assert not file_exists, f\"Expected file '{filename}' to be deleted, but it still exists\"\n",
    "\n",
    "    # test 3\n",
    "    with TemporaryFile() as temp_file1, TemporaryFile() as temp_file2:\n",
    "        filename1 = temp_file1.name\n",
    "        filename2 = temp_file2.name\n",
    "    assert filename1 != filename2, \"Expected unique filenames for each TemporaryFile instance\"\n",
    "    assert not os.path.exists(filename1) and not os.path.exists(filename2), \\\n",
    "        \"Expected both files to be deleted, but one or both still exist\"\n",
    "\n",
    "    return \"everything is working fine!\"\n",
    "\n",
    "print(all_test_4())"
   ]
  }
 ],
 "metadata": {
  "kernelspec": {
   "display_name": ".venv",
   "language": "python",
   "name": "python3"
  },
  "language_info": {
   "codemirror_mode": {
    "name": "ipython",
    "version": 3
   },
   "file_extension": ".py",
   "mimetype": "text/x-python",
   "name": "python",
   "nbconvert_exporter": "python",
   "pygments_lexer": "ipython3",
   "version": "3.13.0"
  }
 },
 "nbformat": 4,
 "nbformat_minor": 5
}
