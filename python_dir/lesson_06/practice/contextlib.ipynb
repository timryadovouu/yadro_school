{
 "cells": [
  {
   "cell_type": "markdown",
   "id": "63a97389",
   "metadata": {
    "ExecuteTime": {
     "end_time": "2024-10-31T14:37:36.910873Z",
     "start_time": "2024-10-31T14:37:36.895241Z"
    }
   },
   "source": [
    "# contextlib\n",
    "\n",
    "Преимущества использования contextlib\n",
    "* Упрощение кода: создание менеджеров контекста без необходимости писать отдельные классы.\n",
    "* Лаконичность: меньше кода, так как yield разделяет логику входа и выхода из контекста.\n",
    "* Читаемость: функции, созданные с @contextmanager, могут выглядеть более понятными и логичными.\n",
    "\n",
    "contextlib особенно удобен для создания простых и одноразовых менеджеров контекста, которые требуют минимального кода и могут быть применены для часто встречающихся шаблонов, таких как временная смена директории, подавление ошибок или перенаправление вывода."
   ]
  },
  {
   "cell_type": "code",
   "execution_count": null,
   "id": "1b2f0473",
   "metadata": {
    "ExecuteTime": {
     "end_time": "2024-10-31T14:54:43.560104Z",
     "start_time": "2024-10-31T14:54:43.551864Z"
    }
   },
   "outputs": [
    {
     "name": "stdout",
     "output_type": "stream",
     "text": [
      "Текущая директория: /Users/tryadovoi/Desktop/itmo/yadro_school/lesson_06/practice\n",
      "Временная директория: /private/tmp\n",
      "Вернулись в директорию: /Users/tryadovoi/Desktop/itmo/yadro_school/lesson_06/practice\n"
     ]
    }
   ],
   "source": [
    "import os\n",
    "from contextlib import contextmanager\n",
    "\n",
    "@contextmanager\n",
    "def change_directory(path):\n",
    "    original_path = os.getcwd()  # Сохраняем текущую директорию\n",
    "    os.chdir(path)               # Переходим в новую директорию\n",
    "    try:\n",
    "        yield                    # Останавливаемся на этом месте\n",
    "    finally:\n",
    "        os.chdir(original_path)  # Возвращаемся в исходную директорию при выходе из контекста\n",
    "\n",
    "# Пример использования\n",
    "print(\"Текущая директория:\", os.getcwd())\n",
    "with change_directory(\"/tmp\"):\n",
    "    print(\"Временная директория:\", os.getcwd())\n",
    "print(\"Вернулись в директорию:\", os.getcwd())"
   ]
  },
  {
   "cell_type": "markdown",
   "id": "f57d2f3b",
   "metadata": {},
   "source": [
    "Пояснение кода:\n",
    "* До yield: выполняется логика входа в контекст (смена директории).\n",
    "* После yield: выполняется логика выхода из контекста (возврат в исходную директорию).\n",
    "* try-finally блок: гарантирует, что мы вернёмся в исходную директорию даже при возникновении ошибки."
   ]
  },
  {
   "cell_type": "markdown",
   "id": "a7c5bd99",
   "metadata": {
    "ExecuteTime": {
     "end_time": "2024-10-31T14:38:41.865511Z",
     "start_time": "2024-10-31T14:38:41.861148Z"
    }
   },
   "source": [
    "## contextlib.suppress"
   ]
  },
  {
   "cell_type": "code",
   "execution_count": 2,
   "id": "361626c4",
   "metadata": {
    "ExecuteTime": {
     "end_time": "2024-10-31T16:36:17.137800Z",
     "start_time": "2024-10-31T16:36:17.122216Z"
    }
   },
   "outputs": [],
   "source": [
    "from contextlib import suppress\n",
    "\n",
    "with suppress(FileNotFoundError):\n",
    "    os.remove(\"non_existent_file.txt\")"
   ]
  },
  {
   "cell_type": "code",
   "execution_count": 3,
   "id": "e18fe72b",
   "metadata": {
    "ExecuteTime": {
     "end_time": "2024-10-31T16:36:26.719155Z",
     "start_time": "2024-10-31T16:36:26.500586Z"
    }
   },
   "outputs": [
    {
     "ename": "FileNotFoundError",
     "evalue": "[Errno 2] No such file or directory: 'non_existent_file.txt'",
     "output_type": "error",
     "traceback": [
      "\u001b[0;31m---------------------------------------------------------------------------\u001b[0m",
      "\u001b[0;31mFileNotFoundError\u001b[0m                         Traceback (most recent call last)",
      "Cell \u001b[0;32mIn[3], line 1\u001b[0m\n\u001b[0;32m----> 1\u001b[0m \u001b[43mos\u001b[49m\u001b[38;5;241;43m.\u001b[39;49m\u001b[43mremove\u001b[49m\u001b[43m(\u001b[49m\u001b[38;5;124;43m\"\u001b[39;49m\u001b[38;5;124;43mnon_existent_file.txt\u001b[39;49m\u001b[38;5;124;43m\"\u001b[39;49m\u001b[43m)\u001b[49m\n",
      "\u001b[0;31mFileNotFoundError\u001b[0m: [Errno 2] No such file or directory: 'non_existent_file.txt'"
     ]
    }
   ],
   "source": [
    "os.remove(\"non_existent_file.txt\")"
   ]
  },
  {
   "cell_type": "markdown",
   "id": "823ad308",
   "metadata": {
    "ExecuteTime": {
     "end_time": "2024-10-31T14:39:06.404240Z",
     "start_time": "2024-10-31T14:39:06.393045Z"
    }
   },
   "source": [
    "## contextlib.redirect_stdout"
   ]
  },
  {
   "cell_type": "code",
   "execution_count": 58,
   "id": "a4b99b92",
   "metadata": {
    "ExecuteTime": {
     "end_time": "2024-10-31T16:37:56.909022Z",
     "start_time": "2024-10-31T16:37:56.895457Z"
    }
   },
   "outputs": [],
   "source": [
    "from contextlib import redirect_stdout\n",
    "\n",
    "with open(\"output.txt\", \"w\") as f:\n",
    "    with redirect_stdout(f):\n",
    "        print(\"Этот текст будет записан в файл output.txt\")"
   ]
  },
  {
   "cell_type": "markdown",
   "id": "caf6b6bb",
   "metadata": {},
   "source": [
    "## timer"
   ]
  },
  {
   "cell_type": "code",
   "execution_count": 69,
   "id": "99a15ee0",
   "metadata": {
    "ExecuteTime": {
     "end_time": "2024-10-31T14:54:43.588105Z",
     "start_time": "2024-10-31T14:54:43.570331Z"
    }
   },
   "outputs": [
    {
     "name": "stdout",
     "output_type": "stream",
     "text": [
      "Время выполнения: 0.019 секунд\n"
     ]
    }
   ],
   "source": [
    "import time\n",
    "from contextlib import contextmanager\n",
    "\n",
    "@contextmanager\n",
    "def timer():\n",
    "    start = time.time()\n",
    "    yield\n",
    "    end = time.time()\n",
    "    print(f\"Время выполнения: {end - start:.3f} секунд\")\n",
    "\n",
    "# Пример использования\n",
    "with timer():\n",
    "    sum(range(1000000)) "
   ]
  },
  {
   "cell_type": "markdown",
   "id": "7350069b",
   "metadata": {
    "ExecuteTime": {
     "end_time": "2024-10-31T14:42:05.300498Z",
     "start_time": "2024-10-31T14:42:05.290430Z"
    }
   },
   "source": [
    "## Менеджер контекста для транзакционного выполнения с откатом"
   ]
  },
  {
   "cell_type": "code",
   "execution_count": 70,
   "id": "d757704a",
   "metadata": {
    "ExecuteTime": {
     "end_time": "2024-10-31T14:54:43.593220Z",
     "start_time": "2024-10-31T14:54:43.589048Z"
    }
   },
   "outputs": [
    {
     "name": "stdout",
     "output_type": "stream",
     "text": [
      "Откат изменений: ['Изменение 1', 'Изменение 2']\n",
      "Произошла ошибка: Ошибка\n"
     ]
    }
   ],
   "source": [
    "from contextlib import contextmanager\n",
    "\n",
    "class TransactionManager:\n",
    "    def __init__(self):\n",
    "        self.changes = []\n",
    "\n",
    "    def add_change(self, change):\n",
    "        self.changes.append(change)\n",
    "    \n",
    "    def commit(self):\n",
    "        print(\"Изменения сохранены:\", self.changes)\n",
    "    \n",
    "    def rollback(self):\n",
    "        print(\"Откат изменений:\", self.changes)\n",
    "        self.changes.clear()\n",
    "\n",
    "@contextmanager\n",
    "def transaction(manager):\n",
    "    try:\n",
    "        yield manager\n",
    "        manager.commit()\n",
    "    except Exception:\n",
    "        manager.rollback()\n",
    "        raise\n",
    "\n",
    "# Пример использования\n",
    "manager = TransactionManager()\n",
    "\n",
    "try:\n",
    "    with transaction(manager) as txn:\n",
    "        txn.add_change(\"Изменение 1\")\n",
    "        txn.add_change(\"Изменение 2\")\n",
    "        raise ValueError(\"Ошибка\")  # Имитируем ошибку\n",
    "except Exception as e:\n",
    "    print(\"Произошла ошибка:\", e)"
   ]
  },
  {
   "cell_type": "markdown",
   "id": "276b50bd",
   "metadata": {},
   "source": [
    "## Менеджер контекста для временного изменения переменных окружения"
   ]
  },
  {
   "cell_type": "code",
   "execution_count": 71,
   "id": "0054e611",
   "metadata": {
    "ExecuteTime": {
     "end_time": "2024-10-31T14:54:43.598766Z",
     "start_time": "2024-10-31T14:54:43.594368Z"
    }
   },
   "outputs": [
    {
     "name": "stdout",
     "output_type": "stream",
     "text": [
      "Перед: None\n",
      "Внутри: Temporary Value\n",
      "После: None\n"
     ]
    }
   ],
   "source": [
    "import os\n",
    "from contextlib import contextmanager\n",
    "\n",
    "@contextmanager\n",
    "def temporary_env(**kwargs):\n",
    "    original_env = {key: os.environ.get(key) for key in kwargs}\n",
    "    os.environ.update(kwargs)\n",
    "    try:\n",
    "        yield\n",
    "    finally:\n",
    "        # Восстанавливаем первоначальные значения переменных окружения\n",
    "        for key, value in original_env.items():\n",
    "            if value is None:\n",
    "                del os.environ[key]\n",
    "            else:\n",
    "                os.environ[key] = value\n",
    "\n",
    "# Пример использования\n",
    "print(\"Перед:\", os.getenv(\"MY_VAR\"))\n",
    "\n",
    "with temporary_env(MY_VAR=\"Temporary Value\"):\n",
    "    print(\"Внутри:\", os.getenv(\"MY_VAR\"))\n",
    "\n",
    "print(\"После:\", os.getenv(\"MY_VAR\"))"
   ]
  },
  {
   "cell_type": "markdown",
   "id": "6e3afa37",
   "metadata": {},
   "source": [
    "## Менеджер контекста для работы с множественными файлами (пакетное открытие и закрытие)"
   ]
  },
  {
   "cell_type": "code",
   "execution_count": 23,
   "id": "d119b514",
   "metadata": {
    "ExecuteTime": {
     "end_time": "2024-10-31T17:02:29.404327Z",
     "start_time": "2024-10-31T17:02:29.388127Z"
    }
   },
   "outputs": [],
   "source": [
    "from contextlib import contextmanager\n",
    "\n",
    "@contextmanager\n",
    "def multi_file_open(*filenames, mode=\"r\"):\n",
    "    files = []\n",
    "    try:\n",
    "        # Открываем каждый файл и добавляем его в список\n",
    "        for filename in filenames:\n",
    "            files.append(open(filename, mode))\n",
    "        yield files\n",
    "    finally:\n",
    "        # Закрываем все файлы при выходе из контекста\n",
    "        for file in files:\n",
    "            file.close()\n",
    "\n",
    "# Пример использования\n",
    "file_names = [\"file1.txt\", \"file2.txt\", \"file3.txt\"]\n",
    "\n",
    "with multi_file_open(*file_names, mode=\"w\") as files:\n",
    "    for i, file in enumerate(files, 1):\n",
    "        file.write(f\"Запись в файл {i}\\n\")"
   ]
  },
  {
   "cell_type": "markdown",
   "id": "70d41474",
   "metadata": {},
   "source": [
    "## Менеджер контекста для динамического изменения прав доступа к файлу"
   ]
  },
  {
   "cell_type": "code",
   "execution_count": 72,
   "id": "ad3279f8",
   "metadata": {
    "ExecuteTime": {
     "end_time": "2024-10-31T14:54:43.612978Z",
     "start_time": "2024-10-31T14:54:43.608305Z"
    }
   },
   "outputs": [
    {
     "name": "stdout",
     "output_type": "stream",
     "text": [
      "Исходные права доступа: 0o100644\n",
      "Временные права доступа: 0o100444\n",
      "Восстановленные права доступа: 0o100644\n"
     ]
    }
   ],
   "source": [
    "import os\n",
    "from contextlib import contextmanager\n",
    "\n",
    "@contextmanager\n",
    "def temporary_file_permissions(filepath, permissions):\n",
    "    # Сохраняем текущие права доступа\n",
    "    original_permissions = os.stat(filepath).st_mode\n",
    "    os.chmod(filepath, permissions)  # Устанавливаем новые права доступа\n",
    "    \n",
    "    try:\n",
    "        yield\n",
    "    finally:\n",
    "        # Восстанавливаем исходные права доступа\n",
    "        os.chmod(filepath, original_permissions)\n",
    "\n",
    "# Пример использования\n",
    "with open(\"example.txt\", \"w\") as f:\n",
    "    f.write(\"Пример текста\")\n",
    "\n",
    "print(\"Исходные права доступа:\", oct(os.stat(\"example.txt\").st_mode))\n",
    "\n",
    "# Временно устанавливаем доступ только для чтения\n",
    "with temporary_file_permissions(\"example.txt\", 0o444):\n",
    "    print(\"Временные права доступа:\", oct(os.stat(\"example.txt\").st_mode))\n",
    "    # Пробуем записать - ожидается ошибка\n",
    "\n",
    "print(\"Восстановленные права доступа:\", oct(os.stat(\"example.txt\").st_mode))"
   ]
  },
  {
   "cell_type": "markdown",
   "id": "aff16958",
   "metadata": {},
   "source": [
    "## Менеджер контекста для отслеживания использования памяти "
   ]
  },
  {
   "cell_type": "code",
   "execution_count": 79,
   "id": "7f449deb",
   "metadata": {
    "ExecuteTime": {
     "end_time": "2024-10-31T14:54:43.666758Z",
     "start_time": "2024-10-31T14:54:43.615793Z"
    }
   },
   "outputs": [
    {
     "name": "stdout",
     "output_type": "stream",
     "text": [
      "Память использована: 2.00 MB\n"
     ]
    }
   ],
   "source": [
    "import os\n",
    "import psutil\n",
    "from contextlib import contextmanager\n",
    "\n",
    "@contextmanager\n",
    "def memory_monitor():\n",
    "    process = psutil.Process(os.getpid())\n",
    "    start_memory = process.memory_info().rss / (1024 ** 2)  # Память в MB\n",
    "    \n",
    "    try:\n",
    "        yield\n",
    "    finally:\n",
    "        end_memory = process.memory_info().rss / (1024 ** 2)  # Память после выполнения\n",
    "        print(f\"Память использована: {end_memory - start_memory:.2f} MB\")\n",
    "\n",
    "# Пример использования\n",
    "with memory_monitor():\n",
    "    big_list = [i for i in range(10**6)]  # Создаём крупный объект для тестирования памяти"
   ]
  }
 ],
 "metadata": {
  "kernelspec": {
   "display_name": ".venv",
   "language": "python",
   "name": "python3"
  },
  "language_info": {
   "codemirror_mode": {
    "name": "ipython",
    "version": 3
   },
   "file_extension": ".py",
   "mimetype": "text/x-python",
   "name": "python",
   "nbconvert_exporter": "python",
   "pygments_lexer": "ipython3",
   "version": "3.13.0"
  }
 },
 "nbformat": 4,
 "nbformat_minor": 5
}
