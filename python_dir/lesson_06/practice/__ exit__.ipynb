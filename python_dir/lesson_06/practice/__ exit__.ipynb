{
 "cells": [
  {
   "cell_type": "markdown",
   "id": "eb4c5f4c",
   "metadata": {
    "ExecuteTime": {
     "end_time": "2024-10-31T15:02:26.513445Z",
     "start_time": "2024-10-31T15:02:26.496070Z"
    }
   },
   "source": [
    "# Метод `__exit__`"
   ]
  },
  {
   "cell_type": "markdown",
   "id": "d53a7ef2",
   "metadata": {},
   "source": [
    "В Python менеджеры контекста используют три аргумента в методе `__exit__`, которые называются `exc_type`, `exc_value` и `traceback`. Эти параметры передаются в `__exit__` метод, если в блоке `with` произошло исключение. Если исключения не возникло, все три аргумента будут None.\n",
    "\n",
    "## Объяснение аргументов\n",
    "* `exc_type`: Тип исключения, которое было поднято. Например, для ошибки деления на ноль это будет `ZeroDivisionError`.\n",
    "* `exc_value`: Само исключение (экземпляр исключения), содержащее информацию о возникшей ошибке.\n",
    "* `traceback`: Объект трассировки стека, показывающий точное место в коде, где возникло исключение. Этот объект можно использовать для подробного анализа ошибки, например, чтобы вывести трассировку.\n",
    "\n",
    "Как `__exit__` обрабатывает исключения\n",
    "* Если `__exit__` возвращает `True`, то исключение, возникшее в блоке `with`, будет подавлено и не выйдет за его пределы.\n",
    "* Если `__exit__` возвращает `False` (или ничего не возвращает), исключение передаётся дальше, и блок `with` завершает работу с ошибкой."
   ]
  },
  {
   "cell_type": "markdown",
   "id": "8ce6697b",
   "metadata": {
    "ExecuteTime": {
     "end_time": "2024-10-31T15:03:47.254111Z",
     "start_time": "2024-10-31T15:03:47.244520Z"
    }
   },
   "source": [
    "## Пример использования exc_type, exc_value, traceback"
   ]
  },
  {
   "cell_type": "markdown",
   "id": "90ce2ad5",
   "metadata": {},
   "source": [
    "Создадим менеджер контекста, который будет перехватывать все исключения, записывать их в лог и, в зависимости от типа исключения, решать, подавлять его или нет."
   ]
  },
  {
   "cell_type": "code",
   "execution_count": 1,
   "id": "acf0eb81",
   "metadata": {
    "ExecuteTime": {
     "end_time": "2024-10-31T15:07:53.355010Z",
     "start_time": "2024-10-31T15:07:53.336439Z"
    }
   },
   "outputs": [],
   "source": [
    "import traceback\n",
    "\n",
    "class ExceptionLogger:\n",
    "    def __init__(self, suppress_exceptions=()):\n",
    "        self.suppress_exceptions = suppress_exceptions  # Список исключений для подавления\n",
    "\n",
    "    def __enter__(self):\n",
    "        # Возвращаем self, если он нужен внутри блока with\n",
    "        return self\n",
    "\n",
    "    def __exit__(self, exc_type, exc_value, exc_traceback):\n",
    "        if exc_type is not None:\n",
    "            # Печатаем тип исключения, его сообщение и трассировку\n",
    "            print(f\"Тип исключения: {exc_type.__name__}\")\n",
    "            print(f\"Сообщение исключения: {exc_value}\")\n",
    "            print(\"Трассировка:\")\n",
    "            traceback.print_tb(exc_traceback)  # Вывод трассировки в консоль\n",
    "            \n",
    "            # Проверяем, нужно ли подавить это исключение\n",
    "            if issubclass(exc_type, self.suppress_exceptions):\n",
    "                print(f\"Исключение '{exc_type.__name__}' подавлено.\")\n",
    "                return True  # Подавляем исключение\n",
    "            else:\n",
    "                print(f\"Исключение '{exc_type.__name__}' не подавлено.\")\n",
    "                return False  # Исключение не подавляется и выбрасывается снова\n",
    "        return False  # Возвращаем False, если исключения не было"
   ]
  },
  {
   "cell_type": "code",
   "execution_count": 3,
   "id": "0767253c",
   "metadata": {
    "ExecuteTime": {
     "end_time": "2024-10-31T15:07:54.846411Z",
     "start_time": "2024-10-31T15:07:54.753901Z"
    }
   },
   "outputs": [
    {
     "name": "stdout",
     "output_type": "stream",
     "text": [
      "Рассчитываем 1 / 0:\n",
      "Тип исключения: ZeroDivisionError\n",
      "Сообщение исключения: division by zero\n",
      "Трассировка:\n",
      "Исключение 'ZeroDivisionError' подавлено.\n",
      "\n",
      "Рассчитываем 'abc' + 123:\n",
      "Тип исключения: TypeError\n",
      "Сообщение исключения: can only concatenate str (not \"int\") to str\n",
      "Трассировка:\n",
      "Исключение 'TypeError' не подавлено.\n"
     ]
    },
    {
     "name": "stderr",
     "output_type": "stream",
     "text": [
      "  File \"/var/folders/g4/07vhwln94c78_fdxtcsm42y00000gn/T/ipykernel_2112/891652701.py\", line 3, in <module>\n",
      "    print(1 / 0)  # Подавленное исключение\n",
      "          ~~^~~\n",
      "  File \"/var/folders/g4/07vhwln94c78_fdxtcsm42y00000gn/T/ipykernel_2112/891652701.py\", line 7, in <module>\n",
      "    print(\"abc\" + 123)  # Исключение не будет подавлено\n",
      "          ~~~~~~^~~~~\n"
     ]
    },
    {
     "ename": "TypeError",
     "evalue": "can only concatenate str (not \"int\") to str",
     "output_type": "error",
     "traceback": [
      "\u001b[0;31m---------------------------------------------------------------------------\u001b[0m",
      "\u001b[0;31mTypeError\u001b[0m                                 Traceback (most recent call last)",
      "Cell \u001b[0;32mIn[3], line 7\u001b[0m\n\u001b[1;32m      5\u001b[0m \u001b[38;5;28;01mwith\u001b[39;00m ExceptionLogger(suppress_exceptions\u001b[38;5;241m=\u001b[39m(\u001b[38;5;167;01mZeroDivisionError\u001b[39;00m,)):\n\u001b[1;32m      6\u001b[0m     \u001b[38;5;28mprint\u001b[39m(\u001b[38;5;124m\"\u001b[39m\u001b[38;5;130;01m\\n\u001b[39;00m\u001b[38;5;124mРассчитываем \u001b[39m\u001b[38;5;124m'\u001b[39m\u001b[38;5;124mabc\u001b[39m\u001b[38;5;124m'\u001b[39m\u001b[38;5;124m + 123:\u001b[39m\u001b[38;5;124m\"\u001b[39m)\n\u001b[0;32m----> 7\u001b[0m     \u001b[38;5;28mprint\u001b[39m(\u001b[38;5;124;43m\"\u001b[39;49m\u001b[38;5;124;43mabc\u001b[39;49m\u001b[38;5;124;43m\"\u001b[39;49m\u001b[43m \u001b[49m\u001b[38;5;241;43m+\u001b[39;49m\u001b[43m \u001b[49m\u001b[38;5;241;43m123\u001b[39;49m)  \u001b[38;5;66;03m# Исключение не будет подавлено\u001b[39;00m\n",
      "\u001b[0;31mTypeError\u001b[0m: can only concatenate str (not \"int\") to str"
     ]
    }
   ],
   "source": [
    "with ExceptionLogger(suppress_exceptions=(ZeroDivisionError,)):\n",
    "    print(\"Рассчитываем 1 / 0:\")\n",
    "    print(1 / 0)  # Подавленное исключение\n",
    "\n",
    "with ExceptionLogger(suppress_exceptions=(ZeroDivisionError,)):\n",
    "    print(\"\\nРассчитываем 'abc' + 123:\")\n",
    "    print(\"abc\" + 123)  # Исключение не будет подавлено"
   ]
  },
  {
   "cell_type": "markdown",
   "id": "06b7f154",
   "metadata": {},
   "source": [
    "Пояснение кода\n",
    "\n",
    "1. Инициализация (`__init__`):\n",
    "    * Принимает список исключений, которые должны быть подавлены, в параметре suppress_exceptions.\n",
    "2.\tМетод `__exit__`:\n",
    "    * Если возникает исключение, его тип, сообщение и трассировка печатаются.\n",
    "    * Проверяет, есть ли исключение в списке suppress_exceptions.\n",
    "    * Если тип исключения входит в список подавляемых, возвращает True, и оно не выходит за пределы блока with.\n",
    "    * Если тип исключения не входит в список, возвращает False, и исключение пробрасывается."
   ]
  }
 ],
 "metadata": {
  "kernelspec": {
   "display_name": ".venv",
   "language": "python",
   "name": "python3"
  },
  "language_info": {
   "codemirror_mode": {
    "name": "ipython",
    "version": 3
   },
   "file_extension": ".py",
   "mimetype": "text/x-python",
   "name": "python",
   "nbconvert_exporter": "python",
   "pygments_lexer": "ipython3",
   "version": "3.13.0"
  }
 },
 "nbformat": 4,
 "nbformat_minor": 5
}
