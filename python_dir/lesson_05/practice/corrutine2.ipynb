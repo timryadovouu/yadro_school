{
 "cells": [
  {
   "cell_type": "code",
   "execution_count": 1,
   "id": "10190ab8",
   "metadata": {
    "ExecuteTime": {
     "end_time": "2024-10-24T16:59:55.383760Z",
     "start_time": "2024-10-24T16:59:55.364461Z"
    }
   },
   "outputs": [],
   "source": [
    "import time\n",
    "import random\n",
    "\n",
    "from collections import Counter"
   ]
  },
  {
   "cell_type": "code",
   "execution_count": 2,
   "id": "f7dffd8e",
   "metadata": {
    "ExecuteTime": {
     "end_time": "2024-10-24T16:59:56.067484Z",
     "start_time": "2024-10-24T16:59:56.054750Z"
    }
   },
   "outputs": [],
   "source": [
    "def consume():\n",
    "    nucls = []\n",
    "    while True:\n",
    "        data = yield\n",
    "        nucls.append(data)\n",
    "        freq = Counter(nucls)[\"A\"] / len(nucls)\n",
    "        print(\"Got data: {}\\nPercent of A: {}\\n\".format(data, freq))"
   ]
  },
  {
   "cell_type": "code",
   "execution_count": 3,
   "id": "6f0dffb9",
   "metadata": {
    "ExecuteTime": {
     "end_time": "2024-10-24T16:59:56.748138Z",
     "start_time": "2024-10-24T16:59:56.734209Z"
    }
   },
   "outputs": [],
   "source": [
    "def produce(consumer):\n",
    "    while True:\n",
    "        yield from sleep(0.5)\n",
    "        data = random.choice(\"AGCT\")\n",
    "        consumer.send(data)"
   ]
  },
  {
   "cell_type": "code",
   "execution_count": 4,
   "id": "61d1f646",
   "metadata": {
    "ExecuteTime": {
     "end_time": "2024-10-24T16:59:57.467956Z",
     "start_time": "2024-10-24T16:59:57.451531Z"
    }
   },
   "outputs": [],
   "source": [
    "def sleep(seconds):\n",
    "    initial_time = time.time()\n",
    "    while time.time() - initial_time < seconds:\n",
    "        yield\n"
   ]
  },
  {
   "cell_type": "code",
   "execution_count": 5,
   "id": "0d8368c4",
   "metadata": {
    "ExecuteTime": {
     "end_time": "2024-10-24T17:05:02.124288Z",
     "start_time": "2024-10-24T16:59:59.842057Z"
    }
   },
   "outputs": [
    {
     "name": "stdout",
     "output_type": "stream",
     "text": [
      "Got data: G\n",
      "Percent of A: 0.0\n",
      "\n",
      "Got data: C\n",
      "Percent of A: 0.0\n",
      "\n",
      "Got data: C\n",
      "Percent of A: 0.0\n",
      "\n",
      "Got data: C\n",
      "Percent of A: 0.0\n",
      "\n",
      "Got data: A\n",
      "Percent of A: 0.2\n",
      "\n",
      "Got data: T\n",
      "Percent of A: 0.16666666666666666\n",
      "\n",
      "Got data: A\n",
      "Percent of A: 0.2857142857142857\n",
      "\n",
      "Got data: T\n",
      "Percent of A: 0.25\n",
      "\n",
      "Got data: T\n",
      "Percent of A: 0.2222222222222222\n",
      "\n",
      "Got data: C\n",
      "Percent of A: 0.2\n",
      "\n",
      "Got data: T\n",
      "Percent of A: 0.18181818181818182\n",
      "\n",
      "Got data: A\n",
      "Percent of A: 0.25\n",
      "\n",
      "Got data: A\n",
      "Percent of A: 0.3076923076923077\n",
      "\n",
      "Got data: C\n",
      "Percent of A: 0.2857142857142857\n",
      "\n",
      "Got data: A\n",
      "Percent of A: 0.3333333333333333\n",
      "\n",
      "Got data: T\n",
      "Percent of A: 0.3125\n",
      "\n",
      "Got data: T\n",
      "Percent of A: 0.29411764705882354\n",
      "\n",
      "Got data: T\n",
      "Percent of A: 0.2777777777777778\n",
      "\n",
      "Got data: C\n",
      "Percent of A: 0.2631578947368421\n",
      "\n",
      "Got data: A\n",
      "Percent of A: 0.3\n",
      "\n",
      "Got data: T\n",
      "Percent of A: 0.2857142857142857\n",
      "\n",
      "Got data: A\n",
      "Percent of A: 0.3181818181818182\n",
      "\n",
      "Got data: A\n",
      "Percent of A: 0.34782608695652173\n",
      "\n",
      "Got data: C\n",
      "Percent of A: 0.3333333333333333\n",
      "\n",
      "Got data: G\n",
      "Percent of A: 0.32\n",
      "\n",
      "Got data: A\n",
      "Percent of A: 0.34615384615384615\n",
      "\n",
      "Got data: T\n",
      "Percent of A: 0.3333333333333333\n",
      "\n",
      "Got data: C\n",
      "Percent of A: 0.32142857142857145\n",
      "\n",
      "Got data: G\n",
      "Percent of A: 0.3103448275862069\n",
      "\n",
      "Got data: G\n",
      "Percent of A: 0.3\n",
      "\n"
     ]
    },
    {
     "ename": "KeyboardInterrupt",
     "evalue": "",
     "output_type": "error",
     "traceback": [
      "\u001b[0;31m---------------------------------------------------------------------------\u001b[0m",
      "\u001b[0;31mKeyboardInterrupt\u001b[0m                         Traceback (most recent call last)",
      "Cell \u001b[0;32mIn[5], line 5\u001b[0m\n\u001b[1;32m      3\u001b[0m producer \u001b[38;5;241m=\u001b[39m produce(consumer)\n\u001b[1;32m      4\u001b[0m \u001b[38;5;28;01mwhile\u001b[39;00m \u001b[38;5;28;01mTrue\u001b[39;00m:\n\u001b[0;32m----> 5\u001b[0m     \u001b[38;5;28;43mnext\u001b[39;49m\u001b[43m(\u001b[49m\u001b[43mproducer\u001b[49m\u001b[43m)\u001b[49m\n",
      "Cell \u001b[0;32mIn[3], line 3\u001b[0m, in \u001b[0;36mproduce\u001b[0;34m(consumer)\u001b[0m\n\u001b[1;32m      1\u001b[0m \u001b[38;5;28;01mdef\u001b[39;00m \u001b[38;5;21mproduce\u001b[39m(consumer):\n\u001b[1;32m      2\u001b[0m     \u001b[38;5;28;01mwhile\u001b[39;00m \u001b[38;5;28;01mTrue\u001b[39;00m:\n\u001b[0;32m----> 3\u001b[0m         \u001b[38;5;28;01myield from\u001b[39;00m sleep(\u001b[38;5;241m0.5\u001b[39m)\n\u001b[1;32m      4\u001b[0m         data \u001b[38;5;241m=\u001b[39m random\u001b[38;5;241m.\u001b[39mchoice(\u001b[38;5;124m\"\u001b[39m\u001b[38;5;124mAGCT\u001b[39m\u001b[38;5;124m\"\u001b[39m)\n\u001b[1;32m      5\u001b[0m         consumer\u001b[38;5;241m.\u001b[39msend(data)\n",
      "Cell \u001b[0;32mIn[4], line 3\u001b[0m, in \u001b[0;36msleep\u001b[0;34m(seconds)\u001b[0m\n\u001b[1;32m      1\u001b[0m \u001b[38;5;28;01mdef\u001b[39;00m \u001b[38;5;21msleep\u001b[39m(seconds):\n\u001b[1;32m      2\u001b[0m     initial_time \u001b[38;5;241m=\u001b[39m time\u001b[38;5;241m.\u001b[39mtime()\n\u001b[0;32m----> 3\u001b[0m     \u001b[38;5;28;01mwhile\u001b[39;00m \u001b[43mtime\u001b[49m\u001b[38;5;241;43m.\u001b[39;49m\u001b[43mtime\u001b[49m\u001b[43m(\u001b[49m\u001b[43m)\u001b[49m \u001b[38;5;241m-\u001b[39m initial_time \u001b[38;5;241m<\u001b[39m seconds:\n\u001b[1;32m      4\u001b[0m         \u001b[38;5;28;01myield\u001b[39;00m\n",
      "\u001b[0;31mKeyboardInterrupt\u001b[0m: "
     ]
    }
   ],
   "source": [
    "consumer = consume()\n",
    "consumer.send(None)\n",
    "producer = produce(consumer)\n",
    "while True:\n",
    "    next(producer)"
   ]
  }
 ],
 "metadata": {
  "kernelspec": {
   "display_name": ".venv",
   "language": "python",
   "name": "python3"
  },
  "language_info": {
   "codemirror_mode": {
    "name": "ipython",
    "version": 3
   },
   "file_extension": ".py",
   "mimetype": "text/x-python",
   "name": "python",
   "nbconvert_exporter": "python",
   "pygments_lexer": "ipython3",
   "version": "3.13.0"
  }
 },
 "nbformat": 4,
 "nbformat_minor": 5
}
