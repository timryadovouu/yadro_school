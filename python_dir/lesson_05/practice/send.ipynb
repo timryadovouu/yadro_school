{
 "cells": [
  {
   "cell_type": "code",
   "execution_count": 1,
   "id": "900a83a5",
   "metadata": {
    "ExecuteTime": {
     "end_time": "2024-10-24T16:48:22.202667Z",
     "start_time": "2024-10-24T16:48:22.187970Z"
    }
   },
   "outputs": [],
   "source": [
    "def my_generator():\n",
    "    print(\"Генератор стартовал\")\n",
    "    value = yield \"Первое значение\"\n",
    "    print(f\"Получено значение: {value}\")\n",
    "    value = yield value * 2\n",
    "    print(f\"Получено новое значение: {value}\")\n",
    "    yield \"Конец\""
   ]
  },
  {
   "cell_type": "code",
   "execution_count": 2,
   "id": "a0c30d26",
   "metadata": {},
   "outputs": [
    {
     "ename": "SyntaxError",
     "evalue": "invalid syntax (3926713265.py, line 3)",
     "output_type": "error",
     "traceback": [
      "\u001b[0;36m  Cell \u001b[0;32mIn[2], line 3\u001b[0;36m\u001b[0m\n\u001b[0;31m    ..\u001b[0m\n\u001b[0m    ^\u001b[0m\n\u001b[0;31mSyntaxError\u001b[0m\u001b[0;31m:\u001b[0m invalid syntax\n"
     ]
    }
   ],
   "source": [
    "def gen(state):\n",
    "    state\n",
    "    ..\n",
    "    ..\n",
    "    while True:\n",
    "        el = yield handle(el)"
   ]
  },
  {
   "cell_type": "code",
   "execution_count": 12,
   "id": "5955181a",
   "metadata": {
    "ExecuteTime": {
     "end_time": "2024-10-24T16:48:22.799785Z",
     "start_time": "2024-10-24T16:48:22.789530Z"
    }
   },
   "outputs": [],
   "source": [
    "gen = my_generator()"
   ]
  },
  {
   "cell_type": "code",
   "execution_count": 13,
   "id": "e02cd745",
   "metadata": {
    "ExecuteTime": {
     "end_time": "2024-10-24T16:48:23.326009Z",
     "start_time": "2024-10-24T16:48:23.311277Z"
    }
   },
   "outputs": [
    {
     "name": "stdout",
     "output_type": "stream",
     "text": [
      "Генератор стартовал\n",
      "Первое значение\n"
     ]
    }
   ],
   "source": [
    "print(next(gen)) ## print(gen.send(None))"
   ]
  },
  {
   "cell_type": "code",
   "execution_count": 14,
   "id": "93b87b94",
   "metadata": {
    "ExecuteTime": {
     "end_time": "2024-10-24T16:48:24.138143Z",
     "start_time": "2024-10-24T16:48:24.031635Z"
    },
    "collapsed": true
   },
   "outputs": [
    {
     "name": "stdout",
     "output_type": "stream",
     "text": [
      "Получено значение: None\n"
     ]
    },
    {
     "ename": "TypeError",
     "evalue": "unsupported operand type(s) for *: 'NoneType' and 'int'",
     "output_type": "error",
     "traceback": [
      "\u001b[0;31m---------------------------------------------------------------------------\u001b[0m",
      "\u001b[0;31mTypeError\u001b[0m                                 Traceback (most recent call last)",
      "\u001b[0;32m/var/folders/wm/khkwk2g178n7h8ngdvlc9htr0000gp/T/ipykernel_37662/2955553870.py\u001b[0m in \u001b[0;36m<module>\u001b[0;34m\u001b[0m\n\u001b[0;32m----> 1\u001b[0;31m \u001b[0mprint\u001b[0m\u001b[0;34m(\u001b[0m\u001b[0mnext\u001b[0m\u001b[0;34m(\u001b[0m\u001b[0mgen\u001b[0m\u001b[0;34m)\u001b[0m\u001b[0;34m)\u001b[0m\u001b[0;34m\u001b[0m\u001b[0;34m\u001b[0m\u001b[0m\n\u001b[0m",
      "\u001b[0;32m/var/folders/wm/khkwk2g178n7h8ngdvlc9htr0000gp/T/ipykernel_37662/1335070417.py\u001b[0m in \u001b[0;36mmy_generator\u001b[0;34m()\u001b[0m\n\u001b[1;32m      3\u001b[0m     \u001b[0mvalue\u001b[0m \u001b[0;34m=\u001b[0m \u001b[0;32myield\u001b[0m \u001b[0;34m\"Первое значение\"\u001b[0m\u001b[0;34m\u001b[0m\u001b[0;34m\u001b[0m\u001b[0m\n\u001b[1;32m      4\u001b[0m     \u001b[0mprint\u001b[0m\u001b[0;34m(\u001b[0m\u001b[0;34mf\"Получено значение: {value}\"\u001b[0m\u001b[0;34m)\u001b[0m\u001b[0;34m\u001b[0m\u001b[0;34m\u001b[0m\u001b[0m\n\u001b[0;32m----> 5\u001b[0;31m     \u001b[0mvalue\u001b[0m \u001b[0;34m=\u001b[0m \u001b[0;32myield\u001b[0m \u001b[0mvalue\u001b[0m \u001b[0;34m*\u001b[0m \u001b[0;36m2\u001b[0m\u001b[0;34m\u001b[0m\u001b[0;34m\u001b[0m\u001b[0m\n\u001b[0m\u001b[1;32m      6\u001b[0m     \u001b[0mprint\u001b[0m\u001b[0;34m(\u001b[0m\u001b[0;34mf\"Получено новое значение: {value}\"\u001b[0m\u001b[0;34m)\u001b[0m\u001b[0;34m\u001b[0m\u001b[0;34m\u001b[0m\u001b[0m\n\u001b[1;32m      7\u001b[0m     \u001b[0;32myield\u001b[0m \u001b[0;34m\"Конец\"\u001b[0m\u001b[0;34m\u001b[0m\u001b[0;34m\u001b[0m\u001b[0m\n",
      "\u001b[0;31mTypeError\u001b[0m: unsupported operand type(s) for *: 'NoneType' and 'int'"
     ]
    }
   ],
   "source": [
    "print(next(gen))"
   ]
  },
  {
   "cell_type": "code",
   "execution_count": 9,
   "id": "dbb4058b",
   "metadata": {
    "ExecuteTime": {
     "end_time": "2024-10-24T16:47:22.984099Z",
     "start_time": "2024-10-24T16:47:22.972228Z"
    }
   },
   "outputs": [
    {
     "name": "stdout",
     "output_type": "stream",
     "text": [
      "Получено значение: 10\n",
      "20\n"
     ]
    }
   ],
   "source": [
    "print(gen.send(10))"
   ]
  },
  {
   "cell_type": "code",
   "execution_count": 10,
   "id": "fd5ec7e1",
   "metadata": {
    "ExecuteTime": {
     "end_time": "2024-10-24T16:47:39.614759Z",
     "start_time": "2024-10-24T16:47:39.591956Z"
    }
   },
   "outputs": [
    {
     "name": "stdout",
     "output_type": "stream",
     "text": [
      "Получено новое значение: 5\n",
      "Конец\n"
     ]
    }
   ],
   "source": [
    "print(gen.send(5))"
   ]
  }
 ],
 "metadata": {
  "kernelspec": {
   "display_name": ".venv",
   "language": "python",
   "name": "python3"
  },
  "language_info": {
   "codemirror_mode": {
    "name": "ipython",
    "version": 3
   },
   "file_extension": ".py",
   "mimetype": "text/x-python",
   "name": "python",
   "nbconvert_exporter": "python",
   "pygments_lexer": "ipython3",
   "version": "3.13.0"
  }
 },
 "nbformat": 4,
 "nbformat_minor": 5
}
